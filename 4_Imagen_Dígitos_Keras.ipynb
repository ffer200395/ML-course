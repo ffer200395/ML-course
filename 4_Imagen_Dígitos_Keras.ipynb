{
  "nbformat": 4,
  "nbformat_minor": 0,
  "metadata": {
    "colab": {
      "provenance": [],
      "authorship_tag": "ABX9TyNR1iV9Br7xm8xVdMhcGbaq",
      "include_colab_link": true
    },
    "kernelspec": {
      "name": "python3",
      "display_name": "Python 3"
    },
    "language_info": {
      "name": "python"
    }
  },
  "cells": [
    {
      "cell_type": "markdown",
      "metadata": {
        "id": "view-in-github",
        "colab_type": "text"
      },
      "source": [
        "<a href=\"https://colab.research.google.com/github/ffer200395/ML-course/blob/main/4_Imagen_D%C3%ADgitos_Keras.ipynb\" target=\"_parent\"><img src=\"https://colab.research.google.com/assets/colab-badge.svg\" alt=\"Open In Colab\"/></a>"
      ]
    },
    {
      "cell_type": "code",
      "source": [
        "from sklearn.datasets import load_digits\n",
        "import matplotlib.pyplot as plt\n",
        "from sklearn.model_selection import train_test_split\n",
        "from sklearn.ensemble import RandomForestClassifier\n",
        "from sklearn.model_selection import RandomizedSearchCV\n",
        "from sklearn.metrics import *\n",
        "import numpy as np\n",
        "import pandas as pd\n",
        "from sklearn.metrics import classification_report\n",
        "from sklearn.metrics import multilabel_confusion_matrix"
      ],
      "metadata": {
        "id": "Ud7ids8YZI3W"
      },
      "execution_count": null,
      "outputs": []
    },
    {
      "cell_type": "code",
      "source": [
        "# Cargamos los datos de dígitos\n",
        "data = load_digits().data"
      ],
      "metadata": {
        "id": "vnkhHAQSZOMw"
      },
      "execution_count": null,
      "outputs": []
    },
    {
      "cell_type": "code",
      "source": [
        "# Cada una de las imágenes está compuesta por 8x8 píxeles\n",
        "load_digits().images.shape"
      ],
      "metadata": {
        "colab": {
          "base_uri": "https://localhost:8080/"
        },
        "id": "m2GEHvYPZo07",
        "outputId": "afab65e5-1f7c-4bc5-fa0c-d507a7d08e6f"
      },
      "execution_count": null,
      "outputs": [
        {
          "output_type": "execute_result",
          "data": {
            "text/plain": [
              "(1797, 8, 8)"
            ]
          },
          "metadata": {},
          "execution_count": 11
        }
      ]
    },
    {
      "cell_type": "code",
      "source": [
        "# Mostamos una imágen de ejemplo de nuestro dataset\n",
        "plt.gray()\n",
        "plt.matshow(load_digits().images[3])\n",
        "plt.show()"
      ],
      "metadata": {
        "colab": {
          "base_uri": "https://localhost:8080/",
          "height": 292
        },
        "id": "BrbNMxM5aAL0",
        "outputId": "6aa0f309-67ee-4e9c-ab9e-5120e3f24ace"
      },
      "execution_count": null,
      "outputs": [
        {
          "output_type": "display_data",
          "data": {
            "text/plain": [
              "<Figure size 432x288 with 0 Axes>"
            ]
          },
          "metadata": {}
        },
        {
          "output_type": "display_data",
          "data": {
            "text/plain": [
              "<Figure size 288x288 with 1 Axes>"
            ],
            "image/png": "[encoded data removed]"
          },
          "metadata": {
            "needs_background": "light"
          }
        }
      ]
    },
    {
      "cell_type": "code",
      "source": [
        "# Las imágenes han sido transformadas en vectores de longitud 64 (8x8 pixeles)\n",
        "data.shape"
      ],
      "metadata": {
        "colab": {
          "base_uri": "https://localhost:8080/"
        },
        "id": "eOkMhfHDZkXs",
        "outputId": "40932a07-f90a-42cf-94dc-bdcb64a19263"
      },
      "execution_count": null,
      "outputs": [
        {
          "output_type": "execute_result",
          "data": {
            "text/plain": [
              "(1797, 64)"
            ]
          },
          "metadata": {},
          "execution_count": 9
        }
      ]
    },
    {
      "cell_type": "code",
      "source": [
        "# El target es la variable dependiente\n",
        "load_digits().target"
      ],
      "metadata": {
        "colab": {
          "base_uri": "https://localhost:8080/"
        },
        "id": "xc7Kp2sLZT6Q",
        "outputId": "7b40c949-7ca7-4563-e997-358a506d98b9"
      },
      "execution_count": null,
      "outputs": [
        {
          "output_type": "execute_result",
          "data": {
            "text/plain": [
              "array([0, 1, 2, ..., 8, 9, 8])"
            ]
          },
          "metadata": {},
          "execution_count": 15
        }
      ]
    },
    {
      "cell_type": "code",
      "source": [
        "# Creamos las variables X e y (vectores de imágenes y su correspondiente etiqueta)\n",
        "X, y = data, load_digits().target"
      ],
      "metadata": {
        "id": "Aas1bxyla1zz"
      },
      "execution_count": null,
      "outputs": []
    },
    {
      "cell_type": "code",
      "source": [
        "# Vemos que los valores no están normalizados\n",
        "X[4]"
      ],
      "metadata": {
        "colab": {
          "base_uri": "https://localhost:8080/"
        },
        "id": "slF0q2CebGD4",
        "outputId": "20d5bd5b-bdb7-46c0-e75f-3c63524c74c0"
      },
      "execution_count": null,
      "outputs": [
        {
          "output_type": "execute_result",
          "data": {
            "text/plain": [
              "array([ 0.,  0.,  0.,  1., 11.,  0.,  0.,  0.,  0.,  0.,  0.,  7.,  8.,\n",
              "        0.,  0.,  0.,  0.,  0.,  1., 13.,  6.,  2.,  2.,  0.,  0.,  0.,\n",
              "        7., 15.,  0.,  9.,  8.,  0.,  0.,  5., 16., 10.,  0., 16.,  6.,\n",
              "        0.,  0.,  4., 15., 16., 13., 16.,  1.,  0.,  0.,  0.,  0.,  3.,\n",
              "       15., 10.,  0.,  0.,  0.,  0.,  0.,  2., 16.,  4.,  0.,  0.])"
            ]
          },
          "metadata": {},
          "execution_count": 20
        }
      ]
    },
    {
      "cell_type": "code",
      "source": [
        "# Normalizamos dividiendo entre el valor máximo\n",
        "X = X/16"
      ],
      "metadata": {
        "id": "AongIwbrbbHh"
      },
      "execution_count": null,
      "outputs": []
    },
    {
      "cell_type": "code",
      "source": [
        "X[4]"
      ],
      "metadata": {
        "colab": {
          "base_uri": "https://localhost:8080/"
        },
        "id": "MYuWdcpBbldD",
        "outputId": "df2ca281-d516-4fac-e88a-178ccc42a71e"
      },
      "execution_count": null,
      "outputs": [
        {
          "output_type": "execute_result",
          "data": {
            "text/plain": [
              "array([0.    , 0.    , 0.    , 0.0625, 0.6875, 0.    , 0.    , 0.    ,\n",
              "       0.    , 0.    , 0.    , 0.4375, 0.5   , 0.    , 0.    , 0.    ,\n",
              "       0.    , 0.    , 0.0625, 0.8125, 0.375 , 0.125 , 0.125 , 0.    ,\n",
              "       0.    , 0.    , 0.4375, 0.9375, 0.    , 0.5625, 0.5   , 0.    ,\n",
              "       0.    , 0.3125, 1.    , 0.625 , 0.    , 1.    , 0.375 , 0.    ,\n",
              "       0.    , 0.25  , 0.9375, 1.    , 0.8125, 1.    , 0.0625, 0.    ,\n",
              "       0.    , 0.    , 0.    , 0.1875, 0.9375, 0.625 , 0.    , 0.    ,\n",
              "       0.    , 0.    , 0.    , 0.125 , 1.    , 0.25  , 0.    , 0.    ])"
            ]
          },
          "metadata": {},
          "execution_count": 22
        }
      ]
    },
    {
      "cell_type": "code",
      "source": [
        "# Rompemos el dataset en los conjuntos de entrenamiento y testeo\n",
        "X_train, X_test, y_train, y_test = train_test_split(X, y, test_size=0.2, random_state=42)"
      ],
      "metadata": {
        "id": "QkQSTVNwbvR2"
      },
      "execution_count": null,
      "outputs": []
    },
    {
      "cell_type": "code",
      "source": [
        "# Especificamos el estimador así como los hiperparámetros del mismo dónde realizar la búsqueda\n",
        "estimator = RandomForestClassifier()\n",
        "hp = dict(criterion = ['gini', 'entropy'], n_estimators = range(10,260,10), max_depth = range(2,32,2))"
      ],
      "metadata": {
        "id": "iGxEQwgVdGpW"
      },
      "execution_count": null,
      "outputs": []
    },
    {
      "cell_type": "code",
      "source": [
        "# Vamos a realizar una búsqueda aleatoria de hiperparámetros\n",
        "random_search = RandomizedSearchCV(estimator, hp, random_state=42, n_iter = 20, verbose = 2).fit(X_train, y_train)"
      ],
      "metadata": {
        "colab": {
          "base_uri": "https://localhost:8080/"
        },
        "id": "IYakpQaQcJ6M",
        "outputId": "9535aae7-5e26-4d6d-bdfb-094d6e30229c"
      },
      "execution_count": null,
      "outputs": [
        {
          "output_type": "stream",
          "name": "stdout",
          "text": [
            "Fitting 5 folds for each of 20 candidates, totalling 100 fits\n",
            "[CV] END ...criterion=entropy, max_depth=12, n_estimators=70; total time=   0.3s\n",
            "[CV] END ...criterion=entropy, max_depth=12, n_estimators=70; total time=   0.3s\n",
            "[CV] END ...criterion=entropy, max_depth=12, n_estimators=70; total time=   0.3s\n",
            "[CV] END ...criterion=entropy, max_depth=12, n_estimators=70; total time=   0.3s\n",
            "[CV] END ...criterion=entropy, max_depth=12, n_estimators=70; total time=   0.3s\n",
            "[CV] END ......criterion=gini, max_depth=30, n_estimators=80; total time=   0.3s\n",
            "[CV] END ......criterion=gini, max_depth=30, n_estimators=80; total time=   0.3s\n",
            "[CV] END ......criterion=gini, max_depth=30, n_estimators=80; total time=   0.3s\n",
            "[CV] END ......criterion=gini, max_depth=30, n_estimators=80; total time=   0.3s\n",
            "[CV] END ......criterion=gini, max_depth=30, n_estimators=80; total time=   0.3s\n",
            "[CV] END ......criterion=gini, max_depth=12, n_estimators=90; total time=   0.3s\n",
            "[CV] END ......criterion=gini, max_depth=12, n_estimators=90; total time=   0.3s\n",
            "[CV] END ......criterion=gini, max_depth=12, n_estimators=90; total time=   0.3s\n",
            "[CV] END ......criterion=gini, max_depth=12, n_estimators=90; total time=   0.3s\n",
            "[CV] END ......criterion=gini, max_depth=12, n_estimators=90; total time=   0.3s\n",
            "[CV] END ......criterion=gini, max_depth=22, n_estimators=10; total time=   0.0s\n",
            "[CV] END ......criterion=gini, max_depth=22, n_estimators=10; total time=   0.0s\n",
            "[CV] END ......criterion=gini, max_depth=22, n_estimators=10; total time=   0.0s\n",
            "[CV] END ......criterion=gini, max_depth=22, n_estimators=10; total time=   0.0s\n",
            "[CV] END ......criterion=gini, max_depth=22, n_estimators=10; total time=   0.0s\n",
            "[CV] END .....criterion=gini, max_depth=24, n_estimators=250; total time=   0.8s\n",
            "[CV] END .....criterion=gini, max_depth=24, n_estimators=250; total time=   0.8s\n",
            "[CV] END .....criterion=gini, max_depth=24, n_estimators=250; total time=   1.3s\n",
            "[CV] END .....criterion=gini, max_depth=24, n_estimators=250; total time=   0.8s\n",
            "[CV] END .....criterion=gini, max_depth=24, n_estimators=250; total time=   0.8s\n",
            "[CV] END ...criterion=entropy, max_depth=26, n_estimators=60; total time=   0.3s\n",
            "[CV] END ...criterion=entropy, max_depth=26, n_estimators=60; total time=   0.3s\n",
            "[CV] END ...criterion=entropy, max_depth=26, n_estimators=60; total time=   0.3s\n",
            "[CV] END ...criterion=entropy, max_depth=26, n_estimators=60; total time=   0.3s\n",
            "[CV] END ...criterion=entropy, max_depth=26, n_estimators=60; total time=   0.3s\n",
            "[CV] END .....criterion=gini, max_depth=28, n_estimators=120; total time=   0.4s\n",
            "[CV] END .....criterion=gini, max_depth=28, n_estimators=120; total time=   0.4s\n",
            "[CV] END .....criterion=gini, max_depth=28, n_estimators=120; total time=   0.4s\n",
            "[CV] END .....criterion=gini, max_depth=28, n_estimators=120; total time=   0.4s\n",
            "[CV] END .....criterion=gini, max_depth=28, n_estimators=120; total time=   0.4s\n",
            "[CV] END ......criterion=gini, max_depth=14, n_estimators=60; total time=   0.2s\n",
            "[CV] END ......criterion=gini, max_depth=14, n_estimators=60; total time=   0.2s\n",
            "[CV] END ......criterion=gini, max_depth=14, n_estimators=60; total time=   0.2s\n",
            "[CV] END ......criterion=gini, max_depth=14, n_estimators=60; total time=   0.2s\n",
            "[CV] END ......criterion=gini, max_depth=14, n_estimators=60; total time=   0.2s\n",
            "[CV] END ...criterion=entropy, max_depth=14, n_estimators=40; total time=   0.2s\n",
            "[CV] END ...criterion=entropy, max_depth=14, n_estimators=40; total time=   0.2s\n",
            "[CV] END ...criterion=entropy, max_depth=14, n_estimators=40; total time=   0.2s\n",
            "[CV] END ...criterion=entropy, max_depth=14, n_estimators=40; total time=   0.2s\n",
            "[CV] END ...criterion=entropy, max_depth=14, n_estimators=40; total time=   0.2s\n",
            "[CV] END ..criterion=entropy, max_depth=30, n_estimators=120; total time=   0.6s\n",
            "[CV] END ..criterion=entropy, max_depth=30, n_estimators=120; total time=   0.5s\n",
            "[CV] END ..criterion=entropy, max_depth=30, n_estimators=120; total time=   0.6s\n",
            "[CV] END ..criterion=entropy, max_depth=30, n_estimators=120; total time=   0.6s\n",
            "[CV] END ..criterion=entropy, max_depth=30, n_estimators=120; total time=   0.5s\n",
            "[CV] END ......criterion=gini, max_depth=8, n_estimators=230; total time=   0.7s\n",
            "[CV] END ......criterion=gini, max_depth=8, n_estimators=230; total time=   0.7s\n",
            "[CV] END ......criterion=gini, max_depth=8, n_estimators=230; total time=   0.7s\n",
            "[CV] END ......criterion=gini, max_depth=8, n_estimators=230; total time=   0.7s\n",
            "[CV] END ......criterion=gini, max_depth=8, n_estimators=230; total time=   0.7s\n",
            "[CV] END ......criterion=gini, max_depth=26, n_estimators=70; total time=   0.2s\n",
            "[CV] END ......criterion=gini, max_depth=26, n_estimators=70; total time=   0.2s\n",
            "[CV] END ......criterion=gini, max_depth=26, n_estimators=70; total time=   0.2s\n",
            "[CV] END ......criterion=gini, max_depth=26, n_estimators=70; total time=   0.2s\n",
            "[CV] END ......criterion=gini, max_depth=26, n_estimators=70; total time=   0.2s\n",
            "[CV] END ......criterion=gini, max_depth=24, n_estimators=70; total time=   0.2s\n",
            "[CV] END ......criterion=gini, max_depth=24, n_estimators=70; total time=   0.2s\n",
            "[CV] END ......criterion=gini, max_depth=24, n_estimators=70; total time=   0.2s\n",
            "[CV] END ......criterion=gini, max_depth=24, n_estimators=70; total time=   0.2s\n",
            "[CV] END ......criterion=gini, max_depth=24, n_estimators=70; total time=   0.2s\n",
            "[CV] END ..criterion=entropy, max_depth=30, n_estimators=220; total time=   1.0s\n",
            "[CV] END ..criterion=entropy, max_depth=30, n_estimators=220; total time=   1.0s\n",
            "[CV] END ..criterion=entropy, max_depth=30, n_estimators=220; total time=   1.0s\n",
            "[CV] END ..criterion=entropy, max_depth=30, n_estimators=220; total time=   1.0s\n",
            "[CV] END ..criterion=entropy, max_depth=30, n_estimators=220; total time=   1.0s\n",
            "[CV] END .....criterion=gini, max_depth=18, n_estimators=120; total time=   0.4s\n",
            "[CV] END .....criterion=gini, max_depth=18, n_estimators=120; total time=   0.4s\n",
            "[CV] END .....criterion=gini, max_depth=18, n_estimators=120; total time=   0.4s\n",
            "[CV] END .....criterion=gini, max_depth=18, n_estimators=120; total time=   0.4s\n",
            "[CV] END .....criterion=gini, max_depth=18, n_estimators=120; total time=   0.4s\n",
            "[CV] END .....criterion=gini, max_depth=22, n_estimators=170; total time=   0.5s\n",
            "[CV] END .....criterion=gini, max_depth=22, n_estimators=170; total time=   0.6s\n",
            "[CV] END .....criterion=gini, max_depth=22, n_estimators=170; total time=   0.5s\n",
            "[CV] END .....criterion=gini, max_depth=22, n_estimators=170; total time=   0.6s\n",
            "[CV] END .....criterion=gini, max_depth=22, n_estimators=170; total time=   0.6s\n",
            "[CV] END ......criterion=gini, max_depth=4, n_estimators=150; total time=   0.3s\n",
            "[CV] END ......criterion=gini, max_depth=4, n_estimators=150; total time=   0.3s\n",
            "[CV] END ......criterion=gini, max_depth=4, n_estimators=150; total time=   0.3s\n",
            "[CV] END ......criterion=gini, max_depth=4, n_estimators=150; total time=   0.3s\n",
            "[CV] END ......criterion=gini, max_depth=4, n_estimators=150; total time=   0.3s\n",
            "[CV] END .....criterion=gini, max_depth=20, n_estimators=230; total time=   0.8s\n",
            "[CV] END .....criterion=gini, max_depth=20, n_estimators=230; total time=   0.8s\n",
            "[CV] END .....criterion=gini, max_depth=20, n_estimators=230; total time=   0.8s\n",
            "[CV] END .....criterion=gini, max_depth=20, n_estimators=230; total time=   0.7s\n",
            "[CV] END .....criterion=gini, max_depth=20, n_estimators=230; total time=   0.7s\n",
            "[CV] END .....criterion=gini, max_depth=30, n_estimators=130; total time=   0.4s\n",
            "[CV] END .....criterion=gini, max_depth=30, n_estimators=130; total time=   0.4s\n",
            "[CV] END .....criterion=gini, max_depth=30, n_estimators=130; total time=   0.4s\n",
            "[CV] END .....criterion=gini, max_depth=30, n_estimators=130; total time=   0.4s\n",
            "[CV] END .....criterion=gini, max_depth=30, n_estimators=130; total time=   0.9s\n",
            "[CV] END ..criterion=entropy, max_depth=14, n_estimators=140; total time=   1.1s\n",
            "[CV] END ..criterion=entropy, max_depth=14, n_estimators=140; total time=   0.6s\n",
            "[CV] END ..criterion=entropy, max_depth=14, n_estimators=140; total time=   0.6s\n",
            "[CV] END ..criterion=entropy, max_depth=14, n_estimators=140; total time=   0.7s\n",
            "[CV] END ..criterion=entropy, max_depth=14, n_estimators=140; total time=   0.6s\n"
          ]
        }
      ]
    },
    {
      "cell_type": "code",
      "source": [
        "# Mejor combinación encontrada sobre un muestreo aleatorio de tamaño 20\n",
        "random_search.best_params_"
      ],
      "metadata": {
        "colab": {
          "base_uri": "https://localhost:8080/"
        },
        "id": "0yA6SVjnfNSl",
        "outputId": "63b74283-fadd-4e33-adb6-a155e3557eac"
      },
      "execution_count": null,
      "outputs": [
        {
          "output_type": "execute_result",
          "data": {
            "text/plain": [
              "{'n_estimators': 130, 'max_depth': 30, 'criterion': 'gini'}"
            ]
          },
          "metadata": {},
          "execution_count": 32
        }
      ]
    },
    {
      "cell_type": "code",
      "source": [
        "# Resultado obtenido sobre la validación cruzada de 5 plieges\n",
        "random_search.best_score_"
      ],
      "metadata": {
        "colab": {
          "base_uri": "https://localhost:8080/"
        },
        "id": "Bo685dQEfi0T",
        "outputId": "028f0668-2e58-4de3-c092-aa700c9ec0bc"
      },
      "execution_count": null,
      "outputs": [
        {
          "output_type": "execute_result",
          "data": {
            "text/plain": [
              "0.979123112659698"
            ]
          },
          "metadata": {},
          "execution_count": 33
        }
      ]
    },
    {
      "cell_type": "code",
      "source": [
        "# Aplicamos el modelo sobre los conjuntos de entrenamiento y testeo\n",
        "yhat_train = random_search.predict(X_train)\n",
        "yhat_test = random_search.predict(X_test)"
      ],
      "metadata": {
        "id": "c3XnMV5hfsZd"
      },
      "execution_count": null,
      "outputs": []
    },
    {
      "cell_type": "code",
      "source": [
        "# Evaluamos los resultados obtenidos\n",
        "print(f'Accuracy: {np.round(accuracy_score(y_train,yhat_train),2)}')\n",
        "print(classification_report(y_train,yhat_train))\n",
        "print(f'Accuracy: {np.round(accuracy_score(y_test,yhat_test),2)}')\n",
        "print(classification_report(y_test,yhat_test))"
      ],
      "metadata": {
        "colab": {
          "base_uri": "https://localhost:8080/"
        },
        "id": "vBTrDtzegRin",
        "outputId": "a9e85a26-e09a-4e43-ff70-800c0f0e8e2a"
      },
      "execution_count": null,
      "outputs": [
        {
          "output_type": "stream",
          "name": "stdout",
          "text": [
            "Accuracy: 1.0\n",
            "              precision    recall  f1-score   support\n",
            "\n",
            "           0       1.00      1.00      1.00       145\n",
            "           1       1.00      1.00      1.00       154\n",
            "           2       1.00      1.00      1.00       144\n",
            "           3       1.00      1.00      1.00       149\n",
            "           4       1.00      1.00      1.00       135\n",
            "           5       1.00      1.00      1.00       135\n",
            "           6       1.00      1.00      1.00       146\n",
            "           7       1.00      1.00      1.00       145\n",
            "           8       1.00      1.00      1.00       144\n",
            "           9       1.00      1.00      1.00       140\n",
            "\n",
            "    accuracy                           1.00      1437\n",
            "   macro avg       1.00      1.00      1.00      1437\n",
            "weighted avg       1.00      1.00      1.00      1437\n",
            "\n",
            "Accuracy: 0.98\n",
            "              precision    recall  f1-score   support\n",
            "\n",
            "           0       1.00      0.97      0.98        33\n",
            "           1       0.97      1.00      0.98        28\n",
            "           2       1.00      1.00      1.00        33\n",
            "           3       1.00      0.94      0.97        34\n",
            "           4       0.98      1.00      0.99        46\n",
            "           5       0.94      0.98      0.96        47\n",
            "           6       0.97      0.97      0.97        35\n",
            "           7       0.97      0.97      0.97        34\n",
            "           8       0.97      0.97      0.97        30\n",
            "           9       0.97      0.95      0.96        40\n",
            "\n",
            "    accuracy                           0.97       360\n",
            "   macro avg       0.98      0.97      0.98       360\n",
            "weighted avg       0.98      0.97      0.97       360\n",
            "\n"
          ]
        }
      ]
    },
    {
      "cell_type": "code",
      "source": [
        "import pandas as pd\n",
        "from sklearn.metrics import confusion_matrix\n",
        "# Creating  a confusion matrix,which compares the y_test and y_pred\n",
        "cm = confusion_matrix(y_test, yhat_test)\n",
        "cm_df = pd.DataFrame(cm)"
      ],
      "metadata": {
        "id": "jdtUvRmphtAD"
      },
      "execution_count": null,
      "outputs": []
    },
    {
      "cell_type": "code",
      "source": [
        "import seaborn as sns\n",
        "plt.figure(figsize=(5,4))\n",
        "sns.heatmap(cm_df, annot=True)\n",
        "plt.title('Confusion Matrix')\n",
        "plt.ylabel('Actal Values')\n",
        "plt.xlabel('Predicted Values')\n",
        "plt.show()"
      ],
      "metadata": {
        "colab": {
          "base_uri": "https://localhost:8080/",
          "height": 295
        },
        "id": "vMZyrqqHis5y",
        "outputId": "cf37f49e-2bbb-428f-a1d4-e13eea3ab77e"
      },
      "execution_count": null,
      "outputs": [
        {
          "output_type": "display_data",
          "data": {
            "text/plain": [
              "<Figure size 360x288 with 2 Axes>"
            ],
            "image/png": "[encoded data removed]"
          },
          "metadata": {
            "needs_background": "light"
          }
        }
      ]
    },
    {
      "cell_type": "markdown",
      "source": [
        "## Keras"
      ],
      "metadata": {
        "id": "41rFGvRKkLN5"
      }
    },
    {
      "cell_type": "code",
      "source": [
        "from tensorflow.keras.models import Sequential\n",
        "from tensorflow.keras.layers import Input, Dense, Dropout\n",
        "from tensorflow.keras.callbacks import Callback\n",
        "from tensorflow.keras.utils import plot_model\n",
        "from keras.metrics import *\n",
        "from keras.utils.vis_utils import plot_model\n",
        "from keras.callbacks import EarlyStopping"
      ],
      "metadata": {
        "id": "FcOAaiKsQiaM"
      },
      "execution_count": null,
      "outputs": []
    },
    {
      "cell_type": "code",
      "source": [
        "# Especificamos las capas que compondrán la red\n",
        "capa_input = Input(shape=(64,)) # 64 porque las imágenes fueron transformadas a vectores de longitud 64 (8x8)\n",
        "capa_intermedia = Dense(units = 30, activation = 'relu', kernel_initializer = 'he_uniform')\n",
        "capa_dropout = Dropout(.1)\n",
        "capa_output = Dense(units = 10, activation='softmax') # Capa con 10 nodos y función de activación softmax ya que estamos ante un problema de clasificación multiclase"
      ],
      "metadata": {
        "id": "Cv3lT3Kmkixt"
      },
      "execution_count": null,
      "outputs": []
    },
    {
      "cell_type": "code",
      "source": [
        "# Añadir cada una de las capas al modelo\n",
        "model = Sequential()\n",
        "model.add(capa_input)\n",
        "model.add(capa_intermedia)\n",
        "model.add(capa_dropout)\n",
        "model.add(capa_output)"
      ],
      "metadata": {
        "id": "vV4c13D3mU3R"
      },
      "execution_count": null,
      "outputs": []
    },
    {
      "cell_type": "code",
      "source": [
        "# Compilamos el modelo\n",
        "METRICS = ['accuracy', Precision(name='precision')]\n",
        "model.compile('adam',loss='categorical_crossentropy', metrics=['accuracy'])"
      ],
      "metadata": {
        "id": "M2Fu_BRmntZA"
      },
      "execution_count": null,
      "outputs": []
    },
    {
      "cell_type": "code",
      "source": [
        "# Stopping condition\n",
        "stop_early = EarlyStopping(monitor=\"accuracy\", patience=4, min_delta=0.01)\n",
        "\n",
        "history = model.fit(X_train, pd.get_dummies(y_train), validation_split=.2, epochs=50, shuffle = True, verbose=1, batch_size=32,callbacks = [stop_early])"
      ],
      "metadata": {
        "colab": {
          "base_uri": "https://localhost:8080/"
        },
        "id": "wOQgvFwCpoWq",
        "outputId": "9e0d161f-a988-47e0-e78e-af0f6141419b"
      },
      "execution_count": null,
      "outputs": [
        {
          "output_type": "stream",
          "name": "stdout",
          "text": [
            "Epoch 1/50\n",
            "36/36 [==============================] - 1s 8ms/step - loss: 2.2295 - accuracy: 0.1880 - val_loss: 2.0285 - val_accuracy: 0.3507\n",
            "Epoch 2/50\n",
            "36/36 [==============================] - 0s 3ms/step - loss: 1.9221 - accuracy: 0.3838 - val_loss: 1.7648 - val_accuracy: 0.5278\n",
            "Epoch 3/50\n",
            "36/36 [==============================] - 0s 3ms/step - loss: 1.6494 - accuracy: 0.5822 - val_loss: 1.4926 - val_accuracy: 0.7257\n",
            "Epoch 4/50\n",
            "36/36 [==============================] - 0s 4ms/step - loss: 1.3871 - accuracy: 0.6928 - val_loss: 1.2405 - val_accuracy: 0.7951\n",
            "Epoch 5/50\n",
            "36/36 [==============================] - 0s 3ms/step - loss: 1.1878 - accuracy: 0.7502 - val_loss: 1.0339 - val_accuracy: 0.8368\n",
            "Epoch 6/50\n",
            "36/36 [==============================] - 0s 3ms/step - loss: 1.0037 - accuracy: 0.8120 - val_loss: 0.8737 - val_accuracy: 0.8472\n",
            "Epoch 7/50\n",
            "36/36 [==============================] - 0s 4ms/step - loss: 0.8562 - accuracy: 0.8303 - val_loss: 0.7540 - val_accuracy: 0.8646\n",
            "Epoch 8/50\n",
            "36/36 [==============================] - 0s 3ms/step - loss: 0.7469 - accuracy: 0.8486 - val_loss: 0.6596 - val_accuracy: 0.8715\n",
            "Epoch 9/50\n",
            "36/36 [==============================] - 0s 3ms/step - loss: 0.6485 - accuracy: 0.8842 - val_loss: 0.5861 - val_accuracy: 0.8889\n",
            "Epoch 10/50\n",
            "36/36 [==============================] - 0s 3ms/step - loss: 0.6091 - accuracy: 0.8668 - val_loss: 0.5283 - val_accuracy: 0.8993\n",
            "Epoch 11/50\n",
            "36/36 [==============================] - 0s 3ms/step - loss: 0.5572 - accuracy: 0.8747 - val_loss: 0.4795 - val_accuracy: 0.9028\n",
            "Epoch 12/50\n",
            "36/36 [==============================] - 0s 4ms/step - loss: 0.4939 - accuracy: 0.8860 - val_loss: 0.4372 - val_accuracy: 0.9167\n",
            "Epoch 13/50\n",
            "36/36 [==============================] - 0s 3ms/step - loss: 0.4406 - accuracy: 0.9086 - val_loss: 0.4042 - val_accuracy: 0.9062\n",
            "Epoch 14/50\n",
            "36/36 [==============================] - 0s 3ms/step - loss: 0.4263 - accuracy: 0.9025 - val_loss: 0.3823 - val_accuracy: 0.9167\n",
            "Epoch 15/50\n",
            "36/36 [==============================] - 0s 3ms/step - loss: 0.4013 - accuracy: 0.9147 - val_loss: 0.3576 - val_accuracy: 0.9236\n",
            "Epoch 16/50\n",
            "36/36 [==============================] - 0s 3ms/step - loss: 0.3635 - accuracy: 0.9121 - val_loss: 0.3397 - val_accuracy: 0.9236\n",
            "Epoch 17/50\n",
            "36/36 [==============================] - 0s 3ms/step - loss: 0.3491 - accuracy: 0.9173 - val_loss: 0.3216 - val_accuracy: 0.9236\n"
          ]
        }
      ]
    },
    {
      "cell_type": "code",
      "source": [
        "# Model architecture\n",
        "plot_model(model, show_shapes=True, show_layer_names=True,show_layer_activations=True)"
      ],
      "metadata": {
        "colab": {
          "base_uri": "https://localhost:8080/",
          "height": 312
        },
        "id": "yMacuM1HwnTH",
        "outputId": "a74b9d0b-e997-49d9-86db-bddfc2515cfe"
      },
      "execution_count": null,
      "outputs": [
        {
          "output_type": "execute_result",
          "data": {
            "image/png": "[encoded data removed]",
            "text/plain": [
              "<IPython.core.display.Image object>"
            ]
          },
          "metadata": {},
          "execution_count": 15
        }
      ]
    },
    {
      "cell_type": "code",
      "source": [
        "history.history"
      ],
      "metadata": {
        "id": "yL4R3ARixKGY"
      },
      "execution_count": null,
      "outputs": []
    },
    {
      "cell_type": "code",
      "source": [
        "# Plot loss during training\n",
        "plt.subplot(211)\n",
        "plt.title('Loss')\n",
        "plt.plot(history.history['loss'], label='train')\n",
        "plt.plot(history.history['val_loss'], label='validation')\n",
        "plt.legend()"
      ],
      "metadata": {
        "colab": {
          "base_uri": "https://localhost:8080/",
          "height": 180
        },
        "id": "UoASpxvmwnZU",
        "outputId": "46bc0e31-b8eb-425f-8a8c-69241f488224"
      },
      "execution_count": null,
      "outputs": [
        {
          "output_type": "execute_result",
          "data": {
            "text/plain": [
              "<matplotlib.legend.Legend at 0x7f3c65042610>"
            ]
          },
          "metadata": {},
          "execution_count": 15
        },
        {
          "output_type": "display_data",
          "data": {
            "text/plain": [
              "<Figure size 432x288 with 1 Axes>"
            ],
            "image/png": "[encoded data removed]"
          },
          "metadata": {
            "needs_background": "light"
          }
        }
      ]
    },
    {
      "cell_type": "code",
      "source": [
        "plt.subplot(211)\n",
        "plt.title('Loss')\n",
        "plt.plot(history.history['accuracy'], label='train')\n",
        "plt.plot(history.history['val_accuracy'], label='validation')\n",
        "plt.legend()"
      ],
      "metadata": {
        "colab": {
          "base_uri": "https://localhost:8080/",
          "height": 180
        },
        "id": "CGinCn99xyGg",
        "outputId": "e5302850-dbf1-4426-c86d-4b03f270beea"
      },
      "execution_count": null,
      "outputs": [
        {
          "output_type": "execute_result",
          "data": {
            "text/plain": [
              "<matplotlib.legend.Legend at 0x7f3c6664d8d0>"
            ]
          },
          "metadata": {},
          "execution_count": 16
        },
        {
          "output_type": "display_data",
          "data": {
            "text/plain": [
              "<Figure size 432x288 with 1 Axes>"
            ],
            "image/png": "[encoded data removed]"
          },
          "metadata": {
            "needs_background": "light"
          }
        }
      ]
    },
    {
      "cell_type": "code",
      "source": [
        "test_metrics = model.evaluate(X_test, pd.get_dummies(y_test), verbose=0)"
      ],
      "metadata": {
        "id": "3_ME4-5JyDNp"
      },
      "execution_count": null,
      "outputs": []
    },
    {
      "cell_type": "code",
      "source": [
        "test_metrics"
      ],
      "metadata": {
        "colab": {
          "base_uri": "https://localhost:8080/"
        },
        "id": "D8nEP1zGyVy3",
        "outputId": "b285abc2-23b3-422e-f1e9-94feb3bc1b1b"
      },
      "execution_count": null,
      "outputs": [
        {
          "output_type": "execute_result",
          "data": {
            "text/plain": [
              "[0.27709925174713135, 0.9416666626930237]"
            ]
          },
          "metadata": {},
          "execution_count": 18
        }
      ]
    },
    {
      "cell_type": "code",
      "source": [
        "yhat = model.predict(X_test)"
      ],
      "metadata": {
        "colab": {
          "base_uri": "https://localhost:8080/"
        },
        "id": "CuumjzEdyh74",
        "outputId": "01a86560-17b4-4361-bec7-20f75982d874"
      },
      "execution_count": null,
      "outputs": [
        {
          "output_type": "stream",
          "name": "stdout",
          "text": [
            "12/12 [==============================] - 0s 2ms/step\n"
          ]
        }
      ]
    },
    {
      "cell_type": "code",
      "source": [
        "yhat[0]"
      ],
      "metadata": {
        "colab": {
          "base_uri": "https://localhost:8080/"
        },
        "id": "60wIucQAysZU",
        "outputId": "8876d598-7d28-4eb9-b10a-d767d055d284"
      },
      "execution_count": null,
      "outputs": [
        {
          "output_type": "execute_result",
          "data": {
            "text/plain": [
              "array([1.6172096e-03, 2.1754890e-03, 5.5405888e-04, 4.3956599e-05,\n",
              "       1.1292785e-02, 1.6082529e-03, 9.7568506e-01, 3.7922332e-04,\n",
              "       6.0345558e-03, 6.0938252e-04], dtype=float32)"
            ]
          },
          "metadata": {},
          "execution_count": 29
        }
      ]
    },
    {
      "cell_type": "code",
      "source": [
        "y_test"
      ],
      "metadata": {
        "colab": {
          "base_uri": "https://localhost:8080/"
        },
        "id": "bYV7eNb4y14o",
        "outputId": "3122e529-7fe3-4f52-ea69-a82fe6a958a5"
      },
      "execution_count": null,
      "outputs": [
        {
          "output_type": "execute_result",
          "data": {
            "text/plain": [
              "array([6, 9, 3, 7, 2, 1, 5, 2, 5, 2, 1, 9, 4, 0, 4, 2, 3, 7, 8, 8, 4, 3,\n",
              "       9, 7, 5, 6, 3, 5, 6, 3, 4, 9, 1, 4, 4, 6, 9, 4, 7, 6, 6, 9, 1, 3,\n",
              "       6, 1, 3, 0, 6, 5, 5, 1, 9, 5, 6, 0, 9, 0, 0, 1, 0, 4, 5, 2, 4, 5,\n",
              "       7, 0, 7, 5, 9, 5, 5, 4, 7, 0, 4, 5, 5, 9, 9, 0, 2, 3, 8, 0, 6, 4,\n",
              "       4, 9, 1, 2, 8, 3, 5, 2, 9, 0, 4, 4, 4, 3, 5, 3, 1, 3, 5, 9, 4, 2,\n",
              "       7, 7, 4, 4, 1, 9, 2, 7, 8, 7, 2, 6, 9, 4, 0, 7, 2, 7, 5, 8, 7, 5,\n",
              "       7, 7, 0, 6, 6, 4, 2, 8, 0, 9, 4, 6, 9, 9, 6, 9, 0, 3, 5, 6, 6, 0,\n",
              "       6, 4, 3, 9, 3, 9, 7, 2, 9, 0, 4, 5, 3, 6, 5, 9, 9, 8, 4, 2, 1, 3,\n",
              "       7, 7, 2, 2, 3, 9, 8, 0, 3, 2, 2, 5, 6, 9, 9, 4, 1, 5, 4, 2, 3, 6,\n",
              "       4, 8, 5, 9, 5, 7, 8, 9, 4, 8, 1, 5, 4, 4, 9, 6, 1, 8, 6, 0, 4, 5,\n",
              "       2, 7, 4, 6, 4, 5, 6, 0, 3, 2, 3, 6, 7, 1, 5, 1, 4, 7, 6, 8, 8, 5,\n",
              "       5, 1, 6, 2, 8, 8, 9, 9, 7, 6, 2, 2, 2, 3, 4, 8, 8, 3, 6, 0, 9, 7,\n",
              "       7, 0, 1, 0, 4, 5, 1, 5, 3, 6, 0, 4, 1, 0, 0, 3, 6, 5, 9, 7, 3, 5,\n",
              "       5, 9, 9, 8, 5, 3, 3, 2, 0, 5, 8, 3, 4, 0, 2, 4, 6, 4, 3, 4, 5, 0,\n",
              "       5, 2, 1, 3, 1, 4, 1, 1, 7, 0, 1, 5, 2, 1, 2, 8, 7, 0, 6, 4, 8, 8,\n",
              "       5, 1, 8, 4, 5, 8, 7, 9, 8, 5, 0, 6, 2, 0, 7, 9, 8, 9, 5, 2, 7, 7,\n",
              "       1, 8, 7, 4, 3, 8, 3, 5])"
            ]
          },
          "metadata": {},
          "execution_count": 30
        }
      ]
    },
    {
      "cell_type": "markdown",
      "source": [
        "# Búsqueda de hiperparámetros en Keras"
      ],
      "metadata": {
        "id": "nEH4K0-n2NNp"
      }
    },
    {
      "cell_type": "code",
      "source": [
        "!pip install keras-tuner --upgrade"
      ],
      "metadata": {
        "id": "R2quUhVT2Mb0"
      },
      "execution_count": null,
      "outputs": []
    },
    {
      "cell_type": "code",
      "source": [
        "import keras_tuner as kt"
      ],
      "metadata": {
        "id": "7_luyYfV2hgf"
      },
      "execution_count": null,
      "outputs": []
    },
    {
      "cell_type": "code",
      "source": [
        "def build_model(hp):\n",
        "  model = Sequential()\n",
        "  model.add(Input(shape=(64,)))\n",
        "  model.add(Dense(units = hp.Choice('units', [4,8,16,32,64]),\n",
        "                  activation = hp.Choice('activation', ['relu', 'sigmoid','tanh']),\n",
        "                  kernel_initializer = 'he_uniform'))\n",
        "  model.add(Dropout(hp.Choice('rate', [0.1,0.2])))\n",
        "  model.add(Dense(units = 10, activation='softmax'))\n",
        "  model.compile(loss = 'categorical_crossentropy', optimizer = hp.Choice('optimizer', ['SGD', 'adam']), metrics=['accuracy'])\n",
        "  return model"
      ],
      "metadata": {
        "id": "qxcEsXVR2sVU"
      },
      "execution_count": null,
      "outputs": []
    },
    {
      "cell_type": "code",
      "source": [
        "# Search of hyperparameters\n",
        "tuner = kt.BayesianOptimization(build_model, objective = kt.Objective(\"val_accuracy\", direction=\"max\"), max_trials=20, overwrite=True)\n",
        "tuner.search(X_train, pd.get_dummies(y_train), epochs=20, validation_split=0.2, callbacks=[stop_early], batch_size=32, shuffle=True, verbose=1)"
      ],
      "metadata": {
        "colab": {
          "base_uri": "https://localhost:8080/"
        },
        "id": "3n3d-N7i5WtX",
        "outputId": "3ea94558-eddc-4920-e212-31bb4421b4df"
      },
      "execution_count": null,
      "outputs": [
        {
          "output_type": "stream",
          "name": "stdout",
          "text": [
            "Trial 20 Complete [00h 00m 05s]\n",
            "val_accuracy: 0.9409722089767456\n",
            "\n",
            "Best val_accuracy So Far: 0.9444444179534912\n",
            "Total elapsed time: 00h 02m 07s\n"
          ]
        }
      ]
    },
    {
      "cell_type": "code",
      "source": [
        "tuner.get_best_hyperparameters()[0].values"
      ],
      "metadata": {
        "colab": {
          "base_uri": "https://localhost:8080/"
        },
        "id": "9UpiO-oB6e9Q",
        "outputId": "13059d99-9e6b-4fef-bab7-97fec1c3e41b"
      },
      "execution_count": null,
      "outputs": [
        {
          "output_type": "execute_result",
          "data": {
            "text/plain": [
              "{'units': 64, 'activation': 'relu', 'rate': 0.1, 'optimizer': 'adam'}"
            ]
          },
          "metadata": {},
          "execution_count": 26
        }
      ]
    },
    {
      "cell_type": "code",
      "source": [
        "# Get the best hyperparameters\n",
        "best_hps = tuner.get_best_hyperparameters()[0]\n",
        "\n",
        "# Retrain the model\n",
        "model = tuner.hypermodel.build(best_hps)\n",
        "history = model.fit(X_train, pd.get_dummies(y_train), validation_split=0.2, epochs=30, shuffle = True, verbose=1, batch_size=32)"
      ],
      "metadata": {
        "colab": {
          "base_uri": "https://localhost:8080/"
        },
        "id": "5byhbWk96Zry",
        "outputId": "a7bc3f5d-66c0-474b-a85a-cb83530a3088"
      },
      "execution_count": null,
      "outputs": [
        {
          "output_type": "stream",
          "name": "stdout",
          "text": [
            "Epoch 1/30\n",
            "36/36 [==============================] - 2s 17ms/step - loss: 2.2282 - accuracy: 0.1897 - val_loss: 1.9339 - val_accuracy: 0.4896\n",
            "Epoch 2/30\n",
            "36/36 [==============================] - 0s 3ms/step - loss: 1.7552 - accuracy: 0.5440 - val_loss: 1.5412 - val_accuracy: 0.6944\n",
            "Epoch 3/30\n",
            "36/36 [==============================] - 0s 3ms/step - loss: 1.3869 - accuracy: 0.7111 - val_loss: 1.1944 - val_accuracy: 0.7917\n",
            "Epoch 4/30\n",
            "36/36 [==============================] - 0s 3ms/step - loss: 1.0819 - accuracy: 0.7859 - val_loss: 0.9155 - val_accuracy: 0.8160\n",
            "Epoch 5/30\n",
            "36/36 [==============================] - 0s 4ms/step - loss: 0.8314 - accuracy: 0.8399 - val_loss: 0.7150 - val_accuracy: 0.8681\n",
            "Epoch 6/30\n",
            "36/36 [==============================] - 0s 3ms/step - loss: 0.6831 - accuracy: 0.8703 - val_loss: 0.5927 - val_accuracy: 0.8750\n",
            "Epoch 7/30\n",
            "36/36 [==============================] - 0s 3ms/step - loss: 0.5688 - accuracy: 0.8999 - val_loss: 0.5063 - val_accuracy: 0.8924\n",
            "Epoch 8/30\n",
            "36/36 [==============================] - 0s 3ms/step - loss: 0.4889 - accuracy: 0.9104 - val_loss: 0.4493 - val_accuracy: 0.9062\n",
            "Epoch 9/30\n",
            "36/36 [==============================] - 0s 4ms/step - loss: 0.4203 - accuracy: 0.9225 - val_loss: 0.3974 - val_accuracy: 0.8854\n",
            "Epoch 10/30\n",
            "36/36 [==============================] - 0s 3ms/step - loss: 0.3769 - accuracy: 0.9234 - val_loss: 0.3646 - val_accuracy: 0.9097\n",
            "Epoch 11/30\n",
            "36/36 [==============================] - 0s 3ms/step - loss: 0.3402 - accuracy: 0.9373 - val_loss: 0.3339 - val_accuracy: 0.9097\n",
            "Epoch 12/30\n",
            "36/36 [==============================] - 0s 3ms/step - loss: 0.3136 - accuracy: 0.9373 - val_loss: 0.3164 - val_accuracy: 0.9028\n",
            "Epoch 13/30\n",
            "36/36 [==============================] - 0s 4ms/step - loss: 0.2816 - accuracy: 0.9434 - val_loss: 0.2939 - val_accuracy: 0.9097\n",
            "Epoch 14/30\n",
            "36/36 [==============================] - 0s 4ms/step - loss: 0.2598 - accuracy: 0.9521 - val_loss: 0.2810 - val_accuracy: 0.9167\n",
            "Epoch 15/30\n",
            "36/36 [==============================] - 0s 4ms/step - loss: 0.2473 - accuracy: 0.9443 - val_loss: 0.2662 - val_accuracy: 0.9236\n",
            "Epoch 16/30\n",
            "36/36 [==============================] - 0s 3ms/step - loss: 0.2355 - accuracy: 0.9417 - val_loss: 0.2595 - val_accuracy: 0.9201\n",
            "Epoch 17/30\n",
            "36/36 [==============================] - 0s 3ms/step - loss: 0.2230 - accuracy: 0.9495 - val_loss: 0.2497 - val_accuracy: 0.9201\n",
            "Epoch 18/30\n",
            "36/36 [==============================] - 0s 3ms/step - loss: 0.2111 - accuracy: 0.9460 - val_loss: 0.2431 - val_accuracy: 0.9201\n",
            "Epoch 19/30\n",
            "36/36 [==============================] - 0s 3ms/step - loss: 0.1991 - accuracy: 0.9582 - val_loss: 0.2317 - val_accuracy: 0.9201\n",
            "Epoch 20/30\n",
            "36/36 [==============================] - 0s 3ms/step - loss: 0.1860 - accuracy: 0.9556 - val_loss: 0.2244 - val_accuracy: 0.9236\n",
            "Epoch 21/30\n",
            "36/36 [==============================] - 0s 3ms/step - loss: 0.1775 - accuracy: 0.9626 - val_loss: 0.2191 - val_accuracy: 0.9201\n",
            "Epoch 22/30\n",
            "36/36 [==============================] - 0s 3ms/step - loss: 0.1706 - accuracy: 0.9634 - val_loss: 0.2148 - val_accuracy: 0.9340\n",
            "Epoch 23/30\n",
            "36/36 [==============================] - 0s 3ms/step - loss: 0.1632 - accuracy: 0.9652 - val_loss: 0.2084 - val_accuracy: 0.9410\n",
            "Epoch 24/30\n",
            "36/36 [==============================] - 0s 3ms/step - loss: 0.1578 - accuracy: 0.9669 - val_loss: 0.2028 - val_accuracy: 0.9340\n",
            "Epoch 25/30\n",
            "36/36 [==============================] - 0s 3ms/step - loss: 0.1519 - accuracy: 0.9634 - val_loss: 0.1973 - val_accuracy: 0.9340\n",
            "Epoch 26/30\n",
            "36/36 [==============================] - 0s 3ms/step - loss: 0.1530 - accuracy: 0.9600 - val_loss: 0.1982 - val_accuracy: 0.9444\n",
            "Epoch 27/30\n",
            "36/36 [==============================] - 0s 3ms/step - loss: 0.1440 - accuracy: 0.9721 - val_loss: 0.1964 - val_accuracy: 0.9410\n",
            "Epoch 28/30\n",
            "36/36 [==============================] - 0s 4ms/step - loss: 0.1321 - accuracy: 0.9669 - val_loss: 0.1904 - val_accuracy: 0.9306\n",
            "Epoch 29/30\n",
            "36/36 [==============================] - 0s 4ms/step - loss: 0.1267 - accuracy: 0.9713 - val_loss: 0.1860 - val_accuracy: 0.9444\n",
            "Epoch 30/30\n",
            "36/36 [==============================] - 0s 3ms/step - loss: 0.1267 - accuracy: 0.9730 - val_loss: 0.1844 - val_accuracy: 0.9444\n"
          ]
        }
      ]
    },
    {
      "cell_type": "code",
      "source": [
        "plt.subplot(211)\n",
        "plt.title('Loss')\n",
        "plt.plot(history.history['accuracy'], label='train')\n",
        "plt.plot(history.history['val_accuracy'], label='validation')\n",
        "plt.legend()"
      ],
      "metadata": {
        "colab": {
          "base_uri": "https://localhost:8080/",
          "height": 180
        },
        "id": "2Frx6PnR666C",
        "outputId": "acaf2279-86ed-4ca4-f4e7-b038d9869a9f"
      },
      "execution_count": null,
      "outputs": [
        {
          "output_type": "execute_result",
          "data": {
            "text/plain": [
              "<matplotlib.legend.Legend at 0x7f3c6ad2ec50>"
            ]
          },
          "metadata": {},
          "execution_count": 28
        },
        {
          "output_type": "display_data",
          "data": {
            "text/plain": [
              "<Figure size 432x288 with 1 Axes>"
            ],
            "image/png": "[encoded data removed]"
          },
          "metadata": {
            "needs_background": "light"
          }
        }
      ]
    },
    {
      "cell_type": "code",
      "source": [
        "test_metrics = model.evaluate(X_test, pd.get_dummies(y_test), verbose=0)"
      ],
      "metadata": {
        "id": "oqV1mECI7Fcf"
      },
      "execution_count": null,
      "outputs": []
    },
    {
      "cell_type": "code",
      "source": [
        "test_metrics"
      ],
      "metadata": {
        "colab": {
          "base_uri": "https://localhost:8080/"
        },
        "id": "ANvvJuaF7Lnc",
        "outputId": "ce377867-fda8-433e-d2d8-722cd01e22b7"
      },
      "execution_count": null,
      "outputs": [
        {
          "output_type": "execute_result",
          "data": {
            "text/plain": [
              "[0.1302231401205063, 0.9638888835906982]"
            ]
          },
          "metadata": {},
          "execution_count": 30
        }
      ]
    }
  ]
}