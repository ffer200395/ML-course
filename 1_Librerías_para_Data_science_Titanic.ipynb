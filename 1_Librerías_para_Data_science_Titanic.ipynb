{
  "nbformat": 4,
  "nbformat_minor": 0,
  "metadata": {
    "colab": {
      "provenance": [],
      "collapsed_sections": [
        "AAJWzo7I4axp",
        "11WC9SYmVzEW",
        "ZbtXpdkdePRm",
        "iNaesS2ofIai",
        "OYkgTJkbfIfn"
      ],
      "authorship_tag": "ABX9TyNBnevvYKMmH6Co5bYmlaEd",
      "include_colab_link": true
    },
    "kernelspec": {
      "name": "python3",
      "display_name": "Python 3"
    },
    "language_info": {
      "name": "python"
    }
  },
  "cells": [
    {
      "cell_type": "markdown",
      "metadata": {
        "id": "view-in-github",
        "colab_type": "text"
      },
      "source": [
        "<a href=\"https://colab.research.google.com/github/ffer200395/ML-course/blob/main/1_Librer%C3%ADas_para_Data_science_Titanic.ipynb\" target=\"_parent\"><img src=\"https://colab.research.google.com/assets/colab-badge.svg\" alt=\"Open In Colab\"/></a>"
      ]
    },
    {
      "cell_type": "markdown",
      "source": [
        "# Importamos las librerías necesarias"
      ],
      "metadata": {
        "id": "vA1zCuQFuiHA"
      }
    },
    {
      "cell_type": "code",
      "execution_count": null,
      "metadata": {
        "id": "UceeVGG0uPi1"
      },
      "outputs": [],
      "source": [
        "import numpy as np\n",
        "import pandas as pd\n",
        "from sklearn.model_selection import train_test_split\n",
        "from sklearn.preprocessing import StandardScaler\n",
        "from sklearn.neighbors import KNeighborsClassifier\n",
        "\n",
        "from sklearn.pipeline import Pipeline\n",
        "from sklearn.linear_model import LogisticRegression\n",
        "from sklearn.svm import SVC\n",
        "from sklearn.ensemble import RandomForestClassifier, VotingClassifier\n",
        "from sklearn.naive_bayes import GaussianNB\n",
        "from sklearn.model_selection import GridSearchCV\n",
        "from sklearn.ensemble import StackingClassifier\n",
        "from sklearn.ensemble import AdaBoostClassifier\n",
        "from sklearn.metrics import *\n",
        "import matplotlib.pyplot as plt\n",
        "import seaborn as sn"
      ]
    },
    {
      "cell_type": "markdown",
      "source": [
        "# NumPy"
      ],
      "metadata": {
        "id": "ig5EBu8Ru0Hm"
      }
    },
    {
      "cell_type": "code",
      "source": [
        "# Creamos un array de dimensión 1 que contenga valores del 1 al 5\n",
        "arr_1d = np.array([1,2,3,4,5])\n",
        "arr_1d"
      ],
      "metadata": {
        "colab": {
          "base_uri": "https://localhost:8080/"
        },
        "id": "4h5_b-0kuzis",
        "outputId": "7ee12678-8b55-4812-9ff5-7ee83fee3f43"
      },
      "execution_count": null,
      "outputs": [
        {
          "output_type": "execute_result",
          "data": {
            "text/plain": [
              "array([1, 2, 3, 4, 5])"
            ]
          },
          "metadata": {},
          "execution_count": 3
        }
      ]
    },
    {
      "cell_type": "code",
      "source": [
        "# Creamos un array de dimensión 1 que contenga valores del 1 al 5 usando la función nativa range\n",
        "arr_1d = np.array(range(1,6))\n",
        "arr_1d"
      ],
      "metadata": {
        "colab": {
          "base_uri": "https://localhost:8080/"
        },
        "id": "Y9CsTPj6v_qC",
        "outputId": "c69da2cf-233e-4f1e-9985-0cea59c2d928"
      },
      "execution_count": null,
      "outputs": [
        {
          "output_type": "execute_result",
          "data": {
            "text/plain": [
              "array([1, 2, 3, 4, 5])"
            ]
          },
          "metadata": {},
          "execution_count": 5
        }
      ]
    },
    {
      "cell_type": "code",
      "source": [
        "for i in range(1,6):\n",
        "  print(i)"
      ],
      "metadata": {
        "colab": {
          "base_uri": "https://localhost:8080/"
        },
        "id": "UXdYkcyoAPtL",
        "outputId": "dbf8cf20-824a-47c0-b0ad-a3e95088f178"
      },
      "execution_count": null,
      "outputs": [
        {
          "output_type": "stream",
          "name": "stdout",
          "text": [
            "1\n",
            "2\n",
            "3\n",
            "4\n",
            "5\n"
          ]
        }
      ]
    },
    {
      "cell_type": "code",
      "source": [
        "# Comprobamos el tipo de dato del array creado\n",
        "type(arr_1d)"
      ],
      "metadata": {
        "colab": {
          "base_uri": "https://localhost:8080/"
        },
        "id": "0zIaudSlwKVx",
        "outputId": "e4a74a05-8483-4f78-dcce-d918d569d05b"
      },
      "execution_count": null,
      "outputs": [
        {
          "output_type": "execute_result",
          "data": {
            "text/plain": [
              "numpy.ndarray"
            ]
          },
          "metadata": {},
          "execution_count": 9
        }
      ]
    },
    {
      "cell_type": "code",
      "source": [
        "# Tipo de dato que contiene el np.array\n",
        "arr_1d.dtype"
      ],
      "metadata": {
        "colab": {
          "base_uri": "https://localhost:8080/"
        },
        "id": "BoXt_WLCAjGh",
        "outputId": "c6c9d0fe-7c56-4750-f5ed-3d0ca782ab8b"
      },
      "execution_count": null,
      "outputs": [
        {
          "output_type": "execute_result",
          "data": {
            "text/plain": [
              "dtype('int64')"
            ]
          },
          "metadata": {},
          "execution_count": 10
        }
      ]
    },
    {
      "cell_type": "code",
      "source": [
        "# Comprobamos la dimensión\n",
        "arr_1d.ndim"
      ],
      "metadata": {
        "colab": {
          "base_uri": "https://localhost:8080/"
        },
        "id": "b993SoHpw2FA",
        "outputId": "3254c1e9-3163-4711-e884-b62878f72eff"
      },
      "execution_count": null,
      "outputs": [
        {
          "output_type": "execute_result",
          "data": {
            "text/plain": [
              "1"
            ]
          },
          "metadata": {},
          "execution_count": 11
        }
      ]
    },
    {
      "cell_type": "code",
      "source": [
        "arr_1d.shape"
      ],
      "metadata": {
        "colab": {
          "base_uri": "https://localhost:8080/"
        },
        "id": "fm6Qn_KMA1iK",
        "outputId": "c947b9f7-400d-4cd2-b0f5-b91ef76c983b"
      },
      "execution_count": null,
      "outputs": [
        {
          "output_type": "execute_result",
          "data": {
            "text/plain": [
              "(5,)"
            ]
          },
          "metadata": {},
          "execution_count": 12
        }
      ]
    },
    {
      "cell_type": "code",
      "source": [
        "# Printar el primer y último elemento del array\n",
        "print(arr_1d[0],arr_1d[-1])"
      ],
      "metadata": {
        "colab": {
          "base_uri": "https://localhost:8080/"
        },
        "id": "ZqO9GnGLyM-I",
        "outputId": "5bc292a2-d1a4-4c2a-bafa-8979b876d9e3"
      },
      "execution_count": null,
      "outputs": [
        {
          "output_type": "stream",
          "name": "stdout",
          "text": [
            "1 5\n"
          ]
        }
      ]
    },
    {
      "cell_type": "code",
      "source": [
        "# Crear un array de 2 dimensiones usando las tuplas: (1,2,3), (4,5,6) y (7,8,9)\n",
        "arr_2d = np.array([[1,2,3],[4,5,6],[7,8,9]])\n",
        "arr_2d"
      ],
      "metadata": {
        "colab": {
          "base_uri": "https://localhost:8080/"
        },
        "id": "QnWDLx_0yYh8",
        "outputId": "8dd64902-84b2-4cb7-888b-05ebbf5d4e1e"
      },
      "execution_count": null,
      "outputs": [
        {
          "output_type": "execute_result",
          "data": {
            "text/plain": [
              "array([[1, 2, 3],\n",
              "       [4, 5, 6],\n",
              "       [7, 8, 9]])"
            ]
          },
          "metadata": {},
          "execution_count": 14
        }
      ]
    },
    {
      "cell_type": "code",
      "source": [
        "# Printar los elementos de la diagonal\n",
        "arr_2d.diagonal()"
      ],
      "metadata": {
        "colab": {
          "base_uri": "https://localhost:8080/"
        },
        "id": "Beco9UGLziTW",
        "outputId": "05b3ba97-e21e-44c4-d9a5-b169fd847ed1"
      },
      "execution_count": null,
      "outputs": [
        {
          "output_type": "execute_result",
          "data": {
            "text/plain": [
              "array([1, 5, 9])"
            ]
          },
          "metadata": {},
          "execution_count": 16
        }
      ]
    },
    {
      "cell_type": "code",
      "source": [
        "# Printar el primer y último elemento de la matriz\n",
        "print(arr_2d[0,0],arr_2d[-1,-1])"
      ],
      "metadata": {
        "colab": {
          "base_uri": "https://localhost:8080/"
        },
        "id": "qCSJ010Nz0Cq",
        "outputId": "9acc3669-8e79-4e91-d651-d01194ba55b9"
      },
      "execution_count": null,
      "outputs": [
        {
          "output_type": "stream",
          "name": "stdout",
          "text": [
            "1 9\n"
          ]
        }
      ]
    },
    {
      "cell_type": "code",
      "source": [
        "# Crea un array de 3 dimensiones\n",
        "arr_3d = np.array([[[1,2,3]],[[4,5,6]],[[7,8,9]]])\n",
        "arr_3d"
      ],
      "metadata": {
        "colab": {
          "base_uri": "https://localhost:8080/"
        },
        "id": "LbJDHdTz0LNy",
        "outputId": "ee353bd9-f028-4efc-b2f2-688441ab680c"
      },
      "execution_count": null,
      "outputs": [
        {
          "output_type": "execute_result",
          "data": {
            "text/plain": [
              "array([[[1, 2, 3]],\n",
              "\n",
              "       [[4, 5, 6]],\n",
              "\n",
              "       [[7, 8, 9]]])"
            ]
          },
          "metadata": {},
          "execution_count": 19
        }
      ]
    },
    {
      "cell_type": "code",
      "source": [
        "# Muestra la forma\n",
        "arr_3d.shape"
      ],
      "metadata": {
        "colab": {
          "base_uri": "https://localhost:8080/"
        },
        "id": "3qizFPv78ALk",
        "outputId": "a9652cea-6211-4b59-ebc9-ce428b5b7a88"
      },
      "execution_count": null,
      "outputs": [
        {
          "output_type": "execute_result",
          "data": {
            "text/plain": [
              "(3, 1, 3)"
            ]
          },
          "metadata": {},
          "execution_count": 20
        }
      ]
    },
    {
      "cell_type": "code",
      "source": [
        "# Accede al elemento central\n",
        "arr_3d[1,0,1]"
      ],
      "metadata": {
        "colab": {
          "base_uri": "https://localhost:8080/"
        },
        "id": "HjtrXBCq1JwR",
        "outputId": "c282c9f7-fcf5-4bf8-9477-39335881427c"
      },
      "execution_count": null,
      "outputs": [
        {
          "output_type": "execute_result",
          "data": {
            "text/plain": [
              "5"
            ]
          },
          "metadata": {},
          "execution_count": 21
        }
      ]
    },
    {
      "cell_type": "code",
      "source": [
        "# Muestra los items del array que sean impares\n",
        "arr_3d[arr_3d%2!=0]"
      ],
      "metadata": {
        "colab": {
          "base_uri": "https://localhost:8080/"
        },
        "id": "rybFcaV11Ymg",
        "outputId": "1dd0a3f0-3973-4604-f44a-973603972fe0"
      },
      "execution_count": null,
      "outputs": [
        {
          "output_type": "execute_result",
          "data": {
            "text/plain": [
              "array([1, 3, 5, 7, 9])"
            ]
          },
          "metadata": {},
          "execution_count": 25
        }
      ]
    },
    {
      "cell_type": "code",
      "source": [
        "# Muestra los elementos que sean pares y mayores que 5\n",
        "arr_3d[(arr_3d%2==0)&(arr_3d>5)]"
      ],
      "metadata": {
        "colab": {
          "base_uri": "https://localhost:8080/"
        },
        "id": "GNx9RI_o14La",
        "outputId": "1c705073-75d4-4dd9-e5bb-c7df3ed4567b"
      },
      "execution_count": null,
      "outputs": [
        {
          "output_type": "execute_result",
          "data": {
            "text/plain": [
              "array([6, 8])"
            ]
          },
          "metadata": {},
          "execution_count": 27
        }
      ]
    },
    {
      "cell_type": "code",
      "source": [
        "# Eleva al cuadrado todos los elementos del array\n",
        "arr_3d**2"
      ],
      "metadata": {
        "colab": {
          "base_uri": "https://localhost:8080/"
        },
        "id": "FlFYo1HV2JpP",
        "outputId": "d73835d3-dda5-4ec3-9919-c55b007937ae"
      },
      "execution_count": null,
      "outputs": [
        {
          "output_type": "execute_result",
          "data": {
            "text/plain": [
              "array([[[ 1,  4,  9]],\n",
              "\n",
              "       [[16, 25, 36]],\n",
              "\n",
              "       [[49, 64, 81]]])"
            ]
          },
          "metadata": {},
          "execution_count": 28
        }
      ]
    },
    {
      "cell_type": "code",
      "source": [
        "np.square(arr_3d)"
      ],
      "metadata": {
        "colab": {
          "base_uri": "https://localhost:8080/"
        },
        "id": "c37CDSVfEIdE",
        "outputId": "2ba653ec-6414-434e-c199-1ea25d15df72"
      },
      "execution_count": null,
      "outputs": [
        {
          "output_type": "execute_result",
          "data": {
            "text/plain": [
              "array([[[ 1,  4,  9]],\n",
              "\n",
              "       [[16, 25, 36]],\n",
              "\n",
              "       [[49, 64, 81]]])"
            ]
          },
          "metadata": {},
          "execution_count": 29
        }
      ]
    },
    {
      "cell_type": "code",
      "source": [
        "# Muestra el último elemento de cada subarray\n",
        "arr_3d[:,0,-1]"
      ],
      "metadata": {
        "colab": {
          "base_uri": "https://localhost:8080/"
        },
        "id": "u45sp5Z83Hy8",
        "outputId": "756afff6-001c-46d6-daec-28c4b0816dbc"
      },
      "execution_count": null,
      "outputs": [
        {
          "output_type": "execute_result",
          "data": {
            "text/plain": [
              "array([3, 6, 9])"
            ]
          },
          "metadata": {},
          "execution_count": 31
        }
      ]
    },
    {
      "cell_type": "code",
      "source": [
        "# Muestra desde el segundo subarray en adelante\n",
        "arr_3d[1:,:,:]"
      ],
      "metadata": {
        "colab": {
          "base_uri": "https://localhost:8080/"
        },
        "id": "wmnoZWl13eL6",
        "outputId": "e449acb9-0cc2-4ce4-bd17-483afc831d41"
      },
      "execution_count": null,
      "outputs": [
        {
          "output_type": "execute_result",
          "data": {
            "text/plain": [
              "array([[[4, 5, 6]],\n",
              "\n",
              "       [[7, 8, 9]]])"
            ]
          },
          "metadata": {},
          "execution_count": 33
        }
      ]
    },
    {
      "cell_type": "markdown",
      "source": [
        "## Data types in numpy"
      ],
      "metadata": {
        "id": "AAJWzo7I4axp"
      }
    },
    {
      "cell_type": "code",
      "source": [
        "# Unicode string\n",
        "arr_str = np.array(['a','b'])\n",
        "arr_str.dtype"
      ],
      "metadata": {
        "colab": {
          "base_uri": "https://localhost:8080/"
        },
        "id": "nA4zKqhd3wF0",
        "outputId": "57962d8b-1848-4c32-fdcf-8712c56083de"
      },
      "execution_count": null,
      "outputs": [
        {
          "output_type": "execute_result",
          "data": {
            "text/plain": [
              "dtype('<U1')"
            ]
          },
          "metadata": {},
          "execution_count": 35
        }
      ]
    },
    {
      "cell_type": "code",
      "source": [
        "# Boolean\n",
        "arr_bool = np.array([True, False])\n",
        "arr_bool.dtype"
      ],
      "metadata": {
        "colab": {
          "base_uri": "https://localhost:8080/"
        },
        "id": "D1gJINel5eSS",
        "outputId": "4834929a-0a1e-42c0-9ab8-d697678fe424"
      },
      "execution_count": null,
      "outputs": [
        {
          "output_type": "execute_result",
          "data": {
            "text/plain": [
              "dtype('bool')"
            ]
          },
          "metadata": {},
          "execution_count": 36
        }
      ]
    },
    {
      "cell_type": "code",
      "source": [
        "# Integer type\n",
        "arr_1d.dtype"
      ],
      "metadata": {
        "colab": {
          "base_uri": "https://localhost:8080/"
        },
        "id": "6gZ4S8D35zUg",
        "outputId": "01f9dfb0-fe6b-49e4-fa35-d40e18b2e614"
      },
      "execution_count": null,
      "outputs": [
        {
          "output_type": "execute_result",
          "data": {
            "text/plain": [
              "dtype('int64')"
            ]
          },
          "metadata": {},
          "execution_count": 37
        }
      ]
    },
    {
      "cell_type": "code",
      "source": [
        "# Convierte del tipo Booleano al entero\n",
        "arr_casting = arr_bool.astype('int64')\n",
        "print(arr_casting.dtype)\n",
        "print(arr_casting)"
      ],
      "metadata": {
        "colab": {
          "base_uri": "https://localhost:8080/"
        },
        "id": "CL7f2UQv6jlY",
        "outputId": "7bcac9b9-0323-4695-be10-015ec5975378"
      },
      "execution_count": null,
      "outputs": [
        {
          "output_type": "stream",
          "name": "stdout",
          "text": [
            "int64\n",
            "[1 0]\n"
          ]
        }
      ]
    },
    {
      "cell_type": "code",
      "source": [
        "# Convierte del tipo Float al entero\n",
        "arr_dec = np.array((1.2,2.5,3.6))\n",
        "print(arr_dec.dtype)\n",
        "arr_dec_casting = arr_dec.astype('int64')\n",
        "print(arr_dec_casting)"
      ],
      "metadata": {
        "colab": {
          "base_uri": "https://localhost:8080/"
        },
        "id": "FCbD-x617off",
        "outputId": "fa5583ef-b4f8-4e9f-c470-c56698b60ed5"
      },
      "execution_count": null,
      "outputs": [
        {
          "output_type": "stream",
          "name": "stdout",
          "text": [
            "float64\n",
            "[1 2 3]\n"
          ]
        }
      ]
    },
    {
      "cell_type": "code",
      "source": [
        "# Crea un vector de unos (enteros) de longitud 10\n",
        "arr_ones = np.ones(10, dtype='int64')\n",
        "arr_ones"
      ],
      "metadata": {
        "colab": {
          "base_uri": "https://localhost:8080/"
        },
        "id": "aKvzg24XpNVl",
        "outputId": "ff5fec18-57f4-41f0-e9f3-9a5caea77683"
      },
      "execution_count": null,
      "outputs": [
        {
          "output_type": "execute_result",
          "data": {
            "text/plain": [
              "array([1, 1, 1, 1, 1, 1, 1, 1, 1, 1])"
            ]
          },
          "metadata": {},
          "execution_count": 43
        }
      ]
    },
    {
      "cell_type": "code",
      "source": [
        "# Convierte el array en una matriz de 2x5\n",
        "arr_ones.reshape((2,5))"
      ],
      "metadata": {
        "colab": {
          "base_uri": "https://localhost:8080/"
        },
        "id": "CAhvAAMDp-6V",
        "outputId": "7087bdf2-c8f3-4038-f927-31673226db06"
      },
      "execution_count": null,
      "outputs": [
        {
          "output_type": "execute_result",
          "data": {
            "text/plain": [
              "array([[1, 1, 1, 1, 1],\n",
              "       [1, 1, 1, 1, 1]])"
            ]
          },
          "metadata": {},
          "execution_count": 44
        }
      ]
    },
    {
      "cell_type": "code",
      "source": [
        "np.ones((2,5), dtype='int64')"
      ],
      "metadata": {
        "colab": {
          "base_uri": "https://localhost:8080/"
        },
        "id": "A_Yvyh5wHTRG",
        "outputId": "c45cf9af-1728-4c68-9bea-0b2e4f2c6347"
      },
      "execution_count": null,
      "outputs": [
        {
          "output_type": "execute_result",
          "data": {
            "text/plain": [
              "array([[1, 1, 1, 1, 1],\n",
              "       [1, 1, 1, 1, 1]])"
            ]
          },
          "metadata": {},
          "execution_count": 46
        }
      ]
    },
    {
      "cell_type": "code",
      "source": [
        "# Crea un array que contenga strings, enteros y booleanos y comprueba el tipado de los datos\n",
        "arr_mix = np.array([0,1,True,False,'a','b'])\n",
        "arr_mix.dtype"
      ],
      "metadata": {
        "colab": {
          "base_uri": "https://localhost:8080/"
        },
        "id": "rlFnehe69Igb",
        "outputId": "708aa7c5-efe5-41b3-fac5-a856dbf241f0"
      },
      "execution_count": null,
      "outputs": [
        {
          "output_type": "execute_result",
          "data": {
            "text/plain": [
              "dtype('<U21')"
            ]
          },
          "metadata": {},
          "execution_count": 47
        }
      ]
    },
    {
      "cell_type": "code",
      "source": [
        "arr_mix[2]"
      ],
      "metadata": {
        "colab": {
          "base_uri": "https://localhost:8080/",
          "height": 35
        },
        "id": "xuKSXWaIHzA_",
        "outputId": "952c3c69-957a-448d-96d4-58b0f2f3a7eb"
      },
      "execution_count": null,
      "outputs": [
        {
          "output_type": "execute_result",
          "data": {
            "text/plain": [
              "'True'"
            ],
            "application/vnd.google.colaboratory.intrinsic+json": {
              "type": "string"
            }
          },
          "metadata": {},
          "execution_count": 49
        }
      ]
    },
    {
      "cell_type": "markdown",
      "source": [
        "# Pandas y numpy"
      ],
      "metadata": {
        "id": "Nt3VPvI2jTTy"
      }
    },
    {
      "cell_type": "code",
      "source": [
        "# Cargar el archivo GM_price.csv en un DataFrame\n",
        "df = pd.read_csv('/content/GM_price.csv',index_col=0)\n",
        "df"
      ],
      "metadata": {
        "id": "T2V7iwpVjWCu",
        "colab": {
          "base_uri": "https://localhost:8080/",
          "height": 455
        },
        "outputId": "9aba4086-1f9b-4849-ecc2-ac0aae8d83a9"
      },
      "execution_count": null,
      "outputs": [
        {
          "output_type": "execute_result",
          "data": {
            "text/plain": [
              "                                Open       High        Low      Close  \\\n",
              "Date                                                                    \n",
              "2020-01-02 00:00:00-05:00  36.470809  36.845375  36.027244  36.845375   \n",
              "2020-01-03 00:00:00-05:00  36.204669  36.391950  35.593538  35.800533   \n",
              "2020-01-06 00:00:00-05:00  35.435824  35.662534  35.287968  35.327396   \n",
              "2020-01-07 00:00:00-05:00  35.238687  35.327400  34.243134  34.647270   \n",
              "2020-01-08 00:00:00-05:00  34.538844  34.696556  33.917854  34.154423   \n",
              "...                              ...        ...        ...        ...   \n",
              "2022-10-25 00:00:00-04:00  36.450001  37.480000  35.830002  37.009998   \n",
              "2022-10-26 00:00:00-04:00  37.360001  38.270000  37.180000  37.860001   \n",
              "2022-10-27 00:00:00-04:00  38.040001  38.639999  37.410000  38.160000   \n",
              "2022-10-28 00:00:00-04:00  38.200001  38.880001  38.090000  38.849998   \n",
              "2022-10-31 00:00:00-04:00  38.549999  39.660000  38.360001  39.250000   \n",
              "\n",
              "                             Volume  Dividends  Stock Splits  \n",
              "Date                                                          \n",
              "2020-01-02 00:00:00-05:00   7454400        0.0             0  \n",
              "2020-01-03 00:00:00-05:00   9173000        0.0             0  \n",
              "2020-01-06 00:00:00-05:00   8408200        0.0             0  \n",
              "2020-01-07 00:00:00-05:00  17556800        0.0             0  \n",
              "2020-01-08 00:00:00-05:00  13229400        0.0             0  \n",
              "...                             ...        ...           ...  \n",
              "2022-10-25 00:00:00-04:00  25537500        0.0             0  \n",
              "2022-10-26 00:00:00-04:00  19638600        0.0             0  \n",
              "2022-10-27 00:00:00-04:00  13842600        0.0             0  \n",
              "2022-10-28 00:00:00-04:00  10459800        0.0             0  \n",
              "2022-10-31 00:00:00-04:00  13957700        0.0             0  \n",
              "\n",
              "[714 rows x 7 columns]"
            ],
            "text/html": [
              "\n",
              "  <div id=\"df-bb417c01-53b4-467d-92d5-b4d18445ab7b\">\n",
              "    <div class=\"colab-df-container\">\n",
              "      <div>\n",
              "<style scoped>\n",
              "    .dataframe tbody tr th:only-of-type {\n",
              "        vertical-align: middle;\n",
              "    }\n",
              "\n",
              "    .dataframe tbody tr th {\n",
              "        vertical-align: top;\n",
              "    }\n",
              "\n",
              "    .dataframe thead th {\n",
              "        text-align: right;\n",
              "    }\n",
              "</style>\n",
              "<table border=\"1\" class=\"dataframe\">\n",
              "  <thead>\n",
              "    <tr style=\"text-align: right;\">\n",
              "      <th></th>\n",
              "      <th>Open</th>\n",
              "      <th>High</th>\n",
              "      <th>Low</th>\n",
              "      <th>Close</th>\n",
              "      <th>Volume</th>\n",
              "      <th>Dividends</th>\n",
              "      <th>Stock Splits</th>\n",
              "    </tr>\n",
              "    <tr>\n",
              "      <th>Date</th>\n",
              "      <th></th>\n",
              "      <th></th>\n",
              "      <th></th>\n",
              "      <th></th>\n",
              "      <th></th>\n",
              "      <th></th>\n",
              "      <th></th>\n",
              "    </tr>\n",
              "  </thead>\n",
              "  <tbody>\n",
              "    <tr>\n",
              "      <th>2020-01-02 00:00:00-05:00</th>\n",
              "      <td>36.470809</td>\n",
              "      <td>36.845375</td>\n",
              "      <td>36.027244</td>\n",
              "      <td>36.845375</td>\n",
              "      <td>7454400</td>\n",
              "      <td>0.0</td>\n",
              "      <td>0</td>\n",
              "    </tr>\n",
              "    <tr>\n",
              "      <th>2020-01-03 00:00:00-05:00</th>\n",
              "      <td>36.204669</td>\n",
              "      <td>36.391950</td>\n",
              "      <td>35.593538</td>\n",
              "      <td>35.800533</td>\n",
              "      <td>9173000</td>\n",
              "      <td>0.0</td>\n",
              "      <td>0</td>\n",
              "    </tr>\n",
              "    <tr>\n",
              "      <th>2020-01-06 00:00:00-05:00</th>\n",
              "      <td>35.435824</td>\n",
              "      <td>35.662534</td>\n",
              "      <td>35.287968</td>\n",
              "      <td>35.327396</td>\n",
              "      <td>8408200</td>\n",
              "      <td>0.0</td>\n",
              "      <td>0</td>\n",
              "    </tr>\n",
              "    <tr>\n",
              "      <th>2020-01-07 00:00:00-05:00</th>\n",
              "      <td>35.238687</td>\n",
              "      <td>35.327400</td>\n",
              "      <td>34.243134</td>\n",
              "      <td>34.647270</td>\n",
              "      <td>17556800</td>\n",
              "      <td>0.0</td>\n",
              "      <td>0</td>\n",
              "    </tr>\n",
              "    <tr>\n",
              "      <th>2020-01-08 00:00:00-05:00</th>\n",
              "      <td>34.538844</td>\n",
              "      <td>34.696556</td>\n",
              "      <td>33.917854</td>\n",
              "      <td>34.154423</td>\n",
              "      <td>13229400</td>\n",
              "      <td>0.0</td>\n",
              "      <td>0</td>\n",
              "    </tr>\n",
              "    <tr>\n",
              "      <th>...</th>\n",
              "      <td>...</td>\n",
              "      <td>...</td>\n",
              "      <td>...</td>\n",
              "      <td>...</td>\n",
              "      <td>...</td>\n",
              "      <td>...</td>\n",
              "      <td>...</td>\n",
              "    </tr>\n",
              "    <tr>\n",
              "      <th>2022-10-25 00:00:00-04:00</th>\n",
              "      <td>36.450001</td>\n",
              "      <td>37.480000</td>\n",
              "      <td>35.830002</td>\n",
              "      <td>37.009998</td>\n",
              "      <td>25537500</td>\n",
              "      <td>0.0</td>\n",
              "      <td>0</td>\n",
              "    </tr>\n",
              "    <tr>\n",
              "      <th>2022-10-26 00:00:00-04:00</th>\n",
              "      <td>37.360001</td>\n",
              "      <td>38.270000</td>\n",
              "      <td>37.180000</td>\n",
              "      <td>37.860001</td>\n",
              "      <td>19638600</td>\n",
              "      <td>0.0</td>\n",
              "      <td>0</td>\n",
              "    </tr>\n",
              "    <tr>\n",
              "      <th>2022-10-27 00:00:00-04:00</th>\n",
              "      <td>38.040001</td>\n",
              "      <td>38.639999</td>\n",
              "      <td>37.410000</td>\n",
              "      <td>38.160000</td>\n",
              "      <td>13842600</td>\n",
              "      <td>0.0</td>\n",
              "      <td>0</td>\n",
              "    </tr>\n",
              "    <tr>\n",
              "      <th>2022-10-28 00:00:00-04:00</th>\n",
              "      <td>38.200001</td>\n",
              "      <td>38.880001</td>\n",
              "      <td>38.090000</td>\n",
              "      <td>38.849998</td>\n",
              "      <td>10459800</td>\n",
              "      <td>0.0</td>\n",
              "      <td>0</td>\n",
              "    </tr>\n",
              "    <tr>\n",
              "      <th>2022-10-31 00:00:00-04:00</th>\n",
              "      <td>38.549999</td>\n",
              "      <td>39.660000</td>\n",
              "      <td>38.360001</td>\n",
              "      <td>39.250000</td>\n",
              "      <td>13957700</td>\n",
              "      <td>0.0</td>\n",
              "      <td>0</td>\n",
              "    </tr>\n",
              "  </tbody>\n",
              "</table>\n",
              "<p>714 rows × 7 columns</p>\n",
              "</div>\n",
              "      <button class=\"colab-df-convert\" onclick=\"convertToInteractive('df-bb417c01-53b4-467d-92d5-b4d18445ab7b')\"\n",
              "              title=\"Convert this dataframe to an interactive table.\"\n",
              "              style=\"display:none;\">\n",
              "        \n",
              "  <svg xmlns=\"http://www.w3.org/2000/svg\" height=\"24px\"viewBox=\"0 0 24 24\"\n",
              "       width=\"24px\">\n",
              "    <path d=\"M0 0h24v24H0V0z\" fill=\"none\"/>\n",
              "    <path d=\"M18.56 5.44l.94 2.06.94-2.06 2.06-.94-2.06-.94-.94-2.06-.94 2.06-2.06.94zm-11 1L8.5 8.5l.94-2.06 2.06-.94-2.06-.94L8.5 2.5l-.94 2.06-2.06.94zm10 10l.94 2.06.94-2.06 2.06-.94-2.06-.94-.94-2.06-.94 2.06-2.06.94z\"/><path d=\"M17.41 7.96l-1.37-1.37c-.4-.4-.92-.59-1.43-.59-.52 0-1.04.2-1.43.59L10.3 9.45l-7.72 7.72c-.78.78-.78 2.05 0 2.83L4 21.41c.39.39.9.59 1.41.59.51 0 1.02-.2 1.41-.59l7.78-7.78 2.81-2.81c.8-.78.8-2.07 0-2.86zM5.41 20L4 18.59l7.72-7.72 1.47 1.35L5.41 20z\"/>\n",
              "  </svg>\n",
              "      </button>\n",
              "      \n",
              "  <style>\n",
              "    .colab-df-container {\n",
              "      display:flex;\n",
              "      flex-wrap:wrap;\n",
              "      gap: 12px;\n",
              "    }\n",
              "\n",
              "    .colab-df-convert {\n",
              "      background-color: #E8F0FE;\n",
              "      border: none;\n",
              "      border-radius: 50%;\n",
              "      cursor: pointer;\n",
              "      display: none;\n",
              "      fill: #1967D2;\n",
              "      height: 32px;\n",
              "      padding: 0 0 0 0;\n",
              "      width: 32px;\n",
              "    }\n",
              "\n",
              "    .colab-df-convert:hover {\n",
              "      background-color: #E2EBFA;\n",
              "      box-shadow: 0px 1px 2px rgba(60, 64, 67, 0.3), 0px 1px 3px 1px rgba(60, 64, 67, 0.15);\n",
              "      fill: #174EA6;\n",
              "    }\n",
              "\n",
              "    [theme=dark] .colab-df-convert {\n",
              "      background-color: #3B4455;\n",
              "      fill: #D2E3FC;\n",
              "    }\n",
              "\n",
              "    [theme=dark] .colab-df-convert:hover {\n",
              "      background-color: #434B5C;\n",
              "      box-shadow: 0px 1px 3px 1px rgba(0, 0, 0, 0.15);\n",
              "      filter: drop-shadow(0px 1px 2px rgba(0, 0, 0, 0.3));\n",
              "      fill: #FFFFFF;\n",
              "    }\n",
              "  </style>\n",
              "\n",
              "      <script>\n",
              "        const buttonEl =\n",
              "          document.querySelector('#df-bb417c01-53b4-467d-92d5-b4d18445ab7b button.colab-df-convert');\n",
              "        buttonEl.style.display =\n",
              "          google.colab.kernel.accessAllowed ? 'block' : 'none';\n",
              "\n",
              "        async function convertToInteractive(key) {\n",
              "          const element = document.querySelector('#df-bb417c01-53b4-467d-92d5-b4d18445ab7b');\n",
              "          const dataTable =\n",
              "            await google.colab.kernel.invokeFunction('convertToInteractive',\n",
              "                                                     [key], {});\n",
              "          if (!dataTable) return;\n",
              "\n",
              "          const docLinkHtml = 'Like what you see? Visit the ' +\n",
              "            '<a target=\"_blank\" href=https://colab.research.google.com/notebooks/data_table.ipynb>data table notebook</a>'\n",
              "            + ' to learn more about interactive tables.';\n",
              "          element.innerHTML = '';\n",
              "          dataTable['output_type'] = 'display_data';\n",
              "          await google.colab.output.renderOutput(dataTable, element);\n",
              "          const docLink = document.createElement('div');\n",
              "          docLink.innerHTML = docLinkHtml;\n",
              "          element.appendChild(docLink);\n",
              "        }\n",
              "      </script>\n",
              "    </div>\n",
              "  </div>\n",
              "  "
            ]
          },
          "metadata": {},
          "execution_count": 3
        }
      ]
    },
    {
      "cell_type": "code",
      "source": [
        "df.loc[df.index.max(),:]"
      ],
      "metadata": {
        "colab": {
          "base_uri": "https://localhost:8080/"
        },
        "id": "jKkNwVFadovP",
        "outputId": "7c488d80-eacb-445e-fc3a-b5eee418fce4"
      },
      "execution_count": null,
      "outputs": [
        {
          "output_type": "execute_result",
          "data": {
            "text/plain": [
              "Open            3.855000e+01\n",
              "High            3.966000e+01\n",
              "Low             3.836000e+01\n",
              "Close           3.925000e+01\n",
              "Volume          1.395770e+07\n",
              "Dividends       0.000000e+00\n",
              "Stock Splits    0.000000e+00\n",
              "Name: 2022-10-31 00:00:00-04:00, dtype: float64"
            ]
          },
          "metadata": {},
          "execution_count": 6
        }
      ]
    },
    {
      "cell_type": "code",
      "source": [
        "# Mostrar los 3 primeros registros\n",
        "df.head(3)"
      ],
      "metadata": {
        "colab": {
          "base_uri": "https://localhost:8080/",
          "height": 175
        },
        "id": "M67MlkGGkHPq",
        "outputId": "6aad9eb9-efa8-40f3-b8be-15ff4aa377ab"
      },
      "execution_count": null,
      "outputs": [
        {
          "output_type": "execute_result",
          "data": {
            "text/plain": [
              "                                Open       High        Low      Close  \\\n",
              "Date                                                                    \n",
              "2020-01-02 00:00:00-05:00  36.470809  36.845375  36.027244  36.845375   \n",
              "2020-01-03 00:00:00-05:00  36.204669  36.391950  35.593538  35.800533   \n",
              "2020-01-06 00:00:00-05:00  35.435824  35.662534  35.287968  35.327396   \n",
              "\n",
              "                            Volume  Dividends  Stock Splits  \n",
              "Date                                                         \n",
              "2020-01-02 00:00:00-05:00  7454400        0.0             0  \n",
              "2020-01-03 00:00:00-05:00  9173000        0.0             0  \n",
              "2020-01-06 00:00:00-05:00  8408200        0.0             0  "
            ],
            "text/html": [
              "\n",
              "  <div id=\"df-cab32e62-d169-44f7-a1e3-c0a170cdccbd\">\n",
              "    <div class=\"colab-df-container\">\n",
              "      <div>\n",
              "<style scoped>\n",
              "    .dataframe tbody tr th:only-of-type {\n",
              "        vertical-align: middle;\n",
              "    }\n",
              "\n",
              "    .dataframe tbody tr th {\n",
              "        vertical-align: top;\n",
              "    }\n",
              "\n",
              "    .dataframe thead th {\n",
              "        text-align: right;\n",
              "    }\n",
              "</style>\n",
              "<table border=\"1\" class=\"dataframe\">\n",
              "  <thead>\n",
              "    <tr style=\"text-align: right;\">\n",
              "      <th></th>\n",
              "      <th>Open</th>\n",
              "      <th>High</th>\n",
              "      <th>Low</th>\n",
              "      <th>Close</th>\n",
              "      <th>Volume</th>\n",
              "      <th>Dividends</th>\n",
              "      <th>Stock Splits</th>\n",
              "    </tr>\n",
              "    <tr>\n",
              "      <th>Date</th>\n",
              "      <th></th>\n",
              "      <th></th>\n",
              "      <th></th>\n",
              "      <th></th>\n",
              "      <th></th>\n",
              "      <th></th>\n",
              "      <th></th>\n",
              "    </tr>\n",
              "  </thead>\n",
              "  <tbody>\n",
              "    <tr>\n",
              "      <th>2020-01-02 00:00:00-05:00</th>\n",
              "      <td>36.470809</td>\n",
              "      <td>36.845375</td>\n",
              "      <td>36.027244</td>\n",
              "      <td>36.845375</td>\n",
              "      <td>7454400</td>\n",
              "      <td>0.0</td>\n",
              "      <td>0</td>\n",
              "    </tr>\n",
              "    <tr>\n",
              "      <th>2020-01-03 00:00:00-05:00</th>\n",
              "      <td>36.204669</td>\n",
              "      <td>36.391950</td>\n",
              "      <td>35.593538</td>\n",
              "      <td>35.800533</td>\n",
              "      <td>9173000</td>\n",
              "      <td>0.0</td>\n",
              "      <td>0</td>\n",
              "    </tr>\n",
              "    <tr>\n",
              "      <th>2020-01-06 00:00:00-05:00</th>\n",
              "      <td>35.435824</td>\n",
              "      <td>35.662534</td>\n",
              "      <td>35.287968</td>\n",
              "      <td>35.327396</td>\n",
              "      <td>8408200</td>\n",
              "      <td>0.0</td>\n",
              "      <td>0</td>\n",
              "    </tr>\n",
              "  </tbody>\n",
              "</table>\n",
              "</div>\n",
              "      <button class=\"colab-df-convert\" onclick=\"convertToInteractive('df-cab32e62-d169-44f7-a1e3-c0a170cdccbd')\"\n",
              "              title=\"Convert this dataframe to an interactive table.\"\n",
              "              style=\"display:none;\">\n",
              "        \n",
              "  <svg xmlns=\"http://www.w3.org/2000/svg\" height=\"24px\"viewBox=\"0 0 24 24\"\n",
              "       width=\"24px\">\n",
              "    <path d=\"M0 0h24v24H0V0z\" fill=\"none\"/>\n",
              "    <path d=\"M18.56 5.44l.94 2.06.94-2.06 2.06-.94-2.06-.94-.94-2.06-.94 2.06-2.06.94zm-11 1L8.5 8.5l.94-2.06 2.06-.94-2.06-.94L8.5 2.5l-.94 2.06-2.06.94zm10 10l.94 2.06.94-2.06 2.06-.94-2.06-.94-.94-2.06-.94 2.06-2.06.94z\"/><path d=\"M17.41 7.96l-1.37-1.37c-.4-.4-.92-.59-1.43-.59-.52 0-1.04.2-1.43.59L10.3 9.45l-7.72 7.72c-.78.78-.78 2.05 0 2.83L4 21.41c.39.39.9.59 1.41.59.51 0 1.02-.2 1.41-.59l7.78-7.78 2.81-2.81c.8-.78.8-2.07 0-2.86zM5.41 20L4 18.59l7.72-7.72 1.47 1.35L5.41 20z\"/>\n",
              "  </svg>\n",
              "      </button>\n",
              "      \n",
              "  <style>\n",
              "    .colab-df-container {\n",
              "      display:flex;\n",
              "      flex-wrap:wrap;\n",
              "      gap: 12px;\n",
              "    }\n",
              "\n",
              "    .colab-df-convert {\n",
              "      background-color: #E8F0FE;\n",
              "      border: none;\n",
              "      border-radius: 50%;\n",
              "      cursor: pointer;\n",
              "      display: none;\n",
              "      fill: #1967D2;\n",
              "      height: 32px;\n",
              "      padding: 0 0 0 0;\n",
              "      width: 32px;\n",
              "    }\n",
              "\n",
              "    .colab-df-convert:hover {\n",
              "      background-color: #E2EBFA;\n",
              "      box-shadow: 0px 1px 2px rgba(60, 64, 67, 0.3), 0px 1px 3px 1px rgba(60, 64, 67, 0.15);\n",
              "      fill: #174EA6;\n",
              "    }\n",
              "\n",
              "    [theme=dark] .colab-df-convert {\n",
              "      background-color: #3B4455;\n",
              "      fill: #D2E3FC;\n",
              "    }\n",
              "\n",
              "    [theme=dark] .colab-df-convert:hover {\n",
              "      background-color: #434B5C;\n",
              "      box-shadow: 0px 1px 3px 1px rgba(0, 0, 0, 0.15);\n",
              "      filter: drop-shadow(0px 1px 2px rgba(0, 0, 0, 0.3));\n",
              "      fill: #FFFFFF;\n",
              "    }\n",
              "  </style>\n",
              "\n",
              "      <script>\n",
              "        const buttonEl =\n",
              "          document.querySelector('#df-cab32e62-d169-44f7-a1e3-c0a170cdccbd button.colab-df-convert');\n",
              "        buttonEl.style.display =\n",
              "          google.colab.kernel.accessAllowed ? 'block' : 'none';\n",
              "\n",
              "        async function convertToInteractive(key) {\n",
              "          const element = document.querySelector('#df-cab32e62-d169-44f7-a1e3-c0a170cdccbd');\n",
              "          const dataTable =\n",
              "            await google.colab.kernel.invokeFunction('convertToInteractive',\n",
              "                                                     [key], {});\n",
              "          if (!dataTable) return;\n",
              "\n",
              "          const docLinkHtml = 'Like what you see? Visit the ' +\n",
              "            '<a target=\"_blank\" href=https://colab.research.google.com/notebooks/data_table.ipynb>data table notebook</a>'\n",
              "            + ' to learn more about interactive tables.';\n",
              "          element.innerHTML = '';\n",
              "          dataTable['output_type'] = 'display_data';\n",
              "          await google.colab.output.renderOutput(dataTable, element);\n",
              "          const docLink = document.createElement('div');\n",
              "          docLink.innerHTML = docLinkHtml;\n",
              "          element.appendChild(docLink);\n",
              "        }\n",
              "      </script>\n",
              "    </div>\n",
              "  </div>\n",
              "  "
            ]
          },
          "metadata": {},
          "execution_count": 54
        }
      ]
    },
    {
      "cell_type": "code",
      "source": [
        "# Mostrar los 3 últimos registros\n",
        "df.tail(3)"
      ],
      "metadata": {
        "colab": {
          "base_uri": "https://localhost:8080/",
          "height": 175
        },
        "id": "qmCeECKAkOSO",
        "outputId": "76e5143f-e1d8-4bc0-e4c7-31059b3fcd38"
      },
      "execution_count": null,
      "outputs": [
        {
          "output_type": "execute_result",
          "data": {
            "text/plain": [
              "                                Open       High        Low      Close  \\\n",
              "Date                                                                    \n",
              "2022-10-27 00:00:00-04:00  38.040001  38.639999  37.410000  38.160000   \n",
              "2022-10-28 00:00:00-04:00  38.200001  38.880001  38.090000  38.849998   \n",
              "2022-10-31 00:00:00-04:00  38.549999  39.660000  38.360001  39.250000   \n",
              "\n",
              "                             Volume  Dividends  Stock Splits  \n",
              "Date                                                          \n",
              "2022-10-27 00:00:00-04:00  13842600        0.0             0  \n",
              "2022-10-28 00:00:00-04:00  10459800        0.0             0  \n",
              "2022-10-31 00:00:00-04:00  13957700        0.0             0  "
            ],
            "text/html": [
              "\n",
              "  <div id=\"df-fba2079f-e193-4536-8c23-ede75b3a425a\">\n",
              "    <div class=\"colab-df-container\">\n",
              "      <div>\n",
              "<style scoped>\n",
              "    .dataframe tbody tr th:only-of-type {\n",
              "        vertical-align: middle;\n",
              "    }\n",
              "\n",
              "    .dataframe tbody tr th {\n",
              "        vertical-align: top;\n",
              "    }\n",
              "\n",
              "    .dataframe thead th {\n",
              "        text-align: right;\n",
              "    }\n",
              "</style>\n",
              "<table border=\"1\" class=\"dataframe\">\n",
              "  <thead>\n",
              "    <tr style=\"text-align: right;\">\n",
              "      <th></th>\n",
              "      <th>Open</th>\n",
              "      <th>High</th>\n",
              "      <th>Low</th>\n",
              "      <th>Close</th>\n",
              "      <th>Volume</th>\n",
              "      <th>Dividends</th>\n",
              "      <th>Stock Splits</th>\n",
              "    </tr>\n",
              "    <tr>\n",
              "      <th>Date</th>\n",
              "      <th></th>\n",
              "      <th></th>\n",
              "      <th></th>\n",
              "      <th></th>\n",
              "      <th></th>\n",
              "      <th></th>\n",
              "      <th></th>\n",
              "    </tr>\n",
              "  </thead>\n",
              "  <tbody>\n",
              "    <tr>\n",
              "      <th>2022-10-27 00:00:00-04:00</th>\n",
              "      <td>38.040001</td>\n",
              "      <td>38.639999</td>\n",
              "      <td>37.410000</td>\n",
              "      <td>38.160000</td>\n",
              "      <td>13842600</td>\n",
              "      <td>0.0</td>\n",
              "      <td>0</td>\n",
              "    </tr>\n",
              "    <tr>\n",
              "      <th>2022-10-28 00:00:00-04:00</th>\n",
              "      <td>38.200001</td>\n",
              "      <td>38.880001</td>\n",
              "      <td>38.090000</td>\n",
              "      <td>38.849998</td>\n",
              "      <td>10459800</td>\n",
              "      <td>0.0</td>\n",
              "      <td>0</td>\n",
              "    </tr>\n",
              "    <tr>\n",
              "      <th>2022-10-31 00:00:00-04:00</th>\n",
              "      <td>38.549999</td>\n",
              "      <td>39.660000</td>\n",
              "      <td>38.360001</td>\n",
              "      <td>39.250000</td>\n",
              "      <td>13957700</td>\n",
              "      <td>0.0</td>\n",
              "      <td>0</td>\n",
              "    </tr>\n",
              "  </tbody>\n",
              "</table>\n",
              "</div>\n",
              "      <button class=\"colab-df-convert\" onclick=\"convertToInteractive('df-fba2079f-e193-4536-8c23-ede75b3a425a')\"\n",
              "              title=\"Convert this dataframe to an interactive table.\"\n",
              "              style=\"display:none;\">\n",
              "        \n",
              "  <svg xmlns=\"http://www.w3.org/2000/svg\" height=\"24px\"viewBox=\"0 0 24 24\"\n",
              "       width=\"24px\">\n",
              "    <path d=\"M0 0h24v24H0V0z\" fill=\"none\"/>\n",
              "    <path d=\"M18.56 5.44l.94 2.06.94-2.06 2.06-.94-2.06-.94-.94-2.06-.94 2.06-2.06.94zm-11 1L8.5 8.5l.94-2.06 2.06-.94-2.06-.94L8.5 2.5l-.94 2.06-2.06.94zm10 10l.94 2.06.94-2.06 2.06-.94-2.06-.94-.94-2.06-.94 2.06-2.06.94z\"/><path d=\"M17.41 7.96l-1.37-1.37c-.4-.4-.92-.59-1.43-.59-.52 0-1.04.2-1.43.59L10.3 9.45l-7.72 7.72c-.78.78-.78 2.05 0 2.83L4 21.41c.39.39.9.59 1.41.59.51 0 1.02-.2 1.41-.59l7.78-7.78 2.81-2.81c.8-.78.8-2.07 0-2.86zM5.41 20L4 18.59l7.72-7.72 1.47 1.35L5.41 20z\"/>\n",
              "  </svg>\n",
              "      </button>\n",
              "      \n",
              "  <style>\n",
              "    .colab-df-container {\n",
              "      display:flex;\n",
              "      flex-wrap:wrap;\n",
              "      gap: 12px;\n",
              "    }\n",
              "\n",
              "    .colab-df-convert {\n",
              "      background-color: #E8F0FE;\n",
              "      border: none;\n",
              "      border-radius: 50%;\n",
              "      cursor: pointer;\n",
              "      display: none;\n",
              "      fill: #1967D2;\n",
              "      height: 32px;\n",
              "      padding: 0 0 0 0;\n",
              "      width: 32px;\n",
              "    }\n",
              "\n",
              "    .colab-df-convert:hover {\n",
              "      background-color: #E2EBFA;\n",
              "      box-shadow: 0px 1px 2px rgba(60, 64, 67, 0.3), 0px 1px 3px 1px rgba(60, 64, 67, 0.15);\n",
              "      fill: #174EA6;\n",
              "    }\n",
              "\n",
              "    [theme=dark] .colab-df-convert {\n",
              "      background-color: #3B4455;\n",
              "      fill: #D2E3FC;\n",
              "    }\n",
              "\n",
              "    [theme=dark] .colab-df-convert:hover {\n",
              "      background-color: #434B5C;\n",
              "      box-shadow: 0px 1px 3px 1px rgba(0, 0, 0, 0.15);\n",
              "      filter: drop-shadow(0px 1px 2px rgba(0, 0, 0, 0.3));\n",
              "      fill: #FFFFFF;\n",
              "    }\n",
              "  </style>\n",
              "\n",
              "      <script>\n",
              "        const buttonEl =\n",
              "          document.querySelector('#df-fba2079f-e193-4536-8c23-ede75b3a425a button.colab-df-convert');\n",
              "        buttonEl.style.display =\n",
              "          google.colab.kernel.accessAllowed ? 'block' : 'none';\n",
              "\n",
              "        async function convertToInteractive(key) {\n",
              "          const element = document.querySelector('#df-fba2079f-e193-4536-8c23-ede75b3a425a');\n",
              "          const dataTable =\n",
              "            await google.colab.kernel.invokeFunction('convertToInteractive',\n",
              "                                                     [key], {});\n",
              "          if (!dataTable) return;\n",
              "\n",
              "          const docLinkHtml = 'Like what you see? Visit the ' +\n",
              "            '<a target=\"_blank\" href=https://colab.research.google.com/notebooks/data_table.ipynb>data table notebook</a>'\n",
              "            + ' to learn more about interactive tables.';\n",
              "          element.innerHTML = '';\n",
              "          dataTable['output_type'] = 'display_data';\n",
              "          await google.colab.output.renderOutput(dataTable, element);\n",
              "          const docLink = document.createElement('div');\n",
              "          docLink.innerHTML = docLinkHtml;\n",
              "          element.appendChild(docLink);\n",
              "        }\n",
              "      </script>\n",
              "    </div>\n",
              "  </div>\n",
              "  "
            ]
          },
          "metadata": {},
          "execution_count": 55
        }
      ]
    },
    {
      "cell_type": "code",
      "source": [
        "df.describe()"
      ],
      "metadata": {
        "colab": {
          "base_uri": "https://localhost:8080/",
          "height": 300
        },
        "id": "5fW0yAimhm0t",
        "outputId": "9257fcef-24a9-4905-e184-b8106ebde5f7"
      },
      "execution_count": null,
      "outputs": [
        {
          "output_type": "execute_result",
          "data": {
            "text/plain": [
              "             Open        High         Low       Close        Volume  \\\n",
              "count  714.000000  714.000000  714.000000  714.000000  7.140000e+02   \n",
              "mean    42.342644   43.020981   41.609685   42.314676  1.725879e+07   \n",
              "std     12.448439   12.532659   12.314302   12.434200  7.697090e+06   \n",
              "min     16.302779   18.517722   14.297357   16.761730  6.491900e+06   \n",
              "25%     32.535718   32.981438   31.832322   32.358624  1.227435e+07   \n",
              "50%     40.584999   41.412733   39.863986   40.577356  1.556345e+07   \n",
              "75%     54.617801   55.381057   53.859531   54.490590  1.993432e+07   \n",
              "max     65.370746   67.056899   62.547195   65.590248  6.766720e+07   \n",
              "\n",
              "        Dividends  Stock Splits  \n",
              "count  714.000000         714.0  \n",
              "mean     0.000658           0.0  \n",
              "std      0.014610           0.0  \n",
              "min      0.000000           0.0  \n",
              "25%      0.000000           0.0  \n",
              "50%      0.000000           0.0  \n",
              "75%      0.000000           0.0  \n",
              "max      0.380000           0.0  "
            ],
            "text/html": [
              "\n",
              "  <div id=\"df-fa617a33-57b6-4f28-a72b-cb9c2ab449d2\">\n",
              "    <div class=\"colab-df-container\">\n",
              "      <div>\n",
              "<style scoped>\n",
              "    .dataframe tbody tr th:only-of-type {\n",
              "        vertical-align: middle;\n",
              "    }\n",
              "\n",
              "    .dataframe tbody tr th {\n",
              "        vertical-align: top;\n",
              "    }\n",
              "\n",
              "    .dataframe thead th {\n",
              "        text-align: right;\n",
              "    }\n",
              "</style>\n",
              "<table border=\"1\" class=\"dataframe\">\n",
              "  <thead>\n",
              "    <tr style=\"text-align: right;\">\n",
              "      <th></th>\n",
              "      <th>Open</th>\n",
              "      <th>High</th>\n",
              "      <th>Low</th>\n",
              "      <th>Close</th>\n",
              "      <th>Volume</th>\n",
              "      <th>Dividends</th>\n",
              "      <th>Stock Splits</th>\n",
              "    </tr>\n",
              "  </thead>\n",
              "  <tbody>\n",
              "    <tr>\n",
              "      <th>count</th>\n",
              "      <td>714.000000</td>\n",
              "      <td>714.000000</td>\n",
              "      <td>714.000000</td>\n",
              "      <td>714.000000</td>\n",
              "      <td>7.140000e+02</td>\n",
              "      <td>714.000000</td>\n",
              "      <td>714.0</td>\n",
              "    </tr>\n",
              "    <tr>\n",
              "      <th>mean</th>\n",
              "      <td>42.342644</td>\n",
              "      <td>43.020981</td>\n",
              "      <td>41.609685</td>\n",
              "      <td>42.314676</td>\n",
              "      <td>1.725879e+07</td>\n",
              "      <td>0.000658</td>\n",
              "      <td>0.0</td>\n",
              "    </tr>\n",
              "    <tr>\n",
              "      <th>std</th>\n",
              "      <td>12.448439</td>\n",
              "      <td>12.532659</td>\n",
              "      <td>12.314302</td>\n",
              "      <td>12.434200</td>\n",
              "      <td>7.697090e+06</td>\n",
              "      <td>0.014610</td>\n",
              "      <td>0.0</td>\n",
              "    </tr>\n",
              "    <tr>\n",
              "      <th>min</th>\n",
              "      <td>16.302779</td>\n",
              "      <td>18.517722</td>\n",
              "      <td>14.297357</td>\n",
              "      <td>16.761730</td>\n",
              "      <td>6.491900e+06</td>\n",
              "      <td>0.000000</td>\n",
              "      <td>0.0</td>\n",
              "    </tr>\n",
              "    <tr>\n",
              "      <th>25%</th>\n",
              "      <td>32.535718</td>\n",
              "      <td>32.981438</td>\n",
              "      <td>31.832322</td>\n",
              "      <td>32.358624</td>\n",
              "      <td>1.227435e+07</td>\n",
              "      <td>0.000000</td>\n",
              "      <td>0.0</td>\n",
              "    </tr>\n",
              "    <tr>\n",
              "      <th>50%</th>\n",
              "      <td>40.584999</td>\n",
              "      <td>41.412733</td>\n",
              "      <td>39.863986</td>\n",
              "      <td>40.577356</td>\n",
              "      <td>1.556345e+07</td>\n",
              "      <td>0.000000</td>\n",
              "      <td>0.0</td>\n",
              "    </tr>\n",
              "    <tr>\n",
              "      <th>75%</th>\n",
              "      <td>54.617801</td>\n",
              "      <td>55.381057</td>\n",
              "      <td>53.859531</td>\n",
              "      <td>54.490590</td>\n",
              "      <td>1.993432e+07</td>\n",
              "      <td>0.000000</td>\n",
              "      <td>0.0</td>\n",
              "    </tr>\n",
              "    <tr>\n",
              "      <th>max</th>\n",
              "      <td>65.370746</td>\n",
              "      <td>67.056899</td>\n",
              "      <td>62.547195</td>\n",
              "      <td>65.590248</td>\n",
              "      <td>6.766720e+07</td>\n",
              "      <td>0.380000</td>\n",
              "      <td>0.0</td>\n",
              "    </tr>\n",
              "  </tbody>\n",
              "</table>\n",
              "</div>\n",
              "      <button class=\"colab-df-convert\" onclick=\"convertToInteractive('df-fa617a33-57b6-4f28-a72b-cb9c2ab449d2')\"\n",
              "              title=\"Convert this dataframe to an interactive table.\"\n",
              "              style=\"display:none;\">\n",
              "        \n",
              "  <svg xmlns=\"http://www.w3.org/2000/svg\" height=\"24px\"viewBox=\"0 0 24 24\"\n",
              "       width=\"24px\">\n",
              "    <path d=\"M0 0h24v24H0V0z\" fill=\"none\"/>\n",
              "    <path d=\"M18.56 5.44l.94 2.06.94-2.06 2.06-.94-2.06-.94-.94-2.06-.94 2.06-2.06.94zm-11 1L8.5 8.5l.94-2.06 2.06-.94-2.06-.94L8.5 2.5l-.94 2.06-2.06.94zm10 10l.94 2.06.94-2.06 2.06-.94-2.06-.94-.94-2.06-.94 2.06-2.06.94z\"/><path d=\"M17.41 7.96l-1.37-1.37c-.4-.4-.92-.59-1.43-.59-.52 0-1.04.2-1.43.59L10.3 9.45l-7.72 7.72c-.78.78-.78 2.05 0 2.83L4 21.41c.39.39.9.59 1.41.59.51 0 1.02-.2 1.41-.59l7.78-7.78 2.81-2.81c.8-.78.8-2.07 0-2.86zM5.41 20L4 18.59l7.72-7.72 1.47 1.35L5.41 20z\"/>\n",
              "  </svg>\n",
              "      </button>\n",
              "      \n",
              "  <style>\n",
              "    .colab-df-container {\n",
              "      display:flex;\n",
              "      flex-wrap:wrap;\n",
              "      gap: 12px;\n",
              "    }\n",
              "\n",
              "    .colab-df-convert {\n",
              "      background-color: #E8F0FE;\n",
              "      border: none;\n",
              "      border-radius: 50%;\n",
              "      cursor: pointer;\n",
              "      display: none;\n",
              "      fill: #1967D2;\n",
              "      height: 32px;\n",
              "      padding: 0 0 0 0;\n",
              "      width: 32px;\n",
              "    }\n",
              "\n",
              "    .colab-df-convert:hover {\n",
              "      background-color: #E2EBFA;\n",
              "      box-shadow: 0px 1px 2px rgba(60, 64, 67, 0.3), 0px 1px 3px 1px rgba(60, 64, 67, 0.15);\n",
              "      fill: #174EA6;\n",
              "    }\n",
              "\n",
              "    [theme=dark] .colab-df-convert {\n",
              "      background-color: #3B4455;\n",
              "      fill: #D2E3FC;\n",
              "    }\n",
              "\n",
              "    [theme=dark] .colab-df-convert:hover {\n",
              "      background-color: #434B5C;\n",
              "      box-shadow: 0px 1px 3px 1px rgba(0, 0, 0, 0.15);\n",
              "      filter: drop-shadow(0px 1px 2px rgba(0, 0, 0, 0.3));\n",
              "      fill: #FFFFFF;\n",
              "    }\n",
              "  </style>\n",
              "\n",
              "      <script>\n",
              "        const buttonEl =\n",
              "          document.querySelector('#df-fa617a33-57b6-4f28-a72b-cb9c2ab449d2 button.colab-df-convert');\n",
              "        buttonEl.style.display =\n",
              "          google.colab.kernel.accessAllowed ? 'block' : 'none';\n",
              "\n",
              "        async function convertToInteractive(key) {\n",
              "          const element = document.querySelector('#df-fa617a33-57b6-4f28-a72b-cb9c2ab449d2');\n",
              "          const dataTable =\n",
              "            await google.colab.kernel.invokeFunction('convertToInteractive',\n",
              "                                                     [key], {});\n",
              "          if (!dataTable) return;\n",
              "\n",
              "          const docLinkHtml = 'Like what you see? Visit the ' +\n",
              "            '<a target=\"_blank\" href=https://colab.research.google.com/notebooks/data_table.ipynb>data table notebook</a>'\n",
              "            + ' to learn more about interactive tables.';\n",
              "          element.innerHTML = '';\n",
              "          dataTable['output_type'] = 'display_data';\n",
              "          await google.colab.output.renderOutput(dataTable, element);\n",
              "          const docLink = document.createElement('div');\n",
              "          docLink.innerHTML = docLinkHtml;\n",
              "          element.appendChild(docLink);\n",
              "        }\n",
              "      </script>\n",
              "    </div>\n",
              "  </div>\n",
              "  "
            ]
          },
          "metadata": {},
          "execution_count": 56
        }
      ]
    },
    {
      "cell_type": "code",
      "source": [
        "# Obtener el último precio de cierre\n",
        "df['Close'][-1]"
      ],
      "metadata": {
        "colab": {
          "base_uri": "https://localhost:8080/"
        },
        "id": "WyvsNZgZhRLG",
        "outputId": "6a5c2b6d-f21f-4a0e-f7c7-141551cfe907"
      },
      "execution_count": null,
      "outputs": [
        {
          "output_type": "execute_result",
          "data": {
            "text/plain": [
              "39.25"
            ]
          },
          "metadata": {},
          "execution_count": 73
        }
      ]
    },
    {
      "cell_type": "code",
      "source": [
        "df.columns"
      ],
      "metadata": {
        "colab": {
          "base_uri": "https://localhost:8080/"
        },
        "id": "26HdycI4LlwL",
        "outputId": "ce0b94df-e41f-412b-d781-fdfb8f1c30c2"
      },
      "execution_count": null,
      "outputs": [
        {
          "output_type": "execute_result",
          "data": {
            "text/plain": [
              "Index(['Open', 'High', 'Low', 'Close', 'Volume', 'Dividends', 'Stock Splits'], dtype='object')"
            ]
          },
          "metadata": {},
          "execution_count": 71
        }
      ]
    },
    {
      "cell_type": "code",
      "source": [
        "# Boxplot de precios\n",
        "df[['High','Low']].plot.box()"
      ],
      "metadata": {
        "colab": {
          "base_uri": "https://localhost:8080/",
          "height": 282
        },
        "id": "2M5eF99BiARf",
        "outputId": "6aa446c8-2755-4233-c6b1-2fe510d7da11"
      },
      "execution_count": null,
      "outputs": [
        {
          "output_type": "execute_result",
          "data": {
            "text/plain": [
              "<matplotlib.axes._subplots.AxesSubplot at 0x7f53b611c290>"
            ]
          },
          "metadata": {},
          "execution_count": 74
        },
        {
          "output_type": "display_data",
          "data": {
            "text/plain": [
              "<Figure size 432x288 with 1 Axes>"
            ],
            "image/png": "[encoded data removed]"
          },
          "metadata": {
            "needs_background": "light"
          }
        }
      ]
    },
    {
      "cell_type": "code",
      "source": [
        "# Calcular una nueva columna que sea el precio medio\n",
        "df['Mean'] = np.mean(df[['High', 'Low']],axis=1)\n",
        "df.head()"
      ],
      "metadata": {
        "id": "DEarpOggkTZt",
        "colab": {
          "base_uri": "https://localhost:8080/",
          "height": 107
        },
        "outputId": "4c1a761b-874e-4043-c5e8-dbd23fcac739"
      },
      "execution_count": null,
      "outputs": [
        {
          "output_type": "execute_result",
          "data": {
            "text/plain": [
              "                                Open       High        Low      Close  \\\n",
              "Date                                                                    \n",
              "2020-01-02 00:00:00-05:00  36.470809  36.845375  36.027244  36.845375   \n",
              "2020-01-03 00:00:00-05:00  36.204669  36.391950  35.593538  35.800533   \n",
              "2020-01-06 00:00:00-05:00  35.435824  35.662534  35.287968  35.327396   \n",
              "2020-01-07 00:00:00-05:00  35.238687  35.327400  34.243134  34.647270   \n",
              "2020-01-08 00:00:00-05:00  34.538844  34.696556  33.917854  34.154423   \n",
              "\n",
              "                             Volume  Dividends  Stock Splits       Mean  \n",
              "Date                                                                     \n",
              "2020-01-02 00:00:00-05:00   7454400        0.0             0  36.436310  \n",
              "2020-01-03 00:00:00-05:00   9173000        0.0             0  35.992744  \n",
              "2020-01-06 00:00:00-05:00   8408200        0.0             0  35.475251  \n",
              "2020-01-07 00:00:00-05:00  17556800        0.0             0  34.785267  \n",
              "2020-01-08 00:00:00-05:00  13229400        0.0             0  34.307205  "
            ],
            "text/html": [
              "\n",
              "  <div id=\"df-dba1e373-f7ce-48f4-b31e-39e0363bd3fe\">\n",
              "    <div class=\"colab-df-container\">\n",
              "      <div>\n",
              "<style scoped>\n",
              "    .dataframe tbody tr th:only-of-type {\n",
              "        vertical-align: middle;\n",
              "    }\n",
              "\n",
              "    .dataframe tbody tr th {\n",
              "        vertical-align: top;\n",
              "    }\n",
              "\n",
              "    .dataframe thead th {\n",
              "        text-align: right;\n",
              "    }\n",
              "</style>\n",
              "<table border=\"1\" class=\"dataframe\">\n",
              "  <thead>\n",
              "    <tr style=\"text-align: right;\">\n",
              "      <th></th>\n",
              "      <th>Open</th>\n",
              "      <th>High</th>\n",
              "      <th>Low</th>\n",
              "      <th>Close</th>\n",
              "      <th>Volume</th>\n",
              "      <th>Dividends</th>\n",
              "      <th>Stock Splits</th>\n",
              "      <th>Mean</th>\n",
              "    </tr>\n",
              "    <tr>\n",
              "      <th>Date</th>\n",
              "      <th></th>\n",
              "      <th></th>\n",
              "      <th></th>\n",
              "      <th></th>\n",
              "      <th></th>\n",
              "      <th></th>\n",
              "      <th></th>\n",
              "      <th></th>\n",
              "    </tr>\n",
              "  </thead>\n",
              "  <tbody>\n",
              "    <tr>\n",
              "      <th>2020-01-02 00:00:00-05:00</th>\n",
              "      <td>36.470809</td>\n",
              "      <td>36.845375</td>\n",
              "      <td>36.027244</td>\n",
              "      <td>36.845375</td>\n",
              "      <td>7454400</td>\n",
              "      <td>0.0</td>\n",
              "      <td>0</td>\n",
              "      <td>36.436310</td>\n",
              "    </tr>\n",
              "    <tr>\n",
              "      <th>2020-01-03 00:00:00-05:00</th>\n",
              "      <td>36.204669</td>\n",
              "      <td>36.391950</td>\n",
              "      <td>35.593538</td>\n",
              "      <td>35.800533</td>\n",
              "      <td>9173000</td>\n",
              "      <td>0.0</td>\n",
              "      <td>0</td>\n",
              "      <td>35.992744</td>\n",
              "    </tr>\n",
              "    <tr>\n",
              "      <th>2020-01-06 00:00:00-05:00</th>\n",
              "      <td>35.435824</td>\n",
              "      <td>35.662534</td>\n",
              "      <td>35.287968</td>\n",
              "      <td>35.327396</td>\n",
              "      <td>8408200</td>\n",
              "      <td>0.0</td>\n",
              "      <td>0</td>\n",
              "      <td>35.475251</td>\n",
              "    </tr>\n",
              "    <tr>\n",
              "      <th>2020-01-07 00:00:00-05:00</th>\n",
              "      <td>35.238687</td>\n",
              "      <td>35.327400</td>\n",
              "      <td>34.243134</td>\n",
              "      <td>34.647270</td>\n",
              "      <td>17556800</td>\n",
              "      <td>0.0</td>\n",
              "      <td>0</td>\n",
              "      <td>34.785267</td>\n",
              "    </tr>\n",
              "    <tr>\n",
              "      <th>2020-01-08 00:00:00-05:00</th>\n",
              "      <td>34.538844</td>\n",
              "      <td>34.696556</td>\n",
              "      <td>33.917854</td>\n",
              "      <td>34.154423</td>\n",
              "      <td>13229400</td>\n",
              "      <td>0.0</td>\n",
              "      <td>0</td>\n",
              "      <td>34.307205</td>\n",
              "    </tr>\n",
              "  </tbody>\n",
              "</table>\n",
              "</div>\n",
              "      <button class=\"colab-df-convert\" onclick=\"convertToInteractive('df-dba1e373-f7ce-48f4-b31e-39e0363bd3fe')\"\n",
              "              title=\"Convert this dataframe to an interactive table.\"\n",
              "              style=\"display:none;\">\n",
              "        \n",
              "  <svg xmlns=\"http://www.w3.org/2000/svg\" height=\"24px\"viewBox=\"0 0 24 24\"\n",
              "       width=\"24px\">\n",
              "    <path d=\"M0 0h24v24H0V0z\" fill=\"none\"/>\n",
              "    <path d=\"M18.56 5.44l.94 2.06.94-2.06 2.06-.94-2.06-.94-.94-2.06-.94 2.06-2.06.94zm-11 1L8.5 8.5l.94-2.06 2.06-.94-2.06-.94L8.5 2.5l-.94 2.06-2.06.94zm10 10l.94 2.06.94-2.06 2.06-.94-2.06-.94-.94-2.06-.94 2.06-2.06.94z\"/><path d=\"M17.41 7.96l-1.37-1.37c-.4-.4-.92-.59-1.43-.59-.52 0-1.04.2-1.43.59L10.3 9.45l-7.72 7.72c-.78.78-.78 2.05 0 2.83L4 21.41c.39.39.9.59 1.41.59.51 0 1.02-.2 1.41-.59l7.78-7.78 2.81-2.81c.8-.78.8-2.07 0-2.86zM5.41 20L4 18.59l7.72-7.72 1.47 1.35L5.41 20z\"/>\n",
              "  </svg>\n",
              "      </button>\n",
              "      \n",
              "  <style>\n",
              "    .colab-df-container {\n",
              "      display:flex;\n",
              "      flex-wrap:wrap;\n",
              "      gap: 12px;\n",
              "    }\n",
              "\n",
              "    .colab-df-convert {\n",
              "      background-color: #E8F0FE;\n",
              "      border: none;\n",
              "      border-radius: 50%;\n",
              "      cursor: pointer;\n",
              "      display: none;\n",
              "      fill: #1967D2;\n",
              "      height: 32px;\n",
              "      padding: 0 0 0 0;\n",
              "      width: 32px;\n",
              "    }\n",
              "\n",
              "    .colab-df-convert:hover {\n",
              "      background-color: #E2EBFA;\n",
              "      box-shadow: 0px 1px 2px rgba(60, 64, 67, 0.3), 0px 1px 3px 1px rgba(60, 64, 67, 0.15);\n",
              "      fill: #174EA6;\n",
              "    }\n",
              "\n",
              "    [theme=dark] .colab-df-convert {\n",
              "      background-color: #3B4455;\n",
              "      fill: #D2E3FC;\n",
              "    }\n",
              "\n",
              "    [theme=dark] .colab-df-convert:hover {\n",
              "      background-color: #434B5C;\n",
              "      box-shadow: 0px 1px 3px 1px rgba(0, 0, 0, 0.15);\n",
              "      filter: drop-shadow(0px 1px 2px rgba(0, 0, 0, 0.3));\n",
              "      fill: #FFFFFF;\n",
              "    }\n",
              "  </style>\n",
              "\n",
              "      <script>\n",
              "        const buttonEl =\n",
              "          document.querySelector('#df-dba1e373-f7ce-48f4-b31e-39e0363bd3fe button.colab-df-convert');\n",
              "        buttonEl.style.display =\n",
              "          google.colab.kernel.accessAllowed ? 'block' : 'none';\n",
              "\n",
              "        async function convertToInteractive(key) {\n",
              "          const element = document.querySelector('#df-dba1e373-f7ce-48f4-b31e-39e0363bd3fe');\n",
              "          const dataTable =\n",
              "            await google.colab.kernel.invokeFunction('convertToInteractive',\n",
              "                                                     [key], {});\n",
              "          if (!dataTable) return;\n",
              "\n",
              "          const docLinkHtml = 'Like what you see? Visit the ' +\n",
              "            '<a target=\"_blank\" href=https://colab.research.google.com/notebooks/data_table.ipynb>data table notebook</a>'\n",
              "            + ' to learn more about interactive tables.';\n",
              "          element.innerHTML = '';\n",
              "          dataTable['output_type'] = 'display_data';\n",
              "          await google.colab.output.renderOutput(dataTable, element);\n",
              "          const docLink = document.createElement('div');\n",
              "          docLink.innerHTML = docLinkHtml;\n",
              "          element.appendChild(docLink);\n",
              "        }\n",
              "      </script>\n",
              "    </div>\n",
              "  </div>\n",
              "  "
            ]
          },
          "metadata": {},
          "execution_count": 77
        }
      ]
    },
    {
      "cell_type": "code",
      "source": [
        "# Mostrar los valores máximos, mínimos y medio de la columna calculada\n",
        "print(df['Mean'].max(),min(df['Mean']),df['Mean'].mean())"
      ],
      "metadata": {
        "colab": {
          "base_uri": "https://localhost:8080/"
        },
        "id": "Mv_-lU43ktiv",
        "outputId": "fd84d4b7-f05e-4bb9-bf11-f34498dd8d76"
      },
      "execution_count": null,
      "outputs": [
        {
          "output_type": "stream",
          "name": "stdout",
          "text": [
            "64.75714942400646 16.651981107758544 42.31533290621754\n"
          ]
        }
      ]
    },
    {
      "cell_type": "code",
      "source": [
        "# Comprobar si existen campos vacíos\n",
        "df.isnull()"
      ],
      "metadata": {
        "colab": {
          "base_uri": "https://localhost:8080/",
          "height": 1003
        },
        "id": "NPjIb4ewk-ZL",
        "outputId": "28c864bc-5c1b-43a7-dbd5-55f9e3bc326d"
      },
      "execution_count": null,
      "outputs": [
        {
          "output_type": "execute_result",
          "data": {
            "text/plain": [
              "                            Open   High    Low  Close  Volume  Dividends  \\\n",
              "Date                                                                       \n",
              "2020-01-02 00:00:00-05:00  False  False  False  False   False      False   \n",
              "2020-01-03 00:00:00-05:00  False  False  False  False   False      False   \n",
              "2020-01-06 00:00:00-05:00  False  False  False  False   False      False   \n",
              "2020-01-07 00:00:00-05:00  False  False  False  False   False      False   \n",
              "2020-01-08 00:00:00-05:00  False  False  False  False   False      False   \n",
              "...                          ...    ...    ...    ...     ...        ...   \n",
              "2022-10-25 00:00:00-04:00  False  False  False  False   False      False   \n",
              "2022-10-26 00:00:00-04:00  False  False  False  False   False      False   \n",
              "2022-10-27 00:00:00-04:00  False  False  False  False   False      False   \n",
              "2022-10-28 00:00:00-04:00  False  False  False  False   False      False   \n",
              "2022-10-31 00:00:00-04:00  False  False  False  False   False      False   \n",
              "\n",
              "                           Stock Splits   Mean  \n",
              "Date                                            \n",
              "2020-01-02 00:00:00-05:00         False  False  \n",
              "2020-01-03 00:00:00-05:00         False  False  \n",
              "2020-01-06 00:00:00-05:00         False  False  \n",
              "2020-01-07 00:00:00-05:00         False  False  \n",
              "2020-01-08 00:00:00-05:00         False  False  \n",
              "...                                 ...    ...  \n",
              "2022-10-25 00:00:00-04:00         False  False  \n",
              "2022-10-26 00:00:00-04:00         False  False  \n",
              "2022-10-27 00:00:00-04:00         False  False  \n",
              "2022-10-28 00:00:00-04:00         False  False  \n",
              "2022-10-31 00:00:00-04:00         False  False  \n",
              "\n",
              "[714 rows x 8 columns]"
            ],
            "text/html": [
              "\n",
              "  <div id=\"df-1a335cc6-fa29-40eb-9784-d50de76804cb\">\n",
              "    <div class=\"colab-df-container\">\n",
              "      <div>\n",
              "<style scoped>\n",
              "    .dataframe tbody tr th:only-of-type {\n",
              "        vertical-align: middle;\n",
              "    }\n",
              "\n",
              "    .dataframe tbody tr th {\n",
              "        vertical-align: top;\n",
              "    }\n",
              "\n",
              "    .dataframe thead th {\n",
              "        text-align: right;\n",
              "    }\n",
              "</style>\n",
              "<table border=\"1\" class=\"dataframe\">\n",
              "  <thead>\n",
              "    <tr style=\"text-align: right;\">\n",
              "      <th></th>\n",
              "      <th>Open</th>\n",
              "      <th>High</th>\n",
              "      <th>Low</th>\n",
              "      <th>Close</th>\n",
              "      <th>Volume</th>\n",
              "      <th>Dividends</th>\n",
              "      <th>Stock Splits</th>\n",
              "      <th>Mean</th>\n",
              "    </tr>\n",
              "    <tr>\n",
              "      <th>Date</th>\n",
              "      <th></th>\n",
              "      <th></th>\n",
              "      <th></th>\n",
              "      <th></th>\n",
              "      <th></th>\n",
              "      <th></th>\n",
              "      <th></th>\n",
              "      <th></th>\n",
              "    </tr>\n",
              "  </thead>\n",
              "  <tbody>\n",
              "    <tr>\n",
              "      <th>2020-01-02 00:00:00-05:00</th>\n",
              "      <td>False</td>\n",
              "      <td>False</td>\n",
              "      <td>False</td>\n",
              "      <td>False</td>\n",
              "      <td>False</td>\n",
              "      <td>False</td>\n",
              "      <td>False</td>\n",
              "      <td>False</td>\n",
              "    </tr>\n",
              "    <tr>\n",
              "      <th>2020-01-03 00:00:00-05:00</th>\n",
              "      <td>False</td>\n",
              "      <td>False</td>\n",
              "      <td>False</td>\n",
              "      <td>False</td>\n",
              "      <td>False</td>\n",
              "      <td>False</td>\n",
              "      <td>False</td>\n",
              "      <td>False</td>\n",
              "    </tr>\n",
              "    <tr>\n",
              "      <th>2020-01-06 00:00:00-05:00</th>\n",
              "      <td>False</td>\n",
              "      <td>False</td>\n",
              "      <td>False</td>\n",
              "      <td>False</td>\n",
              "      <td>False</td>\n",
              "      <td>False</td>\n",
              "      <td>False</td>\n",
              "      <td>False</td>\n",
              "    </tr>\n",
              "    <tr>\n",
              "      <th>2020-01-07 00:00:00-05:00</th>\n",
              "      <td>False</td>\n",
              "      <td>False</td>\n",
              "      <td>False</td>\n",
              "      <td>False</td>\n",
              "      <td>False</td>\n",
              "      <td>False</td>\n",
              "      <td>False</td>\n",
              "      <td>False</td>\n",
              "    </tr>\n",
              "    <tr>\n",
              "      <th>2020-01-08 00:00:00-05:00</th>\n",
              "      <td>False</td>\n",
              "      <td>False</td>\n",
              "      <td>False</td>\n",
              "      <td>False</td>\n",
              "      <td>False</td>\n",
              "      <td>False</td>\n",
              "      <td>False</td>\n",
              "      <td>False</td>\n",
              "    </tr>\n",
              "    <tr>\n",
              "      <th>...</th>\n",
              "      <td>...</td>\n",
              "      <td>...</td>\n",
              "      <td>...</td>\n",
              "      <td>...</td>\n",
              "      <td>...</td>\n",
              "      <td>...</td>\n",
              "      <td>...</td>\n",
              "      <td>...</td>\n",
              "    </tr>\n",
              "    <tr>\n",
              "      <th>2022-10-25 00:00:00-04:00</th>\n",
              "      <td>False</td>\n",
              "      <td>False</td>\n",
              "      <td>False</td>\n",
              "      <td>False</td>\n",
              "      <td>False</td>\n",
              "      <td>False</td>\n",
              "      <td>False</td>\n",
              "      <td>False</td>\n",
              "    </tr>\n",
              "    <tr>\n",
              "      <th>2022-10-26 00:00:00-04:00</th>\n",
              "      <td>False</td>\n",
              "      <td>False</td>\n",
              "      <td>False</td>\n",
              "      <td>False</td>\n",
              "      <td>False</td>\n",
              "      <td>False</td>\n",
              "      <td>False</td>\n",
              "      <td>False</td>\n",
              "    </tr>\n",
              "    <tr>\n",
              "      <th>2022-10-27 00:00:00-04:00</th>\n",
              "      <td>False</td>\n",
              "      <td>False</td>\n",
              "      <td>False</td>\n",
              "      <td>False</td>\n",
              "      <td>False</td>\n",
              "      <td>False</td>\n",
              "      <td>False</td>\n",
              "      <td>False</td>\n",
              "    </tr>\n",
              "    <tr>\n",
              "      <th>2022-10-28 00:00:00-04:00</th>\n",
              "      <td>False</td>\n",
              "      <td>False</td>\n",
              "      <td>False</td>\n",
              "      <td>False</td>\n",
              "      <td>False</td>\n",
              "      <td>False</td>\n",
              "      <td>False</td>\n",
              "      <td>False</td>\n",
              "    </tr>\n",
              "    <tr>\n",
              "      <th>2022-10-31 00:00:00-04:00</th>\n",
              "      <td>False</td>\n",
              "      <td>False</td>\n",
              "      <td>False</td>\n",
              "      <td>False</td>\n",
              "      <td>False</td>\n",
              "      <td>False</td>\n",
              "      <td>False</td>\n",
              "      <td>False</td>\n",
              "    </tr>\n",
              "  </tbody>\n",
              "</table>\n",
              "<p>714 rows × 8 columns</p>\n",
              "</div>\n",
              "      <button class=\"colab-df-convert\" onclick=\"convertToInteractive('df-1a335cc6-fa29-40eb-9784-d50de76804cb')\"\n",
              "              title=\"Convert this dataframe to an interactive table.\"\n",
              "              style=\"display:none;\">\n",
              "        \n",
              "  <svg xmlns=\"http://www.w3.org/2000/svg\" height=\"24px\"viewBox=\"0 0 24 24\"\n",
              "       width=\"24px\">\n",
              "    <path d=\"M0 0h24v24H0V0z\" fill=\"none\"/>\n",
              "    <path d=\"M18.56 5.44l.94 2.06.94-2.06 2.06-.94-2.06-.94-.94-2.06-.94 2.06-2.06.94zm-11 1L8.5 8.5l.94-2.06 2.06-.94-2.06-.94L8.5 2.5l-.94 2.06-2.06.94zm10 10l.94 2.06.94-2.06 2.06-.94-2.06-.94-.94-2.06-.94 2.06-2.06.94z\"/><path d=\"M17.41 7.96l-1.37-1.37c-.4-.4-.92-.59-1.43-.59-.52 0-1.04.2-1.43.59L10.3 9.45l-7.72 7.72c-.78.78-.78 2.05 0 2.83L4 21.41c.39.39.9.59 1.41.59.51 0 1.02-.2 1.41-.59l7.78-7.78 2.81-2.81c.8-.78.8-2.07 0-2.86zM5.41 20L4 18.59l7.72-7.72 1.47 1.35L5.41 20z\"/>\n",
              "  </svg>\n",
              "      </button>\n",
              "      \n",
              "  <style>\n",
              "    .colab-df-container {\n",
              "      display:flex;\n",
              "      flex-wrap:wrap;\n",
              "      gap: 12px;\n",
              "    }\n",
              "\n",
              "    .colab-df-convert {\n",
              "      background-color: #E8F0FE;\n",
              "      border: none;\n",
              "      border-radius: 50%;\n",
              "      cursor: pointer;\n",
              "      display: none;\n",
              "      fill: #1967D2;\n",
              "      height: 32px;\n",
              "      padding: 0 0 0 0;\n",
              "      width: 32px;\n",
              "    }\n",
              "\n",
              "    .colab-df-convert:hover {\n",
              "      background-color: #E2EBFA;\n",
              "      box-shadow: 0px 1px 2px rgba(60, 64, 67, 0.3), 0px 1px 3px 1px rgba(60, 64, 67, 0.15);\n",
              "      fill: #174EA6;\n",
              "    }\n",
              "\n",
              "    [theme=dark] .colab-df-convert {\n",
              "      background-color: #3B4455;\n",
              "      fill: #D2E3FC;\n",
              "    }\n",
              "\n",
              "    [theme=dark] .colab-df-convert:hover {\n",
              "      background-color: #434B5C;\n",
              "      box-shadow: 0px 1px 3px 1px rgba(0, 0, 0, 0.15);\n",
              "      filter: drop-shadow(0px 1px 2px rgba(0, 0, 0, 0.3));\n",
              "      fill: #FFFFFF;\n",
              "    }\n",
              "  </style>\n",
              "\n",
              "      <script>\n",
              "        const buttonEl =\n",
              "          document.querySelector('#df-1a335cc6-fa29-40eb-9784-d50de76804cb button.colab-df-convert');\n",
              "        buttonEl.style.display =\n",
              "          google.colab.kernel.accessAllowed ? 'block' : 'none';\n",
              "\n",
              "        async function convertToInteractive(key) {\n",
              "          const element = document.querySelector('#df-1a335cc6-fa29-40eb-9784-d50de76804cb');\n",
              "          const dataTable =\n",
              "            await google.colab.kernel.invokeFunction('convertToInteractive',\n",
              "                                                     [key], {});\n",
              "          if (!dataTable) return;\n",
              "\n",
              "          const docLinkHtml = 'Like what you see? Visit the ' +\n",
              "            '<a target=\"_blank\" href=https://colab.research.google.com/notebooks/data_table.ipynb>data table notebook</a>'\n",
              "            + ' to learn more about interactive tables.';\n",
              "          element.innerHTML = '';\n",
              "          dataTable['output_type'] = 'display_data';\n",
              "          await google.colab.output.renderOutput(dataTable, element);\n",
              "          const docLink = document.createElement('div');\n",
              "          docLink.innerHTML = docLinkHtml;\n",
              "          element.appendChild(docLink);\n",
              "        }\n",
              "      </script>\n",
              "    </div>\n",
              "  </div>\n",
              "  "
            ]
          },
          "metadata": {},
          "execution_count": 82
        }
      ]
    },
    {
      "cell_type": "code",
      "source": [
        "df.isnull().sum()"
      ],
      "metadata": {
        "colab": {
          "base_uri": "https://localhost:8080/"
        },
        "id": "CrQHatOrNnlY",
        "outputId": "d096015f-7c41-44c2-e9c0-ee900a952b88"
      },
      "execution_count": null,
      "outputs": [
        {
          "output_type": "execute_result",
          "data": {
            "text/plain": [
              "Open            0\n",
              "High            0\n",
              "Low             0\n",
              "Close           0\n",
              "Volume          0\n",
              "Dividends       0\n",
              "Stock Splits    0\n",
              "Mean            0\n",
              "dtype: int64"
            ]
          },
          "metadata": {},
          "execution_count": 84
        }
      ]
    },
    {
      "cell_type": "code",
      "source": [
        "df.isnull().any()"
      ],
      "metadata": {
        "colab": {
          "base_uri": "https://localhost:8080/"
        },
        "id": "mDyP3lE9Nz3x",
        "outputId": "7a851c82-2abc-476f-f280-52d80c05ed65"
      },
      "execution_count": null,
      "outputs": [
        {
          "output_type": "execute_result",
          "data": {
            "text/plain": [
              "Open            False\n",
              "High            False\n",
              "Low             False\n",
              "Close           False\n",
              "Volume          False\n",
              "Dividends       False\n",
              "Stock Splits    False\n",
              "Mean            False\n",
              "dtype: bool"
            ]
          },
          "metadata": {},
          "execution_count": 86
        }
      ]
    },
    {
      "cell_type": "code",
      "source": [
        "# Creamos una columna para el precio medio escalado teniendo en cuenta el precio máximo y mínimo\n",
        "# Xsc = (X-Xmin)/(Xmax-Xmin)\n",
        "df['Mean_scaled'] = (df['Mean']-df['Mean'].min())/(df['Mean'].max()-df['Mean'].min())"
      ],
      "metadata": {
        "id": "PDlhsBaSl7B8"
      },
      "execution_count": null,
      "outputs": []
    },
    {
      "cell_type": "code",
      "source": [
        "# Muestra los valores escalados\n",
        "df.head()"
      ],
      "metadata": {
        "colab": {
          "base_uri": "https://localhost:8080/",
          "height": 386
        },
        "id": "OQ1KHwHSnZIn",
        "outputId": "f2fed9d9-ff1d-4302-f538-bd3ac33b4753"
      },
      "execution_count": null,
      "outputs": [
        {
          "output_type": "execute_result",
          "data": {
            "text/plain": [
              "                                Open       High        Low      Close  \\\n",
              "Date                                                                    \n",
              "2020-01-02 00:00:00-05:00  36.470809  36.845375  36.027244  36.845375   \n",
              "2020-01-03 00:00:00-05:00  36.204669  36.391950  35.593538  35.800533   \n",
              "2020-01-06 00:00:00-05:00  35.435824  35.662534  35.287968  35.327396   \n",
              "2020-01-07 00:00:00-05:00  35.238687  35.327400  34.243134  34.647270   \n",
              "2020-01-08 00:00:00-05:00  34.538844  34.696556  33.917854  34.154423   \n",
              "\n",
              "                             Volume  Dividends  Stock Splits       Mean  \\\n",
              "Date                                                                      \n",
              "2020-01-02 00:00:00-05:00   7454400        0.0             0  36.436310   \n",
              "2020-01-03 00:00:00-05:00   9173000        0.0             0  35.992744   \n",
              "2020-01-06 00:00:00-05:00   8408200        0.0             0  35.475251   \n",
              "2020-01-07 00:00:00-05:00  17556800        0.0             0  34.785267   \n",
              "2020-01-08 00:00:00-05:00  13229400        0.0             0  34.307205   \n",
              "\n",
              "                           Mean_scaled  \n",
              "Date                                    \n",
              "2020-01-02 00:00:00-05:00     0.411272  \n",
              "2020-01-03 00:00:00-05:00     0.402052  \n",
              "2020-01-06 00:00:00-05:00     0.391294  \n",
              "2020-01-07 00:00:00-05:00     0.376951  \n",
              "2020-01-08 00:00:00-05:00     0.367013  "
            ],
            "text/html": [
              "\n",
              "  <div id=\"df-84a88fc1-d82a-49e0-a534-8f67da1774a5\">\n",
              "    <div class=\"colab-df-container\">\n",
              "      <div>\n",
              "<style scoped>\n",
              "    .dataframe tbody tr th:only-of-type {\n",
              "        vertical-align: middle;\n",
              "    }\n",
              "\n",
              "    .dataframe tbody tr th {\n",
              "        vertical-align: top;\n",
              "    }\n",
              "\n",
              "    .dataframe thead th {\n",
              "        text-align: right;\n",
              "    }\n",
              "</style>\n",
              "<table border=\"1\" class=\"dataframe\">\n",
              "  <thead>\n",
              "    <tr style=\"text-align: right;\">\n",
              "      <th></th>\n",
              "      <th>Open</th>\n",
              "      <th>High</th>\n",
              "      <th>Low</th>\n",
              "      <th>Close</th>\n",
              "      <th>Volume</th>\n",
              "      <th>Dividends</th>\n",
              "      <th>Stock Splits</th>\n",
              "      <th>Mean</th>\n",
              "      <th>Mean_scaled</th>\n",
              "    </tr>\n",
              "    <tr>\n",
              "      <th>Date</th>\n",
              "      <th></th>\n",
              "      <th></th>\n",
              "      <th></th>\n",
              "      <th></th>\n",
              "      <th></th>\n",
              "      <th></th>\n",
              "      <th></th>\n",
              "      <th></th>\n",
              "      <th></th>\n",
              "    </tr>\n",
              "  </thead>\n",
              "  <tbody>\n",
              "    <tr>\n",
              "      <th>2020-01-02 00:00:00-05:00</th>\n",
              "      <td>36.470809</td>\n",
              "      <td>36.845375</td>\n",
              "      <td>36.027244</td>\n",
              "      <td>36.845375</td>\n",
              "      <td>7454400</td>\n",
              "      <td>0.0</td>\n",
              "      <td>0</td>\n",
              "      <td>36.436310</td>\n",
              "      <td>0.411272</td>\n",
              "    </tr>\n",
              "    <tr>\n",
              "      <th>2020-01-03 00:00:00-05:00</th>\n",
              "      <td>36.204669</td>\n",
              "      <td>36.391950</td>\n",
              "      <td>35.593538</td>\n",
              "      <td>35.800533</td>\n",
              "      <td>9173000</td>\n",
              "      <td>0.0</td>\n",
              "      <td>0</td>\n",
              "      <td>35.992744</td>\n",
              "      <td>0.402052</td>\n",
              "    </tr>\n",
              "    <tr>\n",
              "      <th>2020-01-06 00:00:00-05:00</th>\n",
              "      <td>35.435824</td>\n",
              "      <td>35.662534</td>\n",
              "      <td>35.287968</td>\n",
              "      <td>35.327396</td>\n",
              "      <td>8408200</td>\n",
              "      <td>0.0</td>\n",
              "      <td>0</td>\n",
              "      <td>35.475251</td>\n",
              "      <td>0.391294</td>\n",
              "    </tr>\n",
              "    <tr>\n",
              "      <th>2020-01-07 00:00:00-05:00</th>\n",
              "      <td>35.238687</td>\n",
              "      <td>35.327400</td>\n",
              "      <td>34.243134</td>\n",
              "      <td>34.647270</td>\n",
              "      <td>17556800</td>\n",
              "      <td>0.0</td>\n",
              "      <td>0</td>\n",
              "      <td>34.785267</td>\n",
              "      <td>0.376951</td>\n",
              "    </tr>\n",
              "    <tr>\n",
              "      <th>2020-01-08 00:00:00-05:00</th>\n",
              "      <td>34.538844</td>\n",
              "      <td>34.696556</td>\n",
              "      <td>33.917854</td>\n",
              "      <td>34.154423</td>\n",
              "      <td>13229400</td>\n",
              "      <td>0.0</td>\n",
              "      <td>0</td>\n",
              "      <td>34.307205</td>\n",
              "      <td>0.367013</td>\n",
              "    </tr>\n",
              "  </tbody>\n",
              "</table>\n",
              "</div>\n",
              "      <button class=\"colab-df-convert\" onclick=\"convertToInteractive('df-84a88fc1-d82a-49e0-a534-8f67da1774a5')\"\n",
              "              title=\"Convert this dataframe to an interactive table.\"\n",
              "              style=\"display:none;\">\n",
              "        \n",
              "  <svg xmlns=\"http://www.w3.org/2000/svg\" height=\"24px\"viewBox=\"0 0 24 24\"\n",
              "       width=\"24px\">\n",
              "    <path d=\"M0 0h24v24H0V0z\" fill=\"none\"/>\n",
              "    <path d=\"M18.56 5.44l.94 2.06.94-2.06 2.06-.94-2.06-.94-.94-2.06-.94 2.06-2.06.94zm-11 1L8.5 8.5l.94-2.06 2.06-.94-2.06-.94L8.5 2.5l-.94 2.06-2.06.94zm10 10l.94 2.06.94-2.06 2.06-.94-2.06-.94-.94-2.06-.94 2.06-2.06.94z\"/><path d=\"M17.41 7.96l-1.37-1.37c-.4-.4-.92-.59-1.43-.59-.52 0-1.04.2-1.43.59L10.3 9.45l-7.72 7.72c-.78.78-.78 2.05 0 2.83L4 21.41c.39.39.9.59 1.41.59.51 0 1.02-.2 1.41-.59l7.78-7.78 2.81-2.81c.8-.78.8-2.07 0-2.86zM5.41 20L4 18.59l7.72-7.72 1.47 1.35L5.41 20z\"/>\n",
              "  </svg>\n",
              "      </button>\n",
              "      \n",
              "  <style>\n",
              "    .colab-df-container {\n",
              "      display:flex;\n",
              "      flex-wrap:wrap;\n",
              "      gap: 12px;\n",
              "    }\n",
              "\n",
              "    .colab-df-convert {\n",
              "      background-color: #E8F0FE;\n",
              "      border: none;\n",
              "      border-radius: 50%;\n",
              "      cursor: pointer;\n",
              "      display: none;\n",
              "      fill: #1967D2;\n",
              "      height: 32px;\n",
              "      padding: 0 0 0 0;\n",
              "      width: 32px;\n",
              "    }\n",
              "\n",
              "    .colab-df-convert:hover {\n",
              "      background-color: #E2EBFA;\n",
              "      box-shadow: 0px 1px 2px rgba(60, 64, 67, 0.3), 0px 1px 3px 1px rgba(60, 64, 67, 0.15);\n",
              "      fill: #174EA6;\n",
              "    }\n",
              "\n",
              "    [theme=dark] .colab-df-convert {\n",
              "      background-color: #3B4455;\n",
              "      fill: #D2E3FC;\n",
              "    }\n",
              "\n",
              "    [theme=dark] .colab-df-convert:hover {\n",
              "      background-color: #434B5C;\n",
              "      box-shadow: 0px 1px 3px 1px rgba(0, 0, 0, 0.15);\n",
              "      filter: drop-shadow(0px 1px 2px rgba(0, 0, 0, 0.3));\n",
              "      fill: #FFFFFF;\n",
              "    }\n",
              "  </style>\n",
              "\n",
              "      <script>\n",
              "        const buttonEl =\n",
              "          document.querySelector('#df-84a88fc1-d82a-49e0-a534-8f67da1774a5 button.colab-df-convert');\n",
              "        buttonEl.style.display =\n",
              "          google.colab.kernel.accessAllowed ? 'block' : 'none';\n",
              "\n",
              "        async function convertToInteractive(key) {\n",
              "          const element = document.querySelector('#df-84a88fc1-d82a-49e0-a534-8f67da1774a5');\n",
              "          const dataTable =\n",
              "            await google.colab.kernel.invokeFunction('convertToInteractive',\n",
              "                                                     [key], {});\n",
              "          if (!dataTable) return;\n",
              "\n",
              "          const docLinkHtml = 'Like what you see? Visit the ' +\n",
              "            '<a target=\"_blank\" href=https://colab.research.google.com/notebooks/data_table.ipynb>data table notebook</a>'\n",
              "            + ' to learn more about interactive tables.';\n",
              "          element.innerHTML = '';\n",
              "          dataTable['output_type'] = 'display_data';\n",
              "          await google.colab.output.renderOutput(dataTable, element);\n",
              "          const docLink = document.createElement('div');\n",
              "          docLink.innerHTML = docLinkHtml;\n",
              "          element.appendChild(docLink);\n",
              "        }\n",
              "      </script>\n",
              "    </div>\n",
              "  </div>\n",
              "  "
            ]
          },
          "metadata": {},
          "execution_count": 89
        }
      ]
    },
    {
      "cell_type": "code",
      "source": [
        "# Comprobamos los valores mínimos y máximos de los valores escalados\n",
        "print(min(df['Mean_scaled']), max(df['Mean_scaled']))"
      ],
      "metadata": {
        "colab": {
          "base_uri": "https://localhost:8080/"
        },
        "id": "L6wh7ARmoJzE",
        "outputId": "1697f7e3-1918-4594-dcaf-d36b89a887fe"
      },
      "execution_count": null,
      "outputs": [
        {
          "output_type": "stream",
          "name": "stdout",
          "text": [
            "0.0 1.0\n"
          ]
        }
      ]
    },
    {
      "cell_type": "code",
      "source": [
        "# Vemos el tipo de la columna calculada\n"
      ],
      "metadata": {
        "colab": {
          "base_uri": "https://localhost:8080/"
        },
        "id": "9Wa44xvTnz52",
        "outputId": "86476bad-a115-415b-f132-ad3958cb04e1"
      },
      "execution_count": null,
      "outputs": [
        {
          "output_type": "execute_result",
          "data": {
            "text/plain": [
              "pandas.core.series.Series"
            ]
          },
          "metadata": {},
          "execution_count": 18
        }
      ]
    },
    {
      "cell_type": "code",
      "source": [
        "# Convierte la columna a un numpy series\n"
      ],
      "metadata": {
        "colab": {
          "base_uri": "https://localhost:8080/"
        },
        "id": "hubaUKeEnlyu",
        "outputId": "4b70325d-56d1-4e9d-cc0e-e944876c6b3a"
      },
      "execution_count": null,
      "outputs": [
        {
          "output_type": "execute_result",
          "data": {
            "text/plain": [
              "numpy.ndarray"
            ]
          },
          "metadata": {},
          "execution_count": 16
        }
      ]
    },
    {
      "cell_type": "code",
      "source": [
        "# Creamos una matriz de precios\n",
        "df['Mean'].values"
      ],
      "metadata": {
        "id": "UsP0i8_Voc7L",
        "colab": {
          "base_uri": "https://localhost:8080/"
        },
        "outputId": "f7c50c3b-0ac0-434a-e73c-aec84121bb6c"
      },
      "execution_count": null,
      "outputs": [
        {
          "output_type": "execute_result",
          "data": {
            "text/plain": [
              "array([36.43630968, 35.99274401, 35.47525063, 34.78526726, 34.30720468,\n",
              "       34.31705696, 34.9725498 , 34.24806055, 34.65219598, 34.60291186,\n",
              "       34.85919803, 35.06126203, 34.75076654, 34.60291248, 34.00656788,\n",
              "       34.0065637 , 32.9863674 , 33.11943615, 33.33136135, 32.73501366,\n",
              "       32.83851126, 33.44471606, 34.01642071, 34.32198849, 34.17905997,\n",
              "       33.30671928, 33.49892835, 34.16920474, 34.95283501, 34.83947866,\n",
              "       34.40577068, 33.85870917, 34.31212967, 34.49448603, 34.24806335,\n",
              "       32.79415942, 31.87745923, 31.78874655, 30.78826281, 29.48714103,\n",
              "       30.157417  , 30.83261981, 30.5221247 , 30.32077438, 28.92895268,\n",
              "       25.07774456, 25.80608144, 26.13034265, 23.3716406 , 24.06006738,\n",
              "       21.65555769, 20.49321128, 16.65198111, 16.95628628, 18.27826887,\n",
              "       17.85423697, 20.089135  , 22.02471513, 21.96485116, 21.30136553,\n",
              "       21.50589913, 21.33129776, 19.53539816, 18.69731263, 18.27328028,\n",
              "       19.11136672, 21.41111549, 22.48366662, 24.22968157, 23.35667476,\n",
              "       23.16710638, 21.82018223, 21.05692356, 22.1344658 , 21.98979484,\n",
              "       21.38617155, 21.37619632, 21.70544404, 21.84013778, 21.80521509,\n",
              "       22.69817784, 23.57118438, 22.79296048, 21.23152672, 20.45330346,\n",
              "       21.4959233 , 22.68819972, 22.45373511, 23.47141205, 22.93762986,\n",
              "       22.85781288, 21.74036482, 21.36621926, 22.20430443, 24.54895177,\n",
              "       24.93806408, 25.49678789, 25.55665195, 25.66640098, 27.50719828,\n",
              "       27.80651466, 27.20788266, 26.0704783 , 26.50448677, 27.22284848,\n",
              "       28.62464586, 28.9139871 , 30.41056873, 31.05908788, 29.39788101,\n",
              "       29.06364378, 26.98339486, 27.95118392, 27.27273371, 28.26546697,\n",
              "       27.52715102, 27.0681996 , 27.01831398, 26.18521649, 26.47954399,\n",
              "       25.43692538, 24.85824623, 24.6237817 , 24.85824641, 25.11266566,\n",
              "       25.37706226, 25.4069925 , 25.6763783 , 25.28726622, 24.90813283,\n",
              "       24.02514797, 23.81063653, 24.72355374, 25.2024609 , 26.51945358,\n",
              "       26.66412408, 26.56435013, 26.09542242, 26.16526209, 26.09043149,\n",
              "       26.76888352, 26.43464642, 25.55665114, 26.16027426, 25.93079676,\n",
              "       25.18250509, 24.73851863, 25.23738102, 25.71129957, 26.05551294,\n",
              "       26.60924775, 26.42965828, 27.39744859, 28.82918004, 28.69947566,\n",
              "       27.79653793, 27.57703733, 29.53756366, 30.38562779, 29.48767646,\n",
              "       28.83915697, 28.62464665, 29.80694679, 30.03642345, 29.40785975,\n",
              "       29.81193655, 29.86681083, 29.83189018, 29.52758482, 30.3756486 ,\n",
              "       30.25592297, 29.79697175, 32.11667616, 32.16656048, 30.93936218,\n",
              "       30.15116144, 30.97927047, 31.91214146, 32.19150394, 31.37836133,\n",
              "       31.63277849, 29.72214183, 29.77701533, 29.52758591, 28.84913328,\n",
              "       28.82419085, 29.64232262, 28.88405361, 29.28813106, 29.76205034,\n",
              "       30.17610411, 30.97428224, 30.8046698 , 31.21373574, 32.14660465,\n",
              "       32.27631013, 32.32120525, 31.80239016, 31.81236978, 31.74751588,\n",
              "       32.9996602 , 33.38377881, 34.99011414, 35.62366606, 36.57150398,\n",
              "       37.31979233, 35.73341555, 35.2195899 , 34.01234436, 34.93025148,\n",
              "       34.41642341, 34.80054834, 35.35927107, 34.92027402, 36.21232257,\n",
              "       37.48940583, 39.08576245, 40.48257279, 40.84674296, 39.43496545,\n",
              "       40.36783565, 41.44038508, 41.74469223, 42.99683407, 42.58776518,\n",
              "       42.74740198, 44.25895244, 45.78546664, 45.24669718, 45.06710745,\n",
              "       44.36869925, 44.62312175, 44.03446096, 44.31382534, 44.33378258,\n",
              "       43.88979753, 43.70022583, 44.12924739, 43.07166428, 42.0539862 ,\n",
              "       41.88437282, 41.63993154, 41.24582966, 41.63494165, 41.22587541,\n",
              "       40.68710811, 40.88166319, 41.89933664, 41.61000007, 41.81453214,\n",
              "       41.65489775, 41.78959133, 41.40546646, 41.03630934, 40.84674241,\n",
              "       42.75738007, 43.37097904, 42.80726646, 43.85487547, 47.19225696,\n",
              "       49.40220924, 50.48473681, 50.21535313, 53.57767577, 55.59806295,\n",
              "       55.73774238, 54.89466826, 52.96906715, 52.57995563, 49.67159375,\n",
              "       51.16318965, 50.75412195, 51.07838097, 52.35047831, 53.99671795,\n",
              "       53.64253027, 54.47562807, 56.23161702, 56.21166153, 53.9767638 ,\n",
              "       52.95409884, 53.45295879, 53.48289457, 52.58494366, 51.99129623,\n",
              "       52.63482867, 52.2856282 , 50.25027226, 52.13097819, 51.6221419 ,\n",
              "       50.70922491, 52.20081853, 53.61758591, 53.64751874, 52.09605827,\n",
              "       52.11601509, 54.84478367, 54.60532848, 55.78762967, 56.4261709 ,\n",
              "       57.52865386, 58.1272904 , 57.55359692, 58.50143603, 60.42204925,\n",
              "       59.11503361, 57.58851781, 56.60576305, 56.46608258, 55.40849667,\n",
              "       56.21665191, 56.34136778, 57.38398612, 57.79305201, 57.49872404,\n",
              "       59.83339475, 61.79890442, 61.14040866, 59.64382787, 59.76355269,\n",
              "       59.6538062 , 58.58125169, 58.81571709, 58.8157176 , 58.6610708 ,\n",
              "       57.85291405, 55.97220589, 55.97719593, 56.83523892, 56.95496835,\n",
              "       57.98760697, 58.42660647, 58.50143334, 56.59079716, 56.58580991,\n",
              "       57.39396122, 55.57810799, 56.97991048, 57.96765414, 58.02751779,\n",
              "       58.33681117, 55.68286792, 54.49059276, 54.69512416, 55.39851815,\n",
              "       55.52822076, 56.20168594, 54.7450108 , 55.48831482, 57.14453158,\n",
              "       56.63070662, 57.30915428, 57.33908752, 59.8284056 , 59.15494516,\n",
              "       59.61389651, 59.55902149, 62.05332333, 62.99118358, 63.32043522,\n",
              "       63.05603766, 63.28052279, 61.96851615, 61.44471464, 60.83610546,\n",
              "       60.40708444, 62.00344125, 60.74132267, 58.8656032 , 59.14995558,\n",
              "       59.1748951 , 59.80845069, 59.99302963, 60.16264152, 59.26968266,\n",
              "       58.9903177 , 58.90551234, 59.1200215 , 58.78578714, 57.83794768,\n",
              "       56.63569641, 55.59806268, 58.27195734, 58.361754  , 58.62614855,\n",
              "       58.40166295, 57.00984018, 56.29646975, 53.40806442, 55.12414711,\n",
              "       56.88512573, 55.99715189, 55.17403232, 55.37856196, 54.66519318,\n",
              "       55.14908938, 57.14952278, 57.08467131, 57.60847293, 57.15450785,\n",
              "       53.70738098, 54.0915045 , 54.68015595, 53.76225401, 53.89694715,\n",
              "       53.85204947, 54.49059099, 54.0266492 , 52.75455393, 51.02350773,\n",
              "       50.82895202, 49.33236711, 48.63396394, 47.60132086, 48.9382687 ,\n",
              "       49.43214057, 48.88339451, 49.25254921, 49.33735962, 48.93826719,\n",
              "       49.04801614, 49.04303011, 48.5990436 , 48.71377869, 48.85844994,\n",
              "       48.26480435, 49.44211841, 50.16047647, 50.84391644, 51.1182912 ,\n",
              "       51.28790349, 51.34278058, 48.84348417, 49.17273238, 50.50968001,\n",
              "       51.44255055, 52.05614983, 52.85432718, 53.33323375, 52.82439439,\n",
              "       52.56997849, 52.69469299, 54.5354879 , 54.07154879, 54.20125247,\n",
              "       55.46336965, 57.66334644, 58.42660463, 58.4615286 , 57.87785792,\n",
              "       57.7381783 , 58.14724274, 57.08467076, 56.66562783, 57.09963699,\n",
              "       58.06742439, 58.0374933 , 57.44384945, 57.498723  , 54.83480453,\n",
              "       54.69512618, 54.20125465, 54.95453387, 55.2039633 , 55.50327852,\n",
              "       57.38897625, 58.56628424, 59.2696798 , 58.7359017 , 59.01027162,\n",
              "       60.5916648 , 62.51227522, 63.0360817 , 62.46239085, 63.57983772,\n",
              "       63.49004451, 62.1231683 , 63.21566963, 63.00614847, 61.97350801,\n",
              "       59.87829039, 60.45697059, 58.50642088, 59.16491908, 59.86332356,\n",
              "       60.14268735, 59.57897431, 61.39981852, 60.97578605, 59.97307356,\n",
              "       61.55446496, 60.4619587 , 58.31685693, 57.83296261, 59.18986196,\n",
              "       55.32368977, 53.71735926, 54.2461521 , 55.42345997, 56.30145884,\n",
              "       57.00983876, 57.43386955, 57.08966053, 57.88783336, 58.35177645,\n",
              "       60.51683435, 63.82428336, 64.75714942, 62.44243692, 62.52225353,\n",
              "       60.88100379, 60.71638018, 61.04063961, 62.12316863, 60.74132297,\n",
              "       59.3095889 , 57.8529167 , 55.74772071, 53.57268594, 50.89879356,\n",
              "       51.54730923, 52.60988841, 52.09106893, 50.13054853, 51.24300795,\n",
              "       53.05886249, 53.49286968, 53.36316519, 51.06840591, 51.14323453,\n",
              "       48.61899726, 50.80400876, 50.57952124, 49.64166509, 48.48430274,\n",
              "       49.30742563, 49.80129635, 49.14280223, 48.45437202, 46.94282457,\n",
              "       47.17230065, 45.05713114, 46.55870173, 46.37412381, 45.05712824,\n",
              "       45.47617108, 45.57095608, 42.97687884, 41.00138902, 41.04129858,\n",
              "       42.23357636, 41.44537587, 41.81453379, 41.30569509, 41.43040763,\n",
              "       43.17143191, 43.11656084, 43.98457871, 43.84489807, 44.57822167,\n",
              "       44.04444138, 44.30385077, 43.7551044 , 43.66530496, 45.88523952,\n",
              "       45.43127403, 44.21904433, 43.33107126, 42.87710349, 42.14377913,\n",
              "       40.31296192, 38.47715209, 39.02091145, 39.92384759, 40.11840242,\n",
              "       39.90888356, 40.34289312, 40.34788116, 41.4054655 , 42.36826754,\n",
              "       41.68482799, 40.16829186, 39.24041022, 38.58191416, 38.52205222,\n",
              "       38.3723933 , 38.51206957, 37.78373657, 39.45491933, 40.17827003,\n",
              "       39.95876803, 39.37011207, 39.06081975, 38.41729141, 38.21774472,\n",
              "       35.30938725, 37.19507922, 37.31480544, 37.86355236, 36.59644478,\n",
              "       35.81822346, 35.65359862, 35.76833752, 34.86041155, 35.54384988,\n",
              "       36.98555755, 37.88849565, 38.36740438, 38.6816842 , 38.71660543,\n",
              "       37.79870335, 37.8835064 , 37.5542599 , 38.11298546, 37.0703657 ,\n",
              "       35.6037118 , 33.03956748, 32.95476156, 33.89760747, 31.81236871,\n",
              "       31.44819917, 32.42097697, 32.69535191, 32.71530507, 33.95248501,\n",
              "       34.75066022, 34.96018218, 33.18922604, 32.00193749, 31.99694788,\n",
              "       31.30852091, 31.6427575 , 32.32619385, 32.61553414, 31.42325894,\n",
              "       31.35840498, 31.03414533, 31.0890208 , 32.24138799, 32.95974801,\n",
              "       33.8776521 , 34.45633071, 34.66585313, 34.66585431, 34.51120835,\n",
              "       33.48355341, 34.13706082, 35.094873  , 35.83318905, 36.20733311,\n",
              "       36.45177519, 37.38464722, 36.53159563, 35.85314233, 37.23498656,\n",
              "       36.70120801, 37.89847603, 38.52205058, 38.90617223, 39.1605933 ,\n",
              "       39.070795  , 38.08305299, 38.39234853, 39.59460242, 38.28259463,\n",
              "       38.82635313, 38.93610328, 39.96874451, 40.0635305 , 39.25038724,\n",
              "       39.23000145, 38.67499924, 38.0549984 , 38.93000031, 38.94000053,\n",
              "       39.28499985, 40.00999832, 41.12000084, 41.88500023, 40.88499832,\n",
              "       40.29500008, 41.33500099, 40.13999939, 40.43499947, 39.75      ,\n",
              "       38.6799984 , 37.61499977, 35.78000069, 35.3599987 , 34.875     ,\n",
              "       34.93000031, 33.60000038, 32.62999916, 32.45000076, 34.8599987 ,\n",
              "       34.41500092, 34.77499962, 33.82999992, 31.86499977, 32.07499981,\n",
              "       32.06499958, 32.12000084, 32.83500099, 33.50500107, 34.44000053,\n",
              "       33.74499893, 33.64500046, 34.16499901, 35.17000008, 36.65500069,\n",
              "       37.72500038, 38.02499962, 38.48500061, 39.01000023])"
            ]
          },
          "metadata": {},
          "execution_count": 95
        }
      ]
    },
    {
      "cell_type": "code",
      "source": [
        "# Mostamos la primera entrada de la matriz\n",
        "print(prices[0])\n",
        "# Mostamos el número de filas y columnas de nuestra matriz de precios\n",
        "print(prices.shape)"
      ],
      "metadata": {
        "colab": {
          "base_uri": "https://localhost:8080/"
        },
        "id": "NhIHAiilsUk2",
        "outputId": "0393f23a-beab-42b8-a6a2-1908de00f8bf"
      },
      "execution_count": null,
      "outputs": [
        {
          "output_type": "stream",
          "name": "stdout",
          "text": [
            "[0.41127241 0.40205166 0.39129412 0.37695089 0.36701303 0.36721784\n",
            " 0.38084408 0.36578355]\n",
            "(707, 8)\n"
          ]
        }
      ]
    },
    {
      "cell_type": "code",
      "source": [
        "# Creamos un Dataframe con la matriz de precios, la última columna se llamará \"y\" el resto x_1, x_2, etc.\n"
      ],
      "metadata": {
        "colab": {
          "base_uri": "https://localhost:8080/",
          "height": 206
        },
        "id": "5sope8DBs5Xp",
        "outputId": "9b94f2f4-a830-4eca-bfb9-a58d1f9cf5d6"
      },
      "execution_count": null,
      "outputs": [
        {
          "output_type": "execute_result",
          "data": {
            "text/plain": [
              "        x_1       x_2       x_3       x_4       x_5       x_6       x_7  \\\n",
              "0  0.411272  0.402052  0.391294  0.376951  0.367013  0.367218  0.380844   \n",
              "1  0.402052  0.391294  0.376951  0.367013  0.367218  0.380844  0.365784   \n",
              "2  0.391294  0.376951  0.367013  0.367218  0.380844  0.365784  0.374185   \n",
              "3  0.376951  0.367013  0.367218  0.380844  0.365784  0.374185  0.373160   \n",
              "4  0.367013  0.367218  0.380844  0.365784  0.374185  0.373160  0.378488   \n",
              "\n",
              "        x_8  \n",
              "0  0.365784  \n",
              "1  0.374185  \n",
              "2  0.373160  \n",
              "3  0.378488  \n",
              "4  0.382688  "
            ],
            "text/html": [
              "\n",
              "  <div id=\"df-55798f49-3c3e-4e67-8f5f-26b32572da8b\">\n",
              "    <div class=\"colab-df-container\">\n",
              "      <div>\n",
              "<style scoped>\n",
              "    .dataframe tbody tr th:only-of-type {\n",
              "        vertical-align: middle;\n",
              "    }\n",
              "\n",
              "    .dataframe tbody tr th {\n",
              "        vertical-align: top;\n",
              "    }\n",
              "\n",
              "    .dataframe thead th {\n",
              "        text-align: right;\n",
              "    }\n",
              "</style>\n",
              "<table border=\"1\" class=\"dataframe\">\n",
              "  <thead>\n",
              "    <tr style=\"text-align: right;\">\n",
              "      <th></th>\n",
              "      <th>x_1</th>\n",
              "      <th>x_2</th>\n",
              "      <th>x_3</th>\n",
              "      <th>x_4</th>\n",
              "      <th>x_5</th>\n",
              "      <th>x_6</th>\n",
              "      <th>x_7</th>\n",
              "      <th>x_8</th>\n",
              "    </tr>\n",
              "  </thead>\n",
              "  <tbody>\n",
              "    <tr>\n",
              "      <th>0</th>\n",
              "      <td>0.411272</td>\n",
              "      <td>0.402052</td>\n",
              "      <td>0.391294</td>\n",
              "      <td>0.376951</td>\n",
              "      <td>0.367013</td>\n",
              "      <td>0.367218</td>\n",
              "      <td>0.380844</td>\n",
              "      <td>0.365784</td>\n",
              "    </tr>\n",
              "    <tr>\n",
              "      <th>1</th>\n",
              "      <td>0.402052</td>\n",
              "      <td>0.391294</td>\n",
              "      <td>0.376951</td>\n",
              "      <td>0.367013</td>\n",
              "      <td>0.367218</td>\n",
              "      <td>0.380844</td>\n",
              "      <td>0.365784</td>\n",
              "      <td>0.374185</td>\n",
              "    </tr>\n",
              "    <tr>\n",
              "      <th>2</th>\n",
              "      <td>0.391294</td>\n",
              "      <td>0.376951</td>\n",
              "      <td>0.367013</td>\n",
              "      <td>0.367218</td>\n",
              "      <td>0.380844</td>\n",
              "      <td>0.365784</td>\n",
              "      <td>0.374185</td>\n",
              "      <td>0.373160</td>\n",
              "    </tr>\n",
              "    <tr>\n",
              "      <th>3</th>\n",
              "      <td>0.376951</td>\n",
              "      <td>0.367013</td>\n",
              "      <td>0.367218</td>\n",
              "      <td>0.380844</td>\n",
              "      <td>0.365784</td>\n",
              "      <td>0.374185</td>\n",
              "      <td>0.373160</td>\n",
              "      <td>0.378488</td>\n",
              "    </tr>\n",
              "    <tr>\n",
              "      <th>4</th>\n",
              "      <td>0.367013</td>\n",
              "      <td>0.367218</td>\n",
              "      <td>0.380844</td>\n",
              "      <td>0.365784</td>\n",
              "      <td>0.374185</td>\n",
              "      <td>0.373160</td>\n",
              "      <td>0.378488</td>\n",
              "      <td>0.382688</td>\n",
              "    </tr>\n",
              "  </tbody>\n",
              "</table>\n",
              "</div>\n",
              "      <button class=\"colab-df-convert\" onclick=\"convertToInteractive('df-55798f49-3c3e-4e67-8f5f-26b32572da8b')\"\n",
              "              title=\"Convert this dataframe to an interactive table.\"\n",
              "              style=\"display:none;\">\n",
              "        \n",
              "  <svg xmlns=\"http://www.w3.org/2000/svg\" height=\"24px\"viewBox=\"0 0 24 24\"\n",
              "       width=\"24px\">\n",
              "    <path d=\"M0 0h24v24H0V0z\" fill=\"none\"/>\n",
              "    <path d=\"M18.56 5.44l.94 2.06.94-2.06 2.06-.94-2.06-.94-.94-2.06-.94 2.06-2.06.94zm-11 1L8.5 8.5l.94-2.06 2.06-.94-2.06-.94L8.5 2.5l-.94 2.06-2.06.94zm10 10l.94 2.06.94-2.06 2.06-.94-2.06-.94-.94-2.06-.94 2.06-2.06.94z\"/><path d=\"M17.41 7.96l-1.37-1.37c-.4-.4-.92-.59-1.43-.59-.52 0-1.04.2-1.43.59L10.3 9.45l-7.72 7.72c-.78.78-.78 2.05 0 2.83L4 21.41c.39.39.9.59 1.41.59.51 0 1.02-.2 1.41-.59l7.78-7.78 2.81-2.81c.8-.78.8-2.07 0-2.86zM5.41 20L4 18.59l7.72-7.72 1.47 1.35L5.41 20z\"/>\n",
              "  </svg>\n",
              "      </button>\n",
              "      \n",
              "  <style>\n",
              "    .colab-df-container {\n",
              "      display:flex;\n",
              "      flex-wrap:wrap;\n",
              "      gap: 12px;\n",
              "    }\n",
              "\n",
              "    .colab-df-convert {\n",
              "      background-color: #E8F0FE;\n",
              "      border: none;\n",
              "      border-radius: 50%;\n",
              "      cursor: pointer;\n",
              "      display: none;\n",
              "      fill: #1967D2;\n",
              "      height: 32px;\n",
              "      padding: 0 0 0 0;\n",
              "      width: 32px;\n",
              "    }\n",
              "\n",
              "    .colab-df-convert:hover {\n",
              "      background-color: #E2EBFA;\n",
              "      box-shadow: 0px 1px 2px rgba(60, 64, 67, 0.3), 0px 1px 3px 1px rgba(60, 64, 67, 0.15);\n",
              "      fill: #174EA6;\n",
              "    }\n",
              "\n",
              "    [theme=dark] .colab-df-convert {\n",
              "      background-color: #3B4455;\n",
              "      fill: #D2E3FC;\n",
              "    }\n",
              "\n",
              "    [theme=dark] .colab-df-convert:hover {\n",
              "      background-color: #434B5C;\n",
              "      box-shadow: 0px 1px 3px 1px rgba(0, 0, 0, 0.15);\n",
              "      filter: drop-shadow(0px 1px 2px rgba(0, 0, 0, 0.3));\n",
              "      fill: #FFFFFF;\n",
              "    }\n",
              "  </style>\n",
              "\n",
              "      <script>\n",
              "        const buttonEl =\n",
              "          document.querySelector('#df-55798f49-3c3e-4e67-8f5f-26b32572da8b button.colab-df-convert');\n",
              "        buttonEl.style.display =\n",
              "          google.colab.kernel.accessAllowed ? 'block' : 'none';\n",
              "\n",
              "        async function convertToInteractive(key) {\n",
              "          const element = document.querySelector('#df-55798f49-3c3e-4e67-8f5f-26b32572da8b');\n",
              "          const dataTable =\n",
              "            await google.colab.kernel.invokeFunction('convertToInteractive',\n",
              "                                                     [key], {});\n",
              "          if (!dataTable) return;\n",
              "\n",
              "          const docLinkHtml = 'Like what you see? Visit the ' +\n",
              "            '<a target=\"_blank\" href=https://colab.research.google.com/notebooks/data_table.ipynb>data table notebook</a>'\n",
              "            + ' to learn more about interactive tables.';\n",
              "          element.innerHTML = '';\n",
              "          dataTable['output_type'] = 'display_data';\n",
              "          await google.colab.output.renderOutput(dataTable, element);\n",
              "          const docLink = document.createElement('div');\n",
              "          docLink.innerHTML = docLinkHtml;\n",
              "          element.appendChild(docLink);\n",
              "        }\n",
              "      </script>\n",
              "    </div>\n",
              "  </div>\n",
              "  "
            ]
          },
          "metadata": {},
          "execution_count": 18
        }
      ]
    },
    {
      "cell_type": "code",
      "source": [
        "# Renombrar la columna x_9 como \"y\" y comprobar que los nombres de las columnas son como esperamos\n"
      ],
      "metadata": {
        "colab": {
          "base_uri": "https://localhost:8080/"
        },
        "id": "MsmpF1-auUTx",
        "outputId": "3174365b-27f6-4dfb-fc7b-d6cff1f83525"
      },
      "execution_count": null,
      "outputs": [
        {
          "output_type": "execute_result",
          "data": {
            "text/plain": [
              "Index(['x_1', 'x_2', 'x_3', 'x_4', 'x_5', 'x_6', 'x_7', 'y'], dtype='object')"
            ]
          },
          "metadata": {},
          "execution_count": 19
        }
      ]
    },
    {
      "cell_type": "markdown",
      "source": [
        "# Feature extraction Titanic dataset"
      ],
      "metadata": {
        "id": "11WC9SYmVzEW"
      }
    },
    {
      "cell_type": "code",
      "source": [
        "df = pd.read_csv('/content/Titanic-Dataset.csv')\n",
        "df"
      ],
      "metadata": {
        "colab": {
          "base_uri": "https://localhost:8080/",
          "height": 424
        },
        "id": "03jFG8ihWAWE",
        "outputId": "92ea30c1-e5e2-458e-ce37-5149bd039023"
      },
      "execution_count": null,
      "outputs": [
        {
          "output_type": "execute_result",
          "data": {
            "text/plain": [
              "     PassengerId  Survived  Pclass  \\\n",
              "0              1         0       3   \n",
              "1              2         1       1   \n",
              "2              3         1       3   \n",
              "3              4         1       1   \n",
              "4              5         0       3   \n",
              "..           ...       ...     ...   \n",
              "886          887         0       2   \n",
              "887          888         1       1   \n",
              "888          889         0       3   \n",
              "889          890         1       1   \n",
              "890          891         0       3   \n",
              "\n",
              "                                                  Name     Sex   Age  SibSp  \\\n",
              "0                              Braund, Mr. Owen Harris    male  22.0      1   \n",
              "1    Cumings, Mrs. John Bradley (Florence Briggs Th...  female  38.0      1   \n",
              "2                               Heikkinen, Miss. Laina  female  26.0      0   \n",
              "3         Futrelle, Mrs. Jacques Heath (Lily May Peel)  female  35.0      1   \n",
              "4                             Allen, Mr. William Henry    male  35.0      0   \n",
              "..                                                 ...     ...   ...    ...   \n",
              "886                              Montvila, Rev. Juozas    male  27.0      0   \n",
              "887                       Graham, Miss. Margaret Edith  female  19.0      0   \n",
              "888           Johnston, Miss. Catherine Helen \"Carrie\"  female   NaN      1   \n",
              "889                              Behr, Mr. Karl Howell    male  26.0      0   \n",
              "890                                Dooley, Mr. Patrick    male  32.0      0   \n",
              "\n",
              "     Parch            Ticket     Fare Cabin Embarked  \n",
              "0        0         A/5 21171   7.2500   NaN        S  \n",
              "1        0          PC 17599  71.2833   C85        C  \n",
              "2        0  STON/O2. 3101282   7.9250   NaN        S  \n",
              "3        0            113803  53.1000  C123        S  \n",
              "4        0            373450   8.0500   NaN        S  \n",
              "..     ...               ...      ...   ...      ...  \n",
              "886      0            211536  13.0000   NaN        S  \n",
              "887      0            112053  30.0000   B42        S  \n",
              "888      2        W./C. 6607  23.4500   NaN        S  \n",
              "889      0            111369  30.0000  C148        C  \n",
              "890      0            370376   7.7500   NaN        Q  \n",
              "\n",
              "[891 rows x 12 columns]"
            ],
            "text/html": [
              "\n",
              "  <div id=\"df-2505c5fd-025d-4203-8f4a-8d5e37b1ea5b\">\n",
              "    <div class=\"colab-df-container\">\n",
              "      <div>\n",
              "<style scoped>\n",
              "    .dataframe tbody tr th:only-of-type {\n",
              "        vertical-align: middle;\n",
              "    }\n",
              "\n",
              "    .dataframe tbody tr th {\n",
              "        vertical-align: top;\n",
              "    }\n",
              "\n",
              "    .dataframe thead th {\n",
              "        text-align: right;\n",
              "    }\n",
              "</style>\n",
              "<table border=\"1\" class=\"dataframe\">\n",
              "  <thead>\n",
              "    <tr style=\"text-align: right;\">\n",
              "      <th></th>\n",
              "      <th>PassengerId</th>\n",
              "      <th>Survived</th>\n",
              "      <th>Pclass</th>\n",
              "      <th>Name</th>\n",
              "      <th>Sex</th>\n",
              "      <th>Age</th>\n",
              "      <th>SibSp</th>\n",
              "      <th>Parch</th>\n",
              "      <th>Ticket</th>\n",
              "      <th>Fare</th>\n",
              "      <th>Cabin</th>\n",
              "      <th>Embarked</th>\n",
              "    </tr>\n",
              "  </thead>\n",
              "  <tbody>\n",
              "    <tr>\n",
              "      <th>0</th>\n",
              "      <td>1</td>\n",
              "      <td>0</td>\n",
              "      <td>3</td>\n",
              "      <td>Braund, Mr. Owen Harris</td>\n",
              "      <td>male</td>\n",
              "      <td>22.0</td>\n",
              "      <td>1</td>\n",
              "      <td>0</td>\n",
              "      <td>A/5 21171</td>\n",
              "      <td>7.2500</td>\n",
              "      <td>NaN</td>\n",
              "      <td>S</td>\n",
              "    </tr>\n",
              "    <tr>\n",
              "      <th>1</th>\n",
              "      <td>2</td>\n",
              "      <td>1</td>\n",
              "      <td>1</td>\n",
              "      <td>Cumings, Mrs. John Bradley (Florence Briggs Th...</td>\n",
              "      <td>female</td>\n",
              "      <td>38.0</td>\n",
              "      <td>1</td>\n",
              "      <td>0</td>\n",
              "      <td>PC 17599</td>\n",
              "      <td>71.2833</td>\n",
              "      <td>C85</td>\n",
              "      <td>C</td>\n",
              "    </tr>\n",
              "    <tr>\n",
              "      <th>2</th>\n",
              "      <td>3</td>\n",
              "      <td>1</td>\n",
              "      <td>3</td>\n",
              "      <td>Heikkinen, Miss. Laina</td>\n",
              "      <td>female</td>\n",
              "      <td>26.0</td>\n",
              "      <td>0</td>\n",
              "      <td>0</td>\n",
              "      <td>STON/O2. 3101282</td>\n",
              "      <td>7.9250</td>\n",
              "      <td>NaN</td>\n",
              "      <td>S</td>\n",
              "    </tr>\n",
              "    <tr>\n",
              "      <th>3</th>\n",
              "      <td>4</td>\n",
              "      <td>1</td>\n",
              "      <td>1</td>\n",
              "      <td>Futrelle, Mrs. Jacques Heath (Lily May Peel)</td>\n",
              "      <td>female</td>\n",
              "      <td>35.0</td>\n",
              "      <td>1</td>\n",
              "      <td>0</td>\n",
              "      <td>113803</td>\n",
              "      <td>53.1000</td>\n",
              "      <td>C123</td>\n",
              "      <td>S</td>\n",
              "    </tr>\n",
              "    <tr>\n",
              "      <th>4</th>\n",
              "      <td>5</td>\n",
              "      <td>0</td>\n",
              "      <td>3</td>\n",
              "      <td>Allen, Mr. William Henry</td>\n",
              "      <td>male</td>\n",
              "      <td>35.0</td>\n",
              "      <td>0</td>\n",
              "      <td>0</td>\n",
              "      <td>373450</td>\n",
              "      <td>8.0500</td>\n",
              "      <td>NaN</td>\n",
              "      <td>S</td>\n",
              "    </tr>\n",
              "    <tr>\n",
              "      <th>...</th>\n",
              "      <td>...</td>\n",
              "      <td>...</td>\n",
              "      <td>...</td>\n",
              "      <td>...</td>\n",
              "      <td>...</td>\n",
              "      <td>...</td>\n",
              "      <td>...</td>\n",
              "      <td>...</td>\n",
              "      <td>...</td>\n",
              "      <td>...</td>\n",
              "      <td>...</td>\n",
              "      <td>...</td>\n",
              "    </tr>\n",
              "    <tr>\n",
              "      <th>886</th>\n",
              "      <td>887</td>\n",
              "      <td>0</td>\n",
              "      <td>2</td>\n",
              "      <td>Montvila, Rev. Juozas</td>\n",
              "      <td>male</td>\n",
              "      <td>27.0</td>\n",
              "      <td>0</td>\n",
              "      <td>0</td>\n",
              "      <td>211536</td>\n",
              "      <td>13.0000</td>\n",
              "      <td>NaN</td>\n",
              "      <td>S</td>\n",
              "    </tr>\n",
              "    <tr>\n",
              "      <th>887</th>\n",
              "      <td>888</td>\n",
              "      <td>1</td>\n",
              "      <td>1</td>\n",
              "      <td>Graham, Miss. Margaret Edith</td>\n",
              "      <td>female</td>\n",
              "      <td>19.0</td>\n",
              "      <td>0</td>\n",
              "      <td>0</td>\n",
              "      <td>112053</td>\n",
              "      <td>30.0000</td>\n",
              "      <td>B42</td>\n",
              "      <td>S</td>\n",
              "    </tr>\n",
              "    <tr>\n",
              "      <th>888</th>\n",
              "      <td>889</td>\n",
              "      <td>0</td>\n",
              "      <td>3</td>\n",
              "      <td>Johnston, Miss. Catherine Helen \"Carrie\"</td>\n",
              "      <td>female</td>\n",
              "      <td>NaN</td>\n",
              "      <td>1</td>\n",
              "      <td>2</td>\n",
              "      <td>W./C. 6607</td>\n",
              "      <td>23.4500</td>\n",
              "      <td>NaN</td>\n",
              "      <td>S</td>\n",
              "    </tr>\n",
              "    <tr>\n",
              "      <th>889</th>\n",
              "      <td>890</td>\n",
              "      <td>1</td>\n",
              "      <td>1</td>\n",
              "      <td>Behr, Mr. Karl Howell</td>\n",
              "      <td>male</td>\n",
              "      <td>26.0</td>\n",
              "      <td>0</td>\n",
              "      <td>0</td>\n",
              "      <td>111369</td>\n",
              "      <td>30.0000</td>\n",
              "      <td>C148</td>\n",
              "      <td>C</td>\n",
              "    </tr>\n",
              "    <tr>\n",
              "      <th>890</th>\n",
              "      <td>891</td>\n",
              "      <td>0</td>\n",
              "      <td>3</td>\n",
              "      <td>Dooley, Mr. Patrick</td>\n",
              "      <td>male</td>\n",
              "      <td>32.0</td>\n",
              "      <td>0</td>\n",
              "      <td>0</td>\n",
              "      <td>370376</td>\n",
              "      <td>7.7500</td>\n",
              "      <td>NaN</td>\n",
              "      <td>Q</td>\n",
              "    </tr>\n",
              "  </tbody>\n",
              "</table>\n",
              "<p>891 rows × 12 columns</p>\n",
              "</div>\n",
              "      <button class=\"colab-df-convert\" onclick=\"convertToInteractive('df-2505c5fd-025d-4203-8f4a-8d5e37b1ea5b')\"\n",
              "              title=\"Convert this dataframe to an interactive table.\"\n",
              "              style=\"display:none;\">\n",
              "        \n",
              "  <svg xmlns=\"http://www.w3.org/2000/svg\" height=\"24px\"viewBox=\"0 0 24 24\"\n",
              "       width=\"24px\">\n",
              "    <path d=\"M0 0h24v24H0V0z\" fill=\"none\"/>\n",
              "    <path d=\"M18.56 5.44l.94 2.06.94-2.06 2.06-.94-2.06-.94-.94-2.06-.94 2.06-2.06.94zm-11 1L8.5 8.5l.94-2.06 2.06-.94-2.06-.94L8.5 2.5l-.94 2.06-2.06.94zm10 10l.94 2.06.94-2.06 2.06-.94-2.06-.94-.94-2.06-.94 2.06-2.06.94z\"/><path d=\"M17.41 7.96l-1.37-1.37c-.4-.4-.92-.59-1.43-.59-.52 0-1.04.2-1.43.59L10.3 9.45l-7.72 7.72c-.78.78-.78 2.05 0 2.83L4 21.41c.39.39.9.59 1.41.59.51 0 1.02-.2 1.41-.59l7.78-7.78 2.81-2.81c.8-.78.8-2.07 0-2.86zM5.41 20L4 18.59l7.72-7.72 1.47 1.35L5.41 20z\"/>\n",
              "  </svg>\n",
              "      </button>\n",
              "      \n",
              "  <style>\n",
              "    .colab-df-container {\n",
              "      display:flex;\n",
              "      flex-wrap:wrap;\n",
              "      gap: 12px;\n",
              "    }\n",
              "\n",
              "    .colab-df-convert {\n",
              "      background-color: #E8F0FE;\n",
              "      border: none;\n",
              "      border-radius: 50%;\n",
              "      cursor: pointer;\n",
              "      display: none;\n",
              "      fill: #1967D2;\n",
              "      height: 32px;\n",
              "      padding: 0 0 0 0;\n",
              "      width: 32px;\n",
              "    }\n",
              "\n",
              "    .colab-df-convert:hover {\n",
              "      background-color: #E2EBFA;\n",
              "      box-shadow: 0px 1px 2px rgba(60, 64, 67, 0.3), 0px 1px 3px 1px rgba(60, 64, 67, 0.15);\n",
              "      fill: #174EA6;\n",
              "    }\n",
              "\n",
              "    [theme=dark] .colab-df-convert {\n",
              "      background-color: #3B4455;\n",
              "      fill: #D2E3FC;\n",
              "    }\n",
              "\n",
              "    [theme=dark] .colab-df-convert:hover {\n",
              "      background-color: #434B5C;\n",
              "      box-shadow: 0px 1px 3px 1px rgba(0, 0, 0, 0.15);\n",
              "      filter: drop-shadow(0px 1px 2px rgba(0, 0, 0, 0.3));\n",
              "      fill: #FFFFFF;\n",
              "    }\n",
              "  </style>\n",
              "\n",
              "      <script>\n",
              "        const buttonEl =\n",
              "          document.querySelector('#df-2505c5fd-025d-4203-8f4a-8d5e37b1ea5b button.colab-df-convert');\n",
              "        buttonEl.style.display =\n",
              "          google.colab.kernel.accessAllowed ? 'block' : 'none';\n",
              "\n",
              "        async function convertToInteractive(key) {\n",
              "          const element = document.querySelector('#df-2505c5fd-025d-4203-8f4a-8d5e37b1ea5b');\n",
              "          const dataTable =\n",
              "            await google.colab.kernel.invokeFunction('convertToInteractive',\n",
              "                                                     [key], {});\n",
              "          if (!dataTable) return;\n",
              "\n",
              "          const docLinkHtml = 'Like what you see? Visit the ' +\n",
              "            '<a target=\"_blank\" href=https://colab.research.google.com/notebooks/data_table.ipynb>data table notebook</a>'\n",
              "            + ' to learn more about interactive tables.';\n",
              "          element.innerHTML = '';\n",
              "          dataTable['output_type'] = 'display_data';\n",
              "          await google.colab.output.renderOutput(dataTable, element);\n",
              "          const docLink = document.createElement('div');\n",
              "          docLink.innerHTML = docLinkHtml;\n",
              "          element.appendChild(docLink);\n",
              "        }\n",
              "      </script>\n",
              "    </div>\n",
              "  </div>\n",
              "  "
            ]
          },
          "metadata": {},
          "execution_count": 2
        }
      ]
    },
    {
      "cell_type": "code",
      "source": [
        "# Eliminar columnas innecesarias\n",
        "df_drop = df.drop(['PassengerId', 'Name', 'Ticket','Cabin','Embarked'],axis=1)"
      ],
      "metadata": {
        "id": "oqUK_TZCWWvr"
      },
      "execution_count": null,
      "outputs": []
    },
    {
      "cell_type": "code",
      "source": [
        "df_drop.columns"
      ],
      "metadata": {
        "colab": {
          "base_uri": "https://localhost:8080/"
        },
        "id": "xi0MQilDWzCq",
        "outputId": "73e78247-cad7-4ea4-c6e6-7e8bb062e6b0"
      },
      "execution_count": null,
      "outputs": [
        {
          "output_type": "execute_result",
          "data": {
            "text/plain": [
              "Index(['Survived', 'Pclass', 'Sex', 'Age', 'SibSp', 'Parch', 'Fare'], dtype='object')"
            ]
          },
          "metadata": {},
          "execution_count": 4
        }
      ]
    },
    {
      "cell_type": "code",
      "source": [
        "# Pasar variable categórica a numérica\n",
        "df_dummy = pd.get_dummies(df_drop)\n",
        "df_dummy.columns"
      ],
      "metadata": {
        "colab": {
          "base_uri": "https://localhost:8080/"
        },
        "id": "CuRVGSJTXCij",
        "outputId": "1ec7b291-8a66-417c-adaf-3b3b74a32089"
      },
      "execution_count": null,
      "outputs": [
        {
          "output_type": "execute_result",
          "data": {
            "text/plain": [
              "Index(['Survived', 'Pclass', 'Age', 'SibSp', 'Parch', 'Fare', 'Sex_female',\n",
              "       'Sex_male'],\n",
              "      dtype='object')"
            ]
          },
          "metadata": {},
          "execution_count": 5
        }
      ]
    },
    {
      "cell_type": "code",
      "source": [
        "# Imputar la edad\n",
        "from sklearn.impute import SimpleImputer\n",
        "imp_mean = SimpleImputer(missing_values=np.nan, strategy='mean')\n",
        "df_dummy['Age'] = imp_mean.fit_transform(df_dummy['Age'].values.reshape(-1,1))"
      ],
      "metadata": {
        "id": "3Pt7FJdSbrs2"
      },
      "execution_count": null,
      "outputs": []
    },
    {
      "cell_type": "markdown",
      "source": [
        "## Feature selection (filtrado)"
      ],
      "metadata": {
        "id": "ZbtXpdkdePRm"
      }
    },
    {
      "cell_type": "code",
      "source": [
        "def get_corr_vars(X,y):\n",
        "  # Inicializar variable respuesta\n",
        "  d_res = dict()\n",
        "  # Por cada una de las columnas de la matriz X\n",
        "  for col in X.columns:\n",
        "    # Seleccionamos la columna sobre la cual estamos iterando\n",
        "    col_values = X[col]\n",
        "    # Calcular la correlación con la variable dependiente y\n",
        "    corr = np.corrcoef(col_values, y)[0,1]\n",
        "    # Almacenamos el nombre de la variable y su correlación con y\n",
        "    d_res[col] = corr\n",
        "  return d_res\n",
        "\n",
        "X = df_dummy.loc[:, df_dummy.columns != 'Survived']\n",
        "y = df_dummy['Survived']\n",
        "\n",
        "d_corr = get_corr_vars(X,y)"
      ],
      "metadata": {
        "id": "BhWUdvjKYXBK"
      },
      "execution_count": null,
      "outputs": []
    },
    {
      "cell_type": "code",
      "source": [
        "d_corr.items()"
      ],
      "metadata": {
        "colab": {
          "base_uri": "https://localhost:8080/"
        },
        "id": "R8V2DRmPdevy",
        "outputId": "f283fa42-2010-4d1e-d6bb-293250f7623f"
      },
      "execution_count": null,
      "outputs": [
        {
          "output_type": "execute_result",
          "data": {
            "text/plain": [
              "dict_items([('Pclass', -0.33848103596101475), ('Age', -0.06980851528714314), ('SibSp', -0.035322498885735645), ('Parch', 0.08162940708348372), ('Fare', 0.2573065223849625), ('Sex_female', 0.5433513806577555), ('Sex_male', -0.5433513806577555)])"
            ]
          },
          "metadata": {},
          "execution_count": 8
        }
      ]
    },
    {
      "cell_type": "code",
      "source": [
        "for k,v in d_corr.items():\n",
        "  if np.abs(v)>0.2:\n",
        "    print(k,v)"
      ],
      "metadata": {
        "colab": {
          "base_uri": "https://localhost:8080/"
        },
        "id": "PjK1OQxnZKvJ",
        "outputId": "c405a62c-c612-415c-b998-46216552518c"
      },
      "execution_count": null,
      "outputs": [
        {
          "output_type": "stream",
          "name": "stdout",
          "text": [
            "Pclass -0.33848103596101475\n",
            "Fare 0.2573065223849625\n",
            "Sex_female 0.5433513806577555\n",
            "Sex_male -0.5433513806577555\n"
          ]
        }
      ]
    },
    {
      "cell_type": "markdown",
      "source": [
        "## Wrapper method"
      ],
      "metadata": {
        "id": "iNaesS2ofIai"
      }
    },
    {
      "cell_type": "code",
      "source": [
        "# Recusive Feature Selection (Wrapper method)\n",
        "from sklearn.feature_selection import RFECV\n",
        "from sklearn.ensemble import RandomForestClassifier\n",
        "\n",
        "# Instanciamos el objeto Recursive Feature Elimination CV\n",
        "rfecv_selector = RFECV(estimator=RandomForestClassifier(100), step=1, verbose=1)\n",
        "rfecv_selector.fit(X, y)"
      ],
      "metadata": {
        "colab": {
          "base_uri": "https://localhost:8080/"
        },
        "id": "XVca840KfMjS",
        "outputId": "b4afaf6b-00fd-4b8b-da34-e9b964b61617"
      },
      "execution_count": null,
      "outputs": [
        {
          "output_type": "stream",
          "name": "stdout",
          "text": [
            "Fitting estimator with 7 features.\n",
            "Fitting estimator with 6 features.\n",
            "Fitting estimator with 5 features.\n",
            "Fitting estimator with 4 features.\n",
            "Fitting estimator with 3 features.\n",
            "Fitting estimator with 2 features.\n",
            "Fitting estimator with 7 features.\n",
            "Fitting estimator with 6 features.\n",
            "Fitting estimator with 5 features.\n",
            "Fitting estimator with 4 features.\n",
            "Fitting estimator with 3 features.\n",
            "Fitting estimator with 2 features.\n",
            "Fitting estimator with 7 features.\n",
            "Fitting estimator with 6 features.\n",
            "Fitting estimator with 5 features.\n",
            "Fitting estimator with 4 features.\n",
            "Fitting estimator with 3 features.\n",
            "Fitting estimator with 2 features.\n",
            "Fitting estimator with 7 features.\n",
            "Fitting estimator with 6 features.\n",
            "Fitting estimator with 5 features.\n",
            "Fitting estimator with 4 features.\n",
            "Fitting estimator with 3 features.\n",
            "Fitting estimator with 2 features.\n",
            "Fitting estimator with 7 features.\n",
            "Fitting estimator with 6 features.\n",
            "Fitting estimator with 5 features.\n",
            "Fitting estimator with 4 features.\n",
            "Fitting estimator with 3 features.\n",
            "Fitting estimator with 2 features.\n",
            "Fitting estimator with 7 features.\n",
            "Fitting estimator with 6 features.\n"
          ]
        },
        {
          "output_type": "execute_result",
          "data": {
            "text/plain": [
              "RFECV(estimator=RandomForestClassifier(), verbose=1)"
            ]
          },
          "metadata": {},
          "execution_count": 10
        }
      ]
    },
    {
      "cell_type": "code",
      "source": [
        "print(X.columns)\n",
        "print(rfecv_selector.ranking_)"
      ],
      "metadata": {
        "colab": {
          "base_uri": "https://localhost:8080/"
        },
        "id": "fQQPWbZ_fMrN",
        "outputId": "ebf7a510-412f-4902-983a-02fb1f96c91c"
      },
      "execution_count": null,
      "outputs": [
        {
          "output_type": "stream",
          "name": "stdout",
          "text": [
            "Index(['Pclass', 'Age', 'SibSp', 'Parch', 'Fare', 'Sex_female', 'Sex_male'], dtype='object')\n",
            "[1 1 2 3 1 1 1]\n"
          ]
        }
      ]
    },
    {
      "cell_type": "markdown",
      "source": [
        "## Filter II"
      ],
      "metadata": {
        "id": "OYkgTJkbfIfn"
      }
    },
    {
      "cell_type": "code",
      "source": [
        "# Select features according to the k highest scores. (filter)\n",
        "from sklearn.feature_selection import SelectKBest, f_regression \n",
        "X_new = SelectKBest(f_regression, k='all').fit(X, y)\n",
        "print(X.columns)\n",
        "np.round(X_new.scores_,3)"
      ],
      "metadata": {
        "colab": {
          "base_uri": "https://localhost:8080/"
        },
        "id": "UhwUrnYphXNg",
        "outputId": "c9b35d50-9162-4105-af3f-24ba52d181e7"
      },
      "execution_count": null,
      "outputs": [
        {
          "output_type": "stream",
          "name": "stdout",
          "text": [
            "Index(['Pclass', 'Age', 'SibSp', 'Parch', 'Fare', 'Sex_female', 'Sex_male'], dtype='object')\n"
          ]
        },
        {
          "output_type": "execute_result",
          "data": {
            "text/plain": [
              "array([115.031,   4.354,   1.111,   5.963,  63.031, 372.406, 372.406])"
            ]
          },
          "metadata": {},
          "execution_count": 140
        }
      ]
    },
    {
      "cell_type": "markdown",
      "source": [
        "# Proceso de entrenamiento"
      ],
      "metadata": {
        "id": "qQwDFsPwH3C0"
      }
    },
    {
      "cell_type": "code",
      "source": [
        "X = X[['Pclass', 'Age', 'Sex_female', 'Sex_male']]\n",
        "X"
      ],
      "metadata": {
        "colab": {
          "base_uri": "https://localhost:8080/",
          "height": 424
        },
        "id": "dNh_lP5oH16M",
        "outputId": "7bb85398-61e9-4b01-9126-9c836f1d115a"
      },
      "execution_count": null,
      "outputs": [
        {
          "output_type": "execute_result",
          "data": {
            "text/plain": [
              "     Pclass        Age  Sex_female  Sex_male\n",
              "0         3  22.000000           0         1\n",
              "1         1  38.000000           1         0\n",
              "2         3  26.000000           1         0\n",
              "3         1  35.000000           1         0\n",
              "4         3  35.000000           0         1\n",
              "..      ...        ...         ...       ...\n",
              "886       2  27.000000           0         1\n",
              "887       1  19.000000           1         0\n",
              "888       3  29.699118           1         0\n",
              "889       1  26.000000           0         1\n",
              "890       3  32.000000           0         1\n",
              "\n",
              "[891 rows x 4 columns]"
            ],
            "text/html": [
              "\n",
              "  <div id=\"df-ac1e7cdb-0fb1-4aee-abd2-39c49df2562d\">\n",
              "    <div class=\"colab-df-container\">\n",
              "      <div>\n",
              "<style scoped>\n",
              "    .dataframe tbody tr th:only-of-type {\n",
              "        vertical-align: middle;\n",
              "    }\n",
              "\n",
              "    .dataframe tbody tr th {\n",
              "        vertical-align: top;\n",
              "    }\n",
              "\n",
              "    .dataframe thead th {\n",
              "        text-align: right;\n",
              "    }\n",
              "</style>\n",
              "<table border=\"1\" class=\"dataframe\">\n",
              "  <thead>\n",
              "    <tr style=\"text-align: right;\">\n",
              "      <th></th>\n",
              "      <th>Pclass</th>\n",
              "      <th>Age</th>\n",
              "      <th>Sex_female</th>\n",
              "      <th>Sex_male</th>\n",
              "    </tr>\n",
              "  </thead>\n",
              "  <tbody>\n",
              "    <tr>\n",
              "      <th>0</th>\n",
              "      <td>3</td>\n",
              "      <td>22.000000</td>\n",
              "      <td>0</td>\n",
              "      <td>1</td>\n",
              "    </tr>\n",
              "    <tr>\n",
              "      <th>1</th>\n",
              "      <td>1</td>\n",
              "      <td>38.000000</td>\n",
              "      <td>1</td>\n",
              "      <td>0</td>\n",
              "    </tr>\n",
              "    <tr>\n",
              "      <th>2</th>\n",
              "      <td>3</td>\n",
              "      <td>26.000000</td>\n",
              "      <td>1</td>\n",
              "      <td>0</td>\n",
              "    </tr>\n",
              "    <tr>\n",
              "      <th>3</th>\n",
              "      <td>1</td>\n",
              "      <td>35.000000</td>\n",
              "      <td>1</td>\n",
              "      <td>0</td>\n",
              "    </tr>\n",
              "    <tr>\n",
              "      <th>4</th>\n",
              "      <td>3</td>\n",
              "      <td>35.000000</td>\n",
              "      <td>0</td>\n",
              "      <td>1</td>\n",
              "    </tr>\n",
              "    <tr>\n",
              "      <th>...</th>\n",
              "      <td>...</td>\n",
              "      <td>...</td>\n",
              "      <td>...</td>\n",
              "      <td>...</td>\n",
              "    </tr>\n",
              "    <tr>\n",
              "      <th>886</th>\n",
              "      <td>2</td>\n",
              "      <td>27.000000</td>\n",
              "      <td>0</td>\n",
              "      <td>1</td>\n",
              "    </tr>\n",
              "    <tr>\n",
              "      <th>887</th>\n",
              "      <td>1</td>\n",
              "      <td>19.000000</td>\n",
              "      <td>1</td>\n",
              "      <td>0</td>\n",
              "    </tr>\n",
              "    <tr>\n",
              "      <th>888</th>\n",
              "      <td>3</td>\n",
              "      <td>29.699118</td>\n",
              "      <td>1</td>\n",
              "      <td>0</td>\n",
              "    </tr>\n",
              "    <tr>\n",
              "      <th>889</th>\n",
              "      <td>1</td>\n",
              "      <td>26.000000</td>\n",
              "      <td>0</td>\n",
              "      <td>1</td>\n",
              "    </tr>\n",
              "    <tr>\n",
              "      <th>890</th>\n",
              "      <td>3</td>\n",
              "      <td>32.000000</td>\n",
              "      <td>0</td>\n",
              "      <td>1</td>\n",
              "    </tr>\n",
              "  </tbody>\n",
              "</table>\n",
              "<p>891 rows × 4 columns</p>\n",
              "</div>\n",
              "      <button class=\"colab-df-convert\" onclick=\"convertToInteractive('df-ac1e7cdb-0fb1-4aee-abd2-39c49df2562d')\"\n",
              "              title=\"Convert this dataframe to an interactive table.\"\n",
              "              style=\"display:none;\">\n",
              "        \n",
              "  <svg xmlns=\"http://www.w3.org/2000/svg\" height=\"24px\"viewBox=\"0 0 24 24\"\n",
              "       width=\"24px\">\n",
              "    <path d=\"M0 0h24v24H0V0z\" fill=\"none\"/>\n",
              "    <path d=\"M18.56 5.44l.94 2.06.94-2.06 2.06-.94-2.06-.94-.94-2.06-.94 2.06-2.06.94zm-11 1L8.5 8.5l.94-2.06 2.06-.94-2.06-.94L8.5 2.5l-.94 2.06-2.06.94zm10 10l.94 2.06.94-2.06 2.06-.94-2.06-.94-.94-2.06-.94 2.06-2.06.94z\"/><path d=\"M17.41 7.96l-1.37-1.37c-.4-.4-.92-.59-1.43-.59-.52 0-1.04.2-1.43.59L10.3 9.45l-7.72 7.72c-.78.78-.78 2.05 0 2.83L4 21.41c.39.39.9.59 1.41.59.51 0 1.02-.2 1.41-.59l7.78-7.78 2.81-2.81c.8-.78.8-2.07 0-2.86zM5.41 20L4 18.59l7.72-7.72 1.47 1.35L5.41 20z\"/>\n",
              "  </svg>\n",
              "      </button>\n",
              "      \n",
              "  <style>\n",
              "    .colab-df-container {\n",
              "      display:flex;\n",
              "      flex-wrap:wrap;\n",
              "      gap: 12px;\n",
              "    }\n",
              "\n",
              "    .colab-df-convert {\n",
              "      background-color: #E8F0FE;\n",
              "      border: none;\n",
              "      border-radius: 50%;\n",
              "      cursor: pointer;\n",
              "      display: none;\n",
              "      fill: #1967D2;\n",
              "      height: 32px;\n",
              "      padding: 0 0 0 0;\n",
              "      width: 32px;\n",
              "    }\n",
              "\n",
              "    .colab-df-convert:hover {\n",
              "      background-color: #E2EBFA;\n",
              "      box-shadow: 0px 1px 2px rgba(60, 64, 67, 0.3), 0px 1px 3px 1px rgba(60, 64, 67, 0.15);\n",
              "      fill: #174EA6;\n",
              "    }\n",
              "\n",
              "    [theme=dark] .colab-df-convert {\n",
              "      background-color: #3B4455;\n",
              "      fill: #D2E3FC;\n",
              "    }\n",
              "\n",
              "    [theme=dark] .colab-df-convert:hover {\n",
              "      background-color: #434B5C;\n",
              "      box-shadow: 0px 1px 3px 1px rgba(0, 0, 0, 0.15);\n",
              "      filter: drop-shadow(0px 1px 2px rgba(0, 0, 0, 0.3));\n",
              "      fill: #FFFFFF;\n",
              "    }\n",
              "  </style>\n",
              "\n",
              "      <script>\n",
              "        const buttonEl =\n",
              "          document.querySelector('#df-ac1e7cdb-0fb1-4aee-abd2-39c49df2562d button.colab-df-convert');\n",
              "        buttonEl.style.display =\n",
              "          google.colab.kernel.accessAllowed ? 'block' : 'none';\n",
              "\n",
              "        async function convertToInteractive(key) {\n",
              "          const element = document.querySelector('#df-ac1e7cdb-0fb1-4aee-abd2-39c49df2562d');\n",
              "          const dataTable =\n",
              "            await google.colab.kernel.invokeFunction('convertToInteractive',\n",
              "                                                     [key], {});\n",
              "          if (!dataTable) return;\n",
              "\n",
              "          const docLinkHtml = 'Like what you see? Visit the ' +\n",
              "            '<a target=\"_blank\" href=https://colab.research.google.com/notebooks/data_table.ipynb>data table notebook</a>'\n",
              "            + ' to learn more about interactive tables.';\n",
              "          element.innerHTML = '';\n",
              "          dataTable['output_type'] = 'display_data';\n",
              "          await google.colab.output.renderOutput(dataTable, element);\n",
              "          const docLink = document.createElement('div');\n",
              "          docLink.innerHTML = docLinkHtml;\n",
              "          element.appendChild(docLink);\n",
              "        }\n",
              "      </script>\n",
              "    </div>\n",
              "  </div>\n",
              "  "
            ]
          },
          "metadata": {},
          "execution_count": 12
        }
      ]
    },
    {
      "cell_type": "code",
      "source": [
        "y"
      ],
      "metadata": {
        "colab": {
          "base_uri": "https://localhost:8080/"
        },
        "id": "zeBZ0DuJIJKp",
        "outputId": "efcd269d-d606-4de2-f116-934d660c612b"
      },
      "execution_count": null,
      "outputs": [
        {
          "output_type": "execute_result",
          "data": {
            "text/plain": [
              "0      0\n",
              "1      1\n",
              "2      1\n",
              "3      1\n",
              "4      0\n",
              "      ..\n",
              "886    0\n",
              "887    1\n",
              "888    0\n",
              "889    1\n",
              "890    0\n",
              "Name: Survived, Length: 891, dtype: int64"
            ]
          },
          "metadata": {},
          "execution_count": 13
        }
      ]
    },
    {
      "cell_type": "code",
      "source": [
        "# Rompemos el dataset en los conjuntos de entrenamiento y testeo\n",
        "X_train, X_test, y_train, y_test = train_test_split(X, y, test_size=0.2, random_state=42)"
      ],
      "metadata": {
        "id": "5LT5GCN4INrQ"
      },
      "execution_count": null,
      "outputs": []
    },
    {
      "cell_type": "code",
      "source": [
        "# Versión sin pipeline\n",
        "scaler = StandardScaler()\n",
        "X_train_sc = scaler.fit_transform(X_train)\n",
        "X_test_sc = scaler.transform(X_test)"
      ],
      "metadata": {
        "id": "gIf-MVOIK2R-"
      },
      "execution_count": null,
      "outputs": []
    },
    {
      "cell_type": "code",
      "source": [
        "# Instanciamos y ajustamos el algoritmo knn\n",
        "knn = KNeighborsClassifier(n_neighbors=3)\n",
        "knn_fit = knn.fit(X_train_sc, y_train)"
      ],
      "metadata": {
        "id": "otv6WIEjLmVm"
      },
      "execution_count": null,
      "outputs": []
    },
    {
      "cell_type": "code",
      "source": [
        "# Aplicar el modelo sobre el conjunto de testeo\n",
        "yhat = knn_fit.predict(X_test_sc)"
      ],
      "metadata": {
        "id": "G7a68bX7MIgx"
      },
      "execution_count": null,
      "outputs": []
    },
    {
      "cell_type": "code",
      "source": [
        "# Medimos la exactitud sobre ambos conjuntos\n",
        "print(accuracy_score(y_train, knn_fit.predict(X_train_sc)))\n",
        "print(accuracy_score(y_test, yhat))"
      ],
      "metadata": {
        "colab": {
          "base_uri": "https://localhost:8080/"
        },
        "id": "gb-0ruGyMoFD",
        "outputId": "89ef6445-9e97-4fc9-dd99-15651f6740c9"
      },
      "execution_count": null,
      "outputs": [
        {
          "output_type": "stream",
          "name": "stdout",
          "text": [
            "0.8525280898876404\n",
            "0.8100558659217877\n"
          ]
        }
      ]
    },
    {
      "cell_type": "code",
      "source": [
        "# Versión pipeline\n",
        "pipe = Pipeline([('scaler', StandardScaler()), ('knn', KNeighborsClassifier(n_neighbors=3))])\n",
        "pipe.fit(X_train, y_train)\n",
        "print(pipe.score(X_train, y_train))\n",
        "print(pipe.score(X_test, y_test))"
      ],
      "metadata": {
        "colab": {
          "base_uri": "https://localhost:8080/"
        },
        "id": "XwBaOv9ZOEg7",
        "outputId": "6f682474-9372-43cb-c80e-77ccdf2ef59c"
      },
      "execution_count": null,
      "outputs": [
        {
          "output_type": "stream",
          "name": "stdout",
          "text": [
            "0.8525280898876404\n",
            "0.8100558659217877\n"
          ]
        }
      ]
    },
    {
      "cell_type": "code",
      "source": [
        "# Probamos con distintos algoritmos de clasificación\n",
        "ls_alg = [LogisticRegression(),SVC(),RandomForestClassifier(),GaussianNB()]\n",
        "for alg in ls_alg:\n",
        "  pipe = Pipeline([('scaler', StandardScaler()), ('estimator', alg)])\n",
        "  pipe.fit(X_train, y_train)\n",
        "  print(alg)\n",
        "  print(pipe.score(X_train, y_train),pipe.score(X_test, y_test))"
      ],
      "metadata": {
        "colab": {
          "base_uri": "https://localhost:8080/"
        },
        "id": "t5SZRVqpPORy",
        "outputId": "79a1741a-e458-42f3-955f-e6ad484f37b9"
      },
      "execution_count": null,
      "outputs": [
        {
          "output_type": "stream",
          "name": "stdout",
          "text": [
            "LogisticRegression()\n",
            "0.7893258426966292 0.8044692737430168\n",
            "SVC()\n",
            "0.8061797752808989 0.776536312849162\n",
            "RandomForestClassifier()\n",
            "0.8778089887640449 0.7932960893854749\n",
            "GaussianNB()\n",
            "0.7879213483146067 0.7821229050279329\n"
          ]
        }
      ]
    },
    {
      "cell_type": "code",
      "source": [
        "# Gridsearch CV KNN\n",
        "est = KNeighborsClassifier()\n",
        "parameters = {'n_neighbors':range(1,13), 'algorithm':['auto', 'ball_tree', 'kd_tree', 'brute']}\n",
        "gs = GridSearchCV(est, parameters, verbose =3)\n",
        "pipe = Pipeline([('scaler', StandardScaler()), ('estimator', gs)])\n",
        "pipe.fit(X_train, y_train)"
      ],
      "metadata": {
        "colab": {
          "base_uri": "https://localhost:8080/"
        },
        "id": "Sal2PpaMSMr8",
        "outputId": "b997a6b7-ced2-4a9d-beb4-9c711bd996a6"
      },
      "execution_count": null,
      "outputs": [
        {
          "output_type": "stream",
          "name": "stdout",
          "text": [
            "Fitting 5 folds for each of 48 candidates, totalling 240 fits\n",
            "[CV 1/5] END .....algorithm=auto, n_neighbors=1;, score=0.769 total time=   0.0s\n",
            "[CV 2/5] END .....algorithm=auto, n_neighbors=1;, score=0.776 total time=   0.0s\n",
            "[CV 3/5] END .....algorithm=auto, n_neighbors=1;, score=0.761 total time=   0.0s\n",
            "[CV 4/5] END .....algorithm=auto, n_neighbors=1;, score=0.739 total time=   0.0s\n",
            "[CV 5/5] END .....algorithm=auto, n_neighbors=1;, score=0.739 total time=   0.0s\n",
            "[CV 1/5] END .....algorithm=auto, n_neighbors=2;, score=0.776 total time=   0.0s\n",
            "[CV 2/5] END .....algorithm=auto, n_neighbors=2;, score=0.797 total time=   0.0s\n",
            "[CV 3/5] END .....algorithm=auto, n_neighbors=2;, score=0.796 total time=   0.0s\n",
            "[CV 4/5] END .....algorithm=auto, n_neighbors=2;, score=0.761 total time=   0.0s\n",
            "[CV 5/5] END .....algorithm=auto, n_neighbors=2;, score=0.768 total time=   0.0s\n",
            "[CV 1/5] END .....algorithm=auto, n_neighbors=3;, score=0.776 total time=   0.0s\n",
            "[CV 2/5] END .....algorithm=auto, n_neighbors=3;, score=0.797 total time=   0.0s\n",
            "[CV 3/5] END .....algorithm=auto, n_neighbors=3;, score=0.768 total time=   0.0s\n",
            "[CV 4/5] END .....algorithm=auto, n_neighbors=3;, score=0.754 total time=   0.0s\n",
            "[CV 5/5] END .....algorithm=auto, n_neighbors=3;, score=0.817 total time=   0.0s\n",
            "[CV 1/5] END .....algorithm=auto, n_neighbors=4;, score=0.790 total time=   0.0s\n",
            "[CV 2/5] END .....algorithm=auto, n_neighbors=4;, score=0.846 total time=   0.0s\n",
            "[CV 3/5] END .....algorithm=auto, n_neighbors=4;, score=0.789 total time=   0.0s\n",
            "[CV 4/5] END .....algorithm=auto, n_neighbors=4;, score=0.746 total time=   0.0s\n",
            "[CV 5/5] END .....algorithm=auto, n_neighbors=4;, score=0.775 total time=   0.0s\n",
            "[CV 1/5] END .....algorithm=auto, n_neighbors=5;, score=0.790 total time=   0.0s\n",
            "[CV 2/5] END .....algorithm=auto, n_neighbors=5;, score=0.797 total time=   0.0s\n",
            "[CV 3/5] END .....algorithm=auto, n_neighbors=5;, score=0.754 total time=   0.0s\n",
            "[CV 4/5] END .....algorithm=auto, n_neighbors=5;, score=0.754 total time=   0.0s\n",
            "[CV 5/5] END .....algorithm=auto, n_neighbors=5;, score=0.789 total time=   0.0s\n",
            "[CV 1/5] END .....algorithm=auto, n_neighbors=6;, score=0.797 total time=   0.0s\n",
            "[CV 2/5] END .....algorithm=auto, n_neighbors=6;, score=0.825 total time=   0.0s\n",
            "[CV 3/5] END .....algorithm=auto, n_neighbors=6;, score=0.789 total time=   0.0s\n",
            "[CV 4/5] END .....algorithm=auto, n_neighbors=6;, score=0.768 total time=   0.0s\n",
            "[CV 5/5] END .....algorithm=auto, n_neighbors=6;, score=0.796 total time=   0.0s\n",
            "[CV 1/5] END .....algorithm=auto, n_neighbors=7;, score=0.790 total time=   0.0s\n",
            "[CV 2/5] END .....algorithm=auto, n_neighbors=7;, score=0.839 total time=   0.0s\n",
            "[CV 3/5] END .....algorithm=auto, n_neighbors=7;, score=0.782 total time=   0.0s\n",
            "[CV 4/5] END .....algorithm=auto, n_neighbors=7;, score=0.746 total time=   0.0s\n",
            "[CV 5/5] END .....algorithm=auto, n_neighbors=7;, score=0.838 total time=   0.0s\n",
            "[CV 1/5] END .....algorithm=auto, n_neighbors=8;, score=0.811 total time=   0.0s\n",
            "[CV 2/5] END .....algorithm=auto, n_neighbors=8;, score=0.818 total time=   0.0s\n",
            "[CV 3/5] END .....algorithm=auto, n_neighbors=8;, score=0.810 total time=   0.0s\n",
            "[CV 4/5] END .....algorithm=auto, n_neighbors=8;, score=0.768 total time=   0.0s\n",
            "[CV 5/5] END .....algorithm=auto, n_neighbors=8;, score=0.845 total time=   0.0s\n",
            "[CV 1/5] END .....algorithm=auto, n_neighbors=9;, score=0.825 total time=   0.0s\n",
            "[CV 2/5] END .....algorithm=auto, n_neighbors=9;, score=0.825 total time=   0.0s\n",
            "[CV 3/5] END .....algorithm=auto, n_neighbors=9;, score=0.775 total time=   0.0s\n",
            "[CV 4/5] END .....algorithm=auto, n_neighbors=9;, score=0.761 total time=   0.0s\n",
            "[CV 5/5] END .....algorithm=auto, n_neighbors=9;, score=0.824 total time=   0.0s\n",
            "[CV 1/5] END ....algorithm=auto, n_neighbors=10;, score=0.811 total time=   0.0s\n",
            "[CV 2/5] END ....algorithm=auto, n_neighbors=10;, score=0.839 total time=   0.0s\n",
            "[CV 3/5] END ....algorithm=auto, n_neighbors=10;, score=0.775 total time=   0.0s\n",
            "[CV 4/5] END ....algorithm=auto, n_neighbors=10;, score=0.754 total time=   0.0s\n",
            "[CV 5/5] END ....algorithm=auto, n_neighbors=10;, score=0.845 total time=   0.0s\n",
            "[CV 1/5] END ....algorithm=auto, n_neighbors=11;, score=0.811 total time=   0.0s\n",
            "[CV 2/5] END ....algorithm=auto, n_neighbors=11;, score=0.839 total time=   0.0s\n",
            "[CV 3/5] END ....algorithm=auto, n_neighbors=11;, score=0.768 total time=   0.0s\n",
            "[CV 4/5] END ....algorithm=auto, n_neighbors=11;, score=0.761 total time=   0.0s\n",
            "[CV 5/5] END ....algorithm=auto, n_neighbors=11;, score=0.838 total time=   0.0s\n",
            "[CV 1/5] END ....algorithm=auto, n_neighbors=12;, score=0.797 total time=   0.0s\n",
            "[CV 2/5] END ....algorithm=auto, n_neighbors=12;, score=0.839 total time=   0.0s\n",
            "[CV 3/5] END ....algorithm=auto, n_neighbors=12;, score=0.782 total time=   0.0s\n",
            "[CV 4/5] END ....algorithm=auto, n_neighbors=12;, score=0.768 total time=   0.0s\n",
            "[CV 5/5] END ....algorithm=auto, n_neighbors=12;, score=0.796 total time=   0.0s\n",
            "[CV 1/5] END algorithm=ball_tree, n_neighbors=1;, score=0.769 total time=   0.0s\n",
            "[CV 2/5] END algorithm=ball_tree, n_neighbors=1;, score=0.776 total time=   0.0s\n",
            "[CV 3/5] END algorithm=ball_tree, n_neighbors=1;, score=0.761 total time=   0.0s\n",
            "[CV 4/5] END algorithm=ball_tree, n_neighbors=1;, score=0.739 total time=   0.0s\n",
            "[CV 5/5] END algorithm=ball_tree, n_neighbors=1;, score=0.739 total time=   0.0s\n",
            "[CV 1/5] END algorithm=ball_tree, n_neighbors=2;, score=0.776 total time=   0.0s\n",
            "[CV 2/5] END algorithm=ball_tree, n_neighbors=2;, score=0.797 total time=   0.0s\n",
            "[CV 3/5] END algorithm=ball_tree, n_neighbors=2;, score=0.796 total time=   0.0s\n",
            "[CV 4/5] END algorithm=ball_tree, n_neighbors=2;, score=0.768 total time=   0.0s\n",
            "[CV 5/5] END algorithm=ball_tree, n_neighbors=2;, score=0.768 total time=   0.0s\n",
            "[CV 1/5] END algorithm=ball_tree, n_neighbors=3;, score=0.783 total time=   0.0s\n",
            "[CV 2/5] END algorithm=ball_tree, n_neighbors=3;, score=0.797 total time=   0.0s\n",
            "[CV 3/5] END algorithm=ball_tree, n_neighbors=3;, score=0.775 total time=   0.0s\n",
            "[CV 4/5] END algorithm=ball_tree, n_neighbors=3;, score=0.739 total time=   0.0s\n",
            "[CV 5/5] END algorithm=ball_tree, n_neighbors=3;, score=0.817 total time=   0.0s\n",
            "[CV 1/5] END algorithm=ball_tree, n_neighbors=4;, score=0.797 total time=   0.0s\n",
            "[CV 2/5] END algorithm=ball_tree, n_neighbors=4;, score=0.846 total time=   0.0s\n",
            "[CV 3/5] END algorithm=ball_tree, n_neighbors=4;, score=0.796 total time=   0.0s\n",
            "[CV 4/5] END algorithm=ball_tree, n_neighbors=4;, score=0.754 total time=   0.0s\n",
            "[CV 5/5] END algorithm=ball_tree, n_neighbors=4;, score=0.775 total time=   0.0s\n",
            "[CV 1/5] END algorithm=ball_tree, n_neighbors=5;, score=0.790 total time=   0.0s\n",
            "[CV 2/5] END algorithm=ball_tree, n_neighbors=5;, score=0.804 total time=   0.0s\n",
            "[CV 3/5] END algorithm=ball_tree, n_neighbors=5;, score=0.761 total time=   0.0s\n",
            "[CV 4/5] END algorithm=ball_tree, n_neighbors=5;, score=0.754 total time=   0.0s\n",
            "[CV 5/5] END algorithm=ball_tree, n_neighbors=5;, score=0.768 total time=   0.1s\n",
            "[CV 1/5] END algorithm=ball_tree, n_neighbors=6;, score=0.797 total time=   0.0s\n",
            "[CV 2/5] END algorithm=ball_tree, n_neighbors=6;, score=0.818 total time=   0.0s\n",
            "[CV 3/5] END algorithm=ball_tree, n_neighbors=6;, score=0.789 total time=   0.0s\n",
            "[CV 4/5] END algorithm=ball_tree, n_neighbors=6;, score=0.775 total time=   0.0s\n",
            "[CV 5/5] END algorithm=ball_tree, n_neighbors=6;, score=0.796 total time=   0.0s\n",
            "[CV 1/5] END algorithm=ball_tree, n_neighbors=7;, score=0.797 total time=   0.0s\n",
            "[CV 2/5] END algorithm=ball_tree, n_neighbors=7;, score=0.832 total time=   0.0s\n",
            "[CV 3/5] END algorithm=ball_tree, n_neighbors=7;, score=0.782 total time=   0.0s\n",
            "[CV 4/5] END algorithm=ball_tree, n_neighbors=7;, score=0.761 total time=   0.0s\n",
            "[CV 5/5] END algorithm=ball_tree, n_neighbors=7;, score=0.838 total time=   0.0s\n",
            "[CV 1/5] END algorithm=ball_tree, n_neighbors=8;, score=0.811 total time=   0.0s\n",
            "[CV 2/5] END algorithm=ball_tree, n_neighbors=8;, score=0.818 total time=   0.0s\n",
            "[CV 3/5] END algorithm=ball_tree, n_neighbors=8;, score=0.817 total time=   0.0s\n",
            "[CV 4/5] END algorithm=ball_tree, n_neighbors=8;, score=0.775 total time=   0.0s\n",
            "[CV 5/5] END algorithm=ball_tree, n_neighbors=8;, score=0.845 total time=   0.0s\n",
            "[CV 1/5] END algorithm=ball_tree, n_neighbors=9;, score=0.832 total time=   0.0s\n",
            "[CV 2/5] END algorithm=ball_tree, n_neighbors=9;, score=0.818 total time=   0.0s\n",
            "[CV 3/5] END algorithm=ball_tree, n_neighbors=9;, score=0.775 total time=   0.0s\n",
            "[CV 4/5] END algorithm=ball_tree, n_neighbors=9;, score=0.761 total time=   0.0s\n",
            "[CV 5/5] END algorithm=ball_tree, n_neighbors=9;, score=0.824 total time=   0.0s\n",
            "[CV 1/5] END algorithm=ball_tree, n_neighbors=10;, score=0.818 total time=   0.0s\n",
            "[CV 2/5] END algorithm=ball_tree, n_neighbors=10;, score=0.832 total time=   0.0s\n",
            "[CV 3/5] END algorithm=ball_tree, n_neighbors=10;, score=0.775 total time=   0.0s\n",
            "[CV 4/5] END algorithm=ball_tree, n_neighbors=10;, score=0.746 total time=   0.0s\n",
            "[CV 5/5] END algorithm=ball_tree, n_neighbors=10;, score=0.845 total time=   0.0s\n",
            "[CV 1/5] END algorithm=ball_tree, n_neighbors=11;, score=0.818 total time=   0.0s\n",
            "[CV 2/5] END algorithm=ball_tree, n_neighbors=11;, score=0.832 total time=   0.0s\n",
            "[CV 3/5] END algorithm=ball_tree, n_neighbors=11;, score=0.768 total time=   0.0s\n",
            "[CV 4/5] END algorithm=ball_tree, n_neighbors=11;, score=0.754 total time=   0.0s\n",
            "[CV 5/5] END algorithm=ball_tree, n_neighbors=11;, score=0.838 total time=   0.0s\n",
            "[CV 1/5] END algorithm=ball_tree, n_neighbors=12;, score=0.797 total time=   0.0s\n",
            "[CV 2/5] END algorithm=ball_tree, n_neighbors=12;, score=0.832 total time=   0.0s\n",
            "[CV 3/5] END algorithm=ball_tree, n_neighbors=12;, score=0.789 total time=   0.0s\n",
            "[CV 4/5] END algorithm=ball_tree, n_neighbors=12;, score=0.768 total time=   0.0s\n",
            "[CV 5/5] END algorithm=ball_tree, n_neighbors=12;, score=0.796 total time=   0.0s\n",
            "[CV 1/5] END ..algorithm=kd_tree, n_neighbors=1;, score=0.769 total time=   0.0s\n",
            "[CV 2/5] END ..algorithm=kd_tree, n_neighbors=1;, score=0.776 total time=   0.0s\n",
            "[CV 3/5] END ..algorithm=kd_tree, n_neighbors=1;, score=0.761 total time=   0.0s\n",
            "[CV 4/5] END ..algorithm=kd_tree, n_neighbors=1;, score=0.739 total time=   0.0s\n",
            "[CV 5/5] END ..algorithm=kd_tree, n_neighbors=1;, score=0.739 total time=   0.0s\n",
            "[CV 1/5] END ..algorithm=kd_tree, n_neighbors=2;, score=0.776 total time=   0.0s\n",
            "[CV 2/5] END ..algorithm=kd_tree, n_neighbors=2;, score=0.797 total time=   0.0s\n",
            "[CV 3/5] END ..algorithm=kd_tree, n_neighbors=2;, score=0.796 total time=   0.0s\n",
            "[CV 4/5] END ..algorithm=kd_tree, n_neighbors=2;, score=0.761 total time=   0.0s\n",
            "[CV 5/5] END ..algorithm=kd_tree, n_neighbors=2;, score=0.768 total time=   0.0s\n",
            "[CV 1/5] END ..algorithm=kd_tree, n_neighbors=3;, score=0.776 total time=   0.0s\n",
            "[CV 2/5] END ..algorithm=kd_tree, n_neighbors=3;, score=0.797 total time=   0.0s\n",
            "[CV 3/5] END ..algorithm=kd_tree, n_neighbors=3;, score=0.768 total time=   0.0s\n",
            "[CV 4/5] END ..algorithm=kd_tree, n_neighbors=3;, score=0.754 total time=   0.0s\n",
            "[CV 5/5] END ..algorithm=kd_tree, n_neighbors=3;, score=0.817 total time=   0.0s\n",
            "[CV 1/5] END ..algorithm=kd_tree, n_neighbors=4;, score=0.790 total time=   0.0s\n",
            "[CV 2/5] END ..algorithm=kd_tree, n_neighbors=4;, score=0.846 total time=   0.0s\n",
            "[CV 3/5] END ..algorithm=kd_tree, n_neighbors=4;, score=0.789 total time=   0.0s\n",
            "[CV 4/5] END ..algorithm=kd_tree, n_neighbors=4;, score=0.746 total time=   0.0s\n",
            "[CV 5/5] END ..algorithm=kd_tree, n_neighbors=4;, score=0.775 total time=   0.0s\n",
            "[CV 1/5] END ..algorithm=kd_tree, n_neighbors=5;, score=0.790 total time=   0.0s\n",
            "[CV 2/5] END ..algorithm=kd_tree, n_neighbors=5;, score=0.797 total time=   0.0s\n",
            "[CV 3/5] END ..algorithm=kd_tree, n_neighbors=5;, score=0.754 total time=   0.0s\n",
            "[CV 4/5] END ..algorithm=kd_tree, n_neighbors=5;, score=0.754 total time=   0.0s\n",
            "[CV 5/5] END ..algorithm=kd_tree, n_neighbors=5;, score=0.789 total time=   0.0s\n",
            "[CV 1/5] END ..algorithm=kd_tree, n_neighbors=6;, score=0.797 total time=   0.0s\n",
            "[CV 2/5] END ..algorithm=kd_tree, n_neighbors=6;, score=0.825 total time=   0.0s\n",
            "[CV 3/5] END ..algorithm=kd_tree, n_neighbors=6;, score=0.789 total time=   0.0s\n",
            "[CV 4/5] END ..algorithm=kd_tree, n_neighbors=6;, score=0.768 total time=   0.0s\n",
            "[CV 5/5] END ..algorithm=kd_tree, n_neighbors=6;, score=0.796 total time=   0.0s\n",
            "[CV 1/5] END ..algorithm=kd_tree, n_neighbors=7;, score=0.790 total time=   0.0s\n",
            "[CV 2/5] END ..algorithm=kd_tree, n_neighbors=7;, score=0.839 total time=   0.0s\n",
            "[CV 3/5] END ..algorithm=kd_tree, n_neighbors=7;, score=0.782 total time=   0.0s\n",
            "[CV 4/5] END ..algorithm=kd_tree, n_neighbors=7;, score=0.746 total time=   0.0s\n",
            "[CV 5/5] END ..algorithm=kd_tree, n_neighbors=7;, score=0.838 total time=   0.0s\n",
            "[CV 1/5] END ..algorithm=kd_tree, n_neighbors=8;, score=0.811 total time=   0.0s\n",
            "[CV 2/5] END ..algorithm=kd_tree, n_neighbors=8;, score=0.818 total time=   0.0s\n",
            "[CV 3/5] END ..algorithm=kd_tree, n_neighbors=8;, score=0.810 total time=   0.0s\n",
            "[CV 4/5] END ..algorithm=kd_tree, n_neighbors=8;, score=0.768 total time=   0.0s\n",
            "[CV 5/5] END ..algorithm=kd_tree, n_neighbors=8;, score=0.845 total time=   0.0s\n",
            "[CV 1/5] END ..algorithm=kd_tree, n_neighbors=9;, score=0.825 total time=   0.0s\n",
            "[CV 2/5] END ..algorithm=kd_tree, n_neighbors=9;, score=0.825 total time=   0.0s\n",
            "[CV 3/5] END ..algorithm=kd_tree, n_neighbors=9;, score=0.775 total time=   0.0s\n",
            "[CV 4/5] END ..algorithm=kd_tree, n_neighbors=9;, score=0.761 total time=   0.0s\n",
            "[CV 5/5] END ..algorithm=kd_tree, n_neighbors=9;, score=0.824 total time=   0.0s\n",
            "[CV 1/5] END .algorithm=kd_tree, n_neighbors=10;, score=0.811 total time=   0.0s\n",
            "[CV 2/5] END .algorithm=kd_tree, n_neighbors=10;, score=0.839 total time=   0.0s\n",
            "[CV 3/5] END .algorithm=kd_tree, n_neighbors=10;, score=0.775 total time=   0.0s\n",
            "[CV 4/5] END .algorithm=kd_tree, n_neighbors=10;, score=0.754 total time=   0.0s\n",
            "[CV 5/5] END .algorithm=kd_tree, n_neighbors=10;, score=0.845 total time=   0.0s\n",
            "[CV 1/5] END .algorithm=kd_tree, n_neighbors=11;, score=0.811 total time=   0.0s\n",
            "[CV 2/5] END .algorithm=kd_tree, n_neighbors=11;, score=0.839 total time=   0.0s\n",
            "[CV 3/5] END .algorithm=kd_tree, n_neighbors=11;, score=0.768 total time=   0.0s\n",
            "[CV 4/5] END .algorithm=kd_tree, n_neighbors=11;, score=0.761 total time=   0.0s\n",
            "[CV 5/5] END .algorithm=kd_tree, n_neighbors=11;, score=0.838 total time=   0.0s\n",
            "[CV 1/5] END .algorithm=kd_tree, n_neighbors=12;, score=0.797 total time=   0.0s\n",
            "[CV 2/5] END .algorithm=kd_tree, n_neighbors=12;, score=0.839 total time=   0.0s\n",
            "[CV 3/5] END .algorithm=kd_tree, n_neighbors=12;, score=0.782 total time=   0.0s\n",
            "[CV 4/5] END .algorithm=kd_tree, n_neighbors=12;, score=0.768 total time=   0.0s\n",
            "[CV 5/5] END .algorithm=kd_tree, n_neighbors=12;, score=0.796 total time=   0.0s\n",
            "[CV 1/5] END ....algorithm=brute, n_neighbors=1;, score=0.769 total time=   0.0s\n",
            "[CV 2/5] END ....algorithm=brute, n_neighbors=1;, score=0.755 total time=   0.0s\n",
            "[CV 3/5] END ....algorithm=brute, n_neighbors=1;, score=0.775 total time=   0.0s\n",
            "[CV 4/5] END ....algorithm=brute, n_neighbors=1;, score=0.732 total time=   0.0s\n",
            "[CV 5/5] END ....algorithm=brute, n_neighbors=1;, score=0.796 total time=   0.0s\n",
            "[CV 1/5] END ....algorithm=brute, n_neighbors=2;, score=0.783 total time=   0.0s\n",
            "[CV 2/5] END ....algorithm=brute, n_neighbors=2;, score=0.797 total time=   0.0s\n",
            "[CV 3/5] END ....algorithm=brute, n_neighbors=2;, score=0.796 total time=   0.0s\n",
            "[CV 4/5] END ....algorithm=brute, n_neighbors=2;, score=0.775 total time=   0.0s\n",
            "[CV 5/5] END ....algorithm=brute, n_neighbors=2;, score=0.768 total time=   0.0s\n",
            "[CV 1/5] END ....algorithm=brute, n_neighbors=3;, score=0.783 total time=   0.0s\n",
            "[CV 2/5] END ....algorithm=brute, n_neighbors=3;, score=0.797 total time=   0.0s\n",
            "[CV 3/5] END ....algorithm=brute, n_neighbors=3;, score=0.768 total time=   0.0s\n",
            "[CV 4/5] END ....algorithm=brute, n_neighbors=3;, score=0.775 total time=   0.0s\n",
            "[CV 5/5] END ....algorithm=brute, n_neighbors=3;, score=0.810 total time=   0.0s\n",
            "[CV 1/5] END ....algorithm=brute, n_neighbors=4;, score=0.783 total time=   0.0s\n",
            "[CV 2/5] END ....algorithm=brute, n_neighbors=4;, score=0.825 total time=   0.0s\n",
            "[CV 3/5] END ....algorithm=brute, n_neighbors=4;, score=0.810 total time=   0.0s\n",
            "[CV 4/5] END ....algorithm=brute, n_neighbors=4;, score=0.782 total time=   0.0s\n",
            "[CV 5/5] END ....algorithm=brute, n_neighbors=4;, score=0.768 total time=   0.0s\n",
            "[CV 1/5] END ....algorithm=brute, n_neighbors=5;, score=0.790 total time=   0.0s\n",
            "[CV 2/5] END ....algorithm=brute, n_neighbors=5;, score=0.790 total time=   0.0s\n",
            "[CV 3/5] END ....algorithm=brute, n_neighbors=5;, score=0.746 total time=   0.0s\n",
            "[CV 4/5] END ....algorithm=brute, n_neighbors=5;, score=0.775 total time=   0.0s\n",
            "[CV 5/5] END ....algorithm=brute, n_neighbors=5;, score=0.782 total time=   0.0s\n",
            "[CV 1/5] END ....algorithm=brute, n_neighbors=6;, score=0.797 total time=   0.0s\n",
            "[CV 2/5] END ....algorithm=brute, n_neighbors=6;, score=0.811 total time=   0.0s\n",
            "[CV 3/5] END ....algorithm=brute, n_neighbors=6;, score=0.768 total time=   0.0s\n",
            "[CV 4/5] END ....algorithm=brute, n_neighbors=6;, score=0.754 total time=   0.0s\n",
            "[CV 5/5] END ....algorithm=brute, n_neighbors=6;, score=0.796 total time=   0.0s\n",
            "[CV 1/5] END ....algorithm=brute, n_neighbors=7;, score=0.811 total time=   0.0s\n",
            "[CV 2/5] END ....algorithm=brute, n_neighbors=7;, score=0.825 total time=   0.0s\n",
            "[CV 3/5] END ....algorithm=brute, n_neighbors=7;, score=0.782 total time=   0.0s\n",
            "[CV 4/5] END ....algorithm=brute, n_neighbors=7;, score=0.746 total time=   0.0s\n",
            "[CV 5/5] END ....algorithm=brute, n_neighbors=7;, score=0.789 total time=   0.0s\n",
            "[CV 1/5] END ....algorithm=brute, n_neighbors=8;, score=0.818 total time=   0.0s\n",
            "[CV 2/5] END ....algorithm=brute, n_neighbors=8;, score=0.818 total time=   0.0s\n",
            "[CV 3/5] END ....algorithm=brute, n_neighbors=8;, score=0.754 total time=   0.0s\n",
            "[CV 4/5] END ....algorithm=brute, n_neighbors=8;, score=0.754 total time=   0.0s\n",
            "[CV 5/5] END ....algorithm=brute, n_neighbors=8;, score=0.789 total time=   0.0s\n",
            "[CV 1/5] END ....algorithm=brute, n_neighbors=9;, score=0.832 total time=   0.0s\n",
            "[CV 2/5] END ....algorithm=brute, n_neighbors=9;, score=0.818 total time=   0.0s\n",
            "[CV 3/5] END ....algorithm=brute, n_neighbors=9;, score=0.789 total time=   0.0s\n",
            "[CV 4/5] END ....algorithm=brute, n_neighbors=9;, score=0.754 total time=   0.0s\n",
            "[CV 5/5] END ....algorithm=brute, n_neighbors=9;, score=0.796 total time=   0.0s\n",
            "[CV 1/5] END ...algorithm=brute, n_neighbors=10;, score=0.818 total time=   0.0s\n",
            "[CV 2/5] END ...algorithm=brute, n_neighbors=10;, score=0.832 total time=   0.0s\n",
            "[CV 3/5] END ...algorithm=brute, n_neighbors=10;, score=0.782 total time=   0.0s\n",
            "[CV 4/5] END ...algorithm=brute, n_neighbors=10;, score=0.754 total time=   0.0s\n",
            "[CV 5/5] END ...algorithm=brute, n_neighbors=10;, score=0.803 total time=   0.0s\n",
            "[CV 1/5] END ...algorithm=brute, n_neighbors=11;, score=0.832 total time=   0.0s\n",
            "[CV 2/5] END ...algorithm=brute, n_neighbors=11;, score=0.839 total time=   0.0s\n",
            "[CV 3/5] END ...algorithm=brute, n_neighbors=11;, score=0.782 total time=   0.0s\n",
            "[CV 4/5] END ...algorithm=brute, n_neighbors=11;, score=0.761 total time=   0.0s\n",
            "[CV 5/5] END ...algorithm=brute, n_neighbors=11;, score=0.803 total time=   0.0s\n",
            "[CV 1/5] END ...algorithm=brute, n_neighbors=12;, score=0.811 total time=   0.0s\n",
            "[CV 2/5] END ...algorithm=brute, n_neighbors=12;, score=0.832 total time=   0.0s\n",
            "[CV 3/5] END ...algorithm=brute, n_neighbors=12;, score=0.796 total time=   0.0s\n",
            "[CV 4/5] END ...algorithm=brute, n_neighbors=12;, score=0.761 total time=   0.0s\n",
            "[CV 5/5] END ...algorithm=brute, n_neighbors=12;, score=0.803 total time=   0.0s\n"
          ]
        },
        {
          "output_type": "execute_result",
          "data": {
            "text/plain": [
              "Pipeline(steps=[('scaler', StandardScaler()),\n",
              "                ('estimator',\n",
              "                 GridSearchCV(estimator=KNeighborsClassifier(),\n",
              "                              param_grid={'algorithm': ['auto', 'ball_tree',\n",
              "                                                        'kd_tree', 'brute'],\n",
              "                                          'n_neighbors': range(1, 13)},\n",
              "                              verbose=3))])"
            ]
          },
          "metadata": {},
          "execution_count": 36
        }
      ]
    },
    {
      "cell_type": "code",
      "source": [
        "pipe[1].best_estimator_"
      ],
      "metadata": {
        "colab": {
          "base_uri": "https://localhost:8080/"
        },
        "id": "LPn_lJKNVKRq",
        "outputId": "88b32d1d-63d6-4b43-d3c9-07494940a03c"
      },
      "execution_count": null,
      "outputs": [
        {
          "output_type": "execute_result",
          "data": {
            "text/plain": [
              "KNeighborsClassifier(algorithm='ball_tree', n_neighbors=8)"
            ]
          },
          "metadata": {},
          "execution_count": 38
        }
      ]
    },
    {
      "cell_type": "code",
      "source": [
        "pipe[1].best_score_"
      ],
      "metadata": {
        "colab": {
          "base_uri": "https://localhost:8080/"
        },
        "id": "PGKW8xIgXk3u",
        "outputId": "3de2b251-8d07-4e5f-b42f-856399045b6b"
      },
      "execution_count": null,
      "outputs": [
        {
          "output_type": "execute_result",
          "data": {
            "text/plain": [
              "0.8131980695360976"
            ]
          },
          "metadata": {},
          "execution_count": 39
        }
      ]
    },
    {
      "cell_type": "code",
      "source": [
        "print(pipe.score(X_train, y_train))\n",
        "print(pipe.score(X_test, y_test))"
      ],
      "metadata": {
        "colab": {
          "base_uri": "https://localhost:8080/"
        },
        "id": "YKsMdq3kXzs-",
        "outputId": "a0ed69ad-d8a4-4652-ce7c-2ec81be6c3db"
      },
      "execution_count": null,
      "outputs": [
        {
          "output_type": "stream",
          "name": "stdout",
          "text": [
            "0.8286516853932584\n",
            "0.7877094972067039\n"
          ]
        }
      ]
    },
    {
      "cell_type": "code",
      "source": [
        "# Gridsearch CV KNN\n",
        "est = RandomForestClassifier()\n",
        "parameters = {'n_estimators':range(10,110,10)}\n",
        "gs = GridSearchCV(est, parameters)\n",
        "pipe = Pipeline([('scaler', StandardScaler()), ('estimator', gs)])\n",
        "pipe.fit(X_train, y_train)"
      ],
      "metadata": {
        "colab": {
          "base_uri": "https://localhost:8080/"
        },
        "id": "tG_MBbNyYYfo",
        "outputId": "b6fda99c-83a3-4400-fbaa-2a63ae32be77"
      },
      "execution_count": null,
      "outputs": [
        {
          "output_type": "execute_result",
          "data": {
            "text/plain": [
              "Pipeline(steps=[('scaler', StandardScaler()),\n",
              "                ('estimator',\n",
              "                 GridSearchCV(estimator=RandomForestClassifier(),\n",
              "                              param_grid={'n_estimators': range(10, 110, 10)}))])"
            ]
          },
          "metadata": {},
          "execution_count": 45
        }
      ]
    },
    {
      "cell_type": "code",
      "source": [
        "pipe[1].best_estimator_"
      ],
      "metadata": {
        "colab": {
          "base_uri": "https://localhost:8080/"
        },
        "id": "Q5CZomjXfln0",
        "outputId": "46e24e5c-c418-45ce-ce3f-7fa1658f961f"
      },
      "execution_count": null,
      "outputs": [
        {
          "output_type": "execute_result",
          "data": {
            "text/plain": [
              "RandomForestClassifier(n_estimators=40)"
            ]
          },
          "metadata": {},
          "execution_count": 47
        }
      ]
    },
    {
      "cell_type": "code",
      "source": [
        "print(pipe.score(X_train, y_train))\n",
        "print(pipe.score(X_test, y_test))"
      ],
      "metadata": {
        "colab": {
          "base_uri": "https://localhost:8080/"
        },
        "id": "9N2vD9L8dvyc",
        "outputId": "652bf4dd-a410-46df-8a28-9faacbed4a6b"
      },
      "execution_count": null,
      "outputs": [
        {
          "output_type": "stream",
          "name": "stdout",
          "text": [
            "0.8764044943820225\n",
            "0.7877094972067039\n"
          ]
        }
      ]
    },
    {
      "cell_type": "code",
      "source": [
        "# Voting Classifier\n",
        "clf = VotingClassifier(estimators=[('lr', KNeighborsClassifier(n_neighbors=3)), ('rf', RandomForestClassifier(n_estimators=40)), ('gnb', GaussianNB())], voting='hard')\n",
        "pipe = Pipeline([('scaler', StandardScaler()), ('estimator', clf)])\n",
        "pipe.fit(X_train, y_train)"
      ],
      "metadata": {
        "colab": {
          "base_uri": "https://localhost:8080/"
        },
        "id": "BaCD3EaPfagy",
        "outputId": "d9384b94-c434-45bf-b5ed-e32e01889a12"
      },
      "execution_count": null,
      "outputs": [
        {
          "output_type": "execute_result",
          "data": {
            "text/plain": [
              "Pipeline(steps=[('scaler', StandardScaler()),\n",
              "                ('estimator',\n",
              "                 VotingClassifier(estimators=[('lr',\n",
              "                                               KNeighborsClassifier(n_neighbors=3)),\n",
              "                                              ('rf',\n",
              "                                               RandomForestClassifier(n_estimators=40)),\n",
              "                                              ('gnb', GaussianNB())]))])"
            ]
          },
          "metadata": {},
          "execution_count": 60
        }
      ]
    },
    {
      "cell_type": "code",
      "source": [
        "print(pipe.score(X_train, y_train))\n",
        "print(pipe.score(X_test, y_test))"
      ],
      "metadata": {
        "colab": {
          "base_uri": "https://localhost:8080/"
        },
        "id": "PNUP0Tt6gefn",
        "outputId": "b0267db8-e6a8-4ae8-faab-b3762aa55a81"
      },
      "execution_count": null,
      "outputs": [
        {
          "output_type": "stream",
          "name": "stdout",
          "text": [
            "0.8623595505617978\n",
            "0.8324022346368715\n"
          ]
        }
      ]
    },
    {
      "cell_type": "code",
      "source": [
        "# Stacking clf\n",
        "base_estimators = [('KNN',KNeighborsClassifier(n_neighbors=3)),('gnb', GaussianNB()),('RF',RandomForestClassifier(n_estimators=40))]\n",
        "final_estimator = KNeighborsClassifier(n_neighbors=3)\n",
        "clf_stack = StackingClassifier(estimators = base_estimators, final_estimator = final_estimator, n_jobs = -1)\n",
        "pipe = Pipeline([('scaler', StandardScaler()), ('estimator', clf_stack)])\n",
        "pipe.fit(X_train, y_train)"
      ],
      "metadata": {
        "colab": {
          "base_uri": "https://localhost:8080/"
        },
        "id": "JjKbrKJfiWsc",
        "outputId": "844bbe2d-7355-4262-8104-d83b432fb059"
      },
      "execution_count": null,
      "outputs": [
        {
          "output_type": "execute_result",
          "data": {
            "text/plain": [
              "Pipeline(steps=[('scaler', StandardScaler()),\n",
              "                ('estimator',\n",
              "                 StackingClassifier(estimators=[('KNN',\n",
              "                                                 KNeighborsClassifier(n_neighbors=3)),\n",
              "                                                ('gnb', GaussianNB()),\n",
              "                                                ('RF',\n",
              "                                                 RandomForestClassifier(n_estimators=40))],\n",
              "                                    final_estimator=KNeighborsClassifier(n_neighbors=3),\n",
              "                                    n_jobs=-1))])"
            ]
          },
          "metadata": {},
          "execution_count": 54
        }
      ]
    },
    {
      "cell_type": "code",
      "source": [
        "print(pipe.score(X_train, y_train))\n",
        "print(pipe.score(X_test, y_test))"
      ],
      "metadata": {
        "colab": {
          "base_uri": "https://localhost:8080/"
        },
        "id": "9RILYI6qjQcU",
        "outputId": "569f745e-161f-4261-d4af-3c94ad9cad67"
      },
      "execution_count": null,
      "outputs": [
        {
          "output_type": "stream",
          "name": "stdout",
          "text": [
            "0.8146067415730337\n",
            "0.7932960893854749\n"
          ]
        }
      ]
    },
    {
      "cell_type": "code",
      "source": [
        "clf_boost = AdaBoostClassifier(base_estimator=RandomForestClassifier(n_estimators=40),n_estimators=10)\n",
        "pipe = Pipeline([('scaler', StandardScaler()), ('estimator', clf_boost)])\n",
        "pipe.fit(X_train, y_train)\n",
        "print(pipe.score(X_train, y_train))\n",
        "print(pipe.score(X_test, y_test))"
      ],
      "metadata": {
        "colab": {
          "base_uri": "https://localhost:8080/"
        },
        "id": "g5KdbBMEjy88",
        "outputId": "90ef219c-ada4-486d-d6f3-59e357235794"
      },
      "execution_count": null,
      "outputs": [
        {
          "output_type": "stream",
          "name": "stdout",
          "text": [
            "0.8778089887640449\n",
            "0.8044692737430168\n"
          ]
        }
      ]
    },
    {
      "cell_type": "code",
      "source": [
        "pipe[1]"
      ],
      "metadata": {
        "colab": {
          "base_uri": "https://localhost:8080/"
        },
        "id": "ciTpl1Gfkj60",
        "outputId": "31b76835-8b16-4408-8ea7-08e31b46fa2f"
      },
      "execution_count": null,
      "outputs": [
        {
          "output_type": "execute_result",
          "data": {
            "text/plain": [
              "VotingClassifier(estimators=[('lr', KNeighborsClassifier(n_neighbors=3)),\n",
              "                             ('rf', RandomForestClassifier(n_estimators=40)),\n",
              "                             ('gnb', GaussianNB())])"
            ]
          },
          "metadata": {},
          "execution_count": 62
        }
      ]
    },
    {
      "cell_type": "code",
      "source": [
        "# Métricas\n",
        "modelo = pipe\n",
        "yhat = modelo.predict(X_test)"
      ],
      "metadata": {
        "id": "wiXV5W2EkexK"
      },
      "execution_count": null,
      "outputs": []
    },
    {
      "cell_type": "code",
      "source": [
        "print(f'Precisión: {np.round(precision_score(y_test,yhat),2)}')"
      ],
      "metadata": {
        "colab": {
          "base_uri": "https://localhost:8080/"
        },
        "id": "nZtTZz6ulGen",
        "outputId": "5f198477-7532-4f47-ebe4-6bbe48fea88e"
      },
      "execution_count": null,
      "outputs": [
        {
          "output_type": "stream",
          "name": "stdout",
          "text": [
            "Precisión: 0.81\n"
          ]
        }
      ]
    },
    {
      "cell_type": "code",
      "source": [
        "print(f'Recall: {np.round(recall_score(y_test,yhat),2)}')"
      ],
      "metadata": {
        "colab": {
          "base_uri": "https://localhost:8080/"
        },
        "id": "6oTEtM-6l5YI",
        "outputId": "f3280201-50f6-4138-f950-c40889cc1a94"
      },
      "execution_count": null,
      "outputs": [
        {
          "output_type": "stream",
          "name": "stdout",
          "text": [
            "Recall: 0.77\n"
          ]
        }
      ]
    },
    {
      "cell_type": "code",
      "source": [
        "cm=confusion_matrix(y_test, yhat)\n",
        "df_cm = pd.DataFrame(cm,index=['No_sobrevive','Sobrevive'],columns = ['No_sobrevive','Sobrevive'])\n",
        "plt.figure(figsize = (10,10))\n",
        "sn.heatmap(df_cm, annot=True, annot_kws={\"size\": 16},fmt='g')"
      ],
      "metadata": {
        "colab": {
          "base_uri": "https://localhost:8080/",
          "height": 609
        },
        "id": "7T8u1qtVn5Wh",
        "outputId": "49a5537c-556f-4b14-82da-5c1f9f06fd8b"
      },
      "execution_count": null,
      "outputs": [
        {
          "output_type": "execute_result",
          "data": {
            "text/plain": [
              "<matplotlib.axes._subplots.AxesSubplot at 0x7f8fcea70850>"
            ]
          },
          "metadata": {},
          "execution_count": 76
        },
        {
          "output_type": "display_data",
          "data": {
            "text/plain": [
              "<Figure size 720x720 with 2 Axes>"
            ],
            "image/png": "[encoded data removed]"
          },
          "metadata": {
            "needs_background": "light"
          }
        }
      ]
    }
  ]
}