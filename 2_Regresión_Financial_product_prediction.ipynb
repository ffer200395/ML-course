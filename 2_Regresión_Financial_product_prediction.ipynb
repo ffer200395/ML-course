{
  "nbformat": 4,
  "nbformat_minor": 0,
  "metadata": {
    "colab": {
      "provenance": [],
      "authorship_tag": "ABX9TyNIkadKWrCCRX05Zmqqh/DG",
      "include_colab_link": true
    },
    "kernelspec": {
      "name": "python3",
      "display_name": "Python 3"
    },
    "language_info": {
      "name": "python"
    }
  },
  "cells": [
    {
      "cell_type": "markdown",
      "metadata": {
        "id": "view-in-github",
        "colab_type": "text"
      },
      "source": [
        "<a href=\"https://colab.research.google.com/github/ffer200395/ML-course/blob/main/2_Regresi%C3%B3n_Financial_product_prediction.ipynb\" target=\"_parent\"><img src=\"https://colab.research.google.com/assets/colab-badge.svg\" alt=\"Open In Colab\"/></a>"
      ]
    },
    {
      "cell_type": "code",
      "execution_count": 1,
      "metadata": {
        "id": "nWfhPhiOo3cZ"
      },
      "outputs": [],
      "source": [
        "# For data handling\n",
        "import pandas as pd\n",
        "import numpy as np\n",
        "from sklearn.model_selection import train_test_split\n",
        "\n",
        "# For scaling data\n",
        "from sklearn.preprocessing import StandardScaler\n",
        "from sklearn.model_selection import train_test_split\n",
        "from sklearn.pipeline import make_pipeline\n",
        "\n",
        "# Models\n",
        "from sklearn.linear_model import LinearRegression\n",
        "from sklearn.ensemble import RandomForestRegressor\n",
        "\n",
        "# Metrics \n",
        "from sklearn.metrics import mean_absolute_error"
      ]
    },
    {
      "cell_type": "code",
      "source": [
        "# Read price data\n",
        "df = pd.read_csv('/content/BAC_price.csv', index_col=0, parse_dates=True)\n",
        "df"
      ],
      "metadata": {
        "colab": {
          "base_uri": "https://localhost:8080/",
          "height": 455
        },
        "id": "95zji5k5C1mR",
        "outputId": "ed564201-8963-4dbd-a1ca-a00f26461054"
      },
      "execution_count": 2,
      "outputs": [
        {
          "output_type": "execute_result",
          "data": {
            "text/plain": [
              "                                Open       High        Low      Close  \\\n",
              "Date                                                                    \n",
              "1973-02-21 00:00:00-05:00   1.640601   1.640601   1.640601   1.640601   \n",
              "1973-02-22 00:00:00-05:00   1.646142   1.646142   1.646142   1.646142   \n",
              "1973-02-23 00:00:00-05:00   1.640601   1.640601   1.640601   1.640601   \n",
              "1973-02-26 00:00:00-05:00   1.640601   1.640601   1.640601   1.640601   \n",
              "1973-02-27 00:00:00-05:00   1.640601   1.640601   1.640601   1.640601   \n",
              "...                              ...        ...        ...        ...   \n",
              "2022-11-11 00:00:00-05:00  38.189999  38.599998  37.970001  38.410000   \n",
              "2022-11-14 00:00:00-05:00  38.090000  38.259998  37.750000  37.759998   \n",
              "2022-11-15 00:00:00-05:00  38.189999  38.299999  37.299999  37.700001   \n",
              "2022-11-16 00:00:00-05:00  37.610001  37.740002  37.200001  37.360001   \n",
              "2022-11-17 00:00:00-05:00  36.880001  37.060001  36.657101  36.680000   \n",
              "\n",
              "                             Volume  Dividends  Stock Splits  \n",
              "Date                                                          \n",
              "1973-02-21 00:00:00-05:00     99200        0.0           0.0  \n",
              "1973-02-22 00:00:00-05:00     47200        0.0           0.0  \n",
              "1973-02-23 00:00:00-05:00    133600        0.0           0.0  \n",
              "1973-02-26 00:00:00-05:00     24000        0.0           0.0  \n",
              "1973-02-27 00:00:00-05:00     41600        0.0           0.0  \n",
              "...                             ...        ...           ...  \n",
              "2022-11-11 00:00:00-05:00  35676800        0.0           0.0  \n",
              "2022-11-14 00:00:00-05:00  35541400        0.0           0.0  \n",
              "2022-11-15 00:00:00-05:00  46082800        0.0           0.0  \n",
              "2022-11-16 00:00:00-05:00  23808400        0.0           0.0  \n",
              "2022-11-17 00:00:00-05:00   2912144        0.0           0.0  \n",
              "\n",
              "[12548 rows x 7 columns]"
            ],
            "text/html": [
              "\n",
              "  <div id=\"df-b59a03c7-dd50-4339-8f74-acad874a9857\">\n",
              "    <div class=\"colab-df-container\">\n",
              "      <div>\n",
              "<style scoped>\n",
              "    .dataframe tbody tr th:only-of-type {\n",
              "        vertical-align: middle;\n",
              "    }\n",
              "\n",
              "    .dataframe tbody tr th {\n",
              "        vertical-align: top;\n",
              "    }\n",
              "\n",
              "    .dataframe thead th {\n",
              "        text-align: right;\n",
              "    }\n",
              "</style>\n",
              "<table border=\"1\" class=\"dataframe\">\n",
              "  <thead>\n",
              "    <tr style=\"text-align: right;\">\n",
              "      <th></th>\n",
              "      <th>Open</th>\n",
              "      <th>High</th>\n",
              "      <th>Low</th>\n",
              "      <th>Close</th>\n",
              "      <th>Volume</th>\n",
              "      <th>Dividends</th>\n",
              "      <th>Stock Splits</th>\n",
              "    </tr>\n",
              "    <tr>\n",
              "      <th>Date</th>\n",
              "      <th></th>\n",
              "      <th></th>\n",
              "      <th></th>\n",
              "      <th></th>\n",
              "      <th></th>\n",
              "      <th></th>\n",
              "      <th></th>\n",
              "    </tr>\n",
              "  </thead>\n",
              "  <tbody>\n",
              "    <tr>\n",
              "      <th>1973-02-21 00:00:00-05:00</th>\n",
              "      <td>1.640601</td>\n",
              "      <td>1.640601</td>\n",
              "      <td>1.640601</td>\n",
              "      <td>1.640601</td>\n",
              "      <td>99200</td>\n",
              "      <td>0.0</td>\n",
              "      <td>0.0</td>\n",
              "    </tr>\n",
              "    <tr>\n",
              "      <th>1973-02-22 00:00:00-05:00</th>\n",
              "      <td>1.646142</td>\n",
              "      <td>1.646142</td>\n",
              "      <td>1.646142</td>\n",
              "      <td>1.646142</td>\n",
              "      <td>47200</td>\n",
              "      <td>0.0</td>\n",
              "      <td>0.0</td>\n",
              "    </tr>\n",
              "    <tr>\n",
              "      <th>1973-02-23 00:00:00-05:00</th>\n",
              "      <td>1.640601</td>\n",
              "      <td>1.640601</td>\n",
              "      <td>1.640601</td>\n",
              "      <td>1.640601</td>\n",
              "      <td>133600</td>\n",
              "      <td>0.0</td>\n",
              "      <td>0.0</td>\n",
              "    </tr>\n",
              "    <tr>\n",
              "      <th>1973-02-26 00:00:00-05:00</th>\n",
              "      <td>1.640601</td>\n",
              "      <td>1.640601</td>\n",
              "      <td>1.640601</td>\n",
              "      <td>1.640601</td>\n",
              "      <td>24000</td>\n",
              "      <td>0.0</td>\n",
              "      <td>0.0</td>\n",
              "    </tr>\n",
              "    <tr>\n",
              "      <th>1973-02-27 00:00:00-05:00</th>\n",
              "      <td>1.640601</td>\n",
              "      <td>1.640601</td>\n",
              "      <td>1.640601</td>\n",
              "      <td>1.640601</td>\n",
              "      <td>41600</td>\n",
              "      <td>0.0</td>\n",
              "      <td>0.0</td>\n",
              "    </tr>\n",
              "    <tr>\n",
              "      <th>...</th>\n",
              "      <td>...</td>\n",
              "      <td>...</td>\n",
              "      <td>...</td>\n",
              "      <td>...</td>\n",
              "      <td>...</td>\n",
              "      <td>...</td>\n",
              "      <td>...</td>\n",
              "    </tr>\n",
              "    <tr>\n",
              "      <th>2022-11-11 00:00:00-05:00</th>\n",
              "      <td>38.189999</td>\n",
              "      <td>38.599998</td>\n",
              "      <td>37.970001</td>\n",
              "      <td>38.410000</td>\n",
              "      <td>35676800</td>\n",
              "      <td>0.0</td>\n",
              "      <td>0.0</td>\n",
              "    </tr>\n",
              "    <tr>\n",
              "      <th>2022-11-14 00:00:00-05:00</th>\n",
              "      <td>38.090000</td>\n",
              "      <td>38.259998</td>\n",
              "      <td>37.750000</td>\n",
              "      <td>37.759998</td>\n",
              "      <td>35541400</td>\n",
              "      <td>0.0</td>\n",
              "      <td>0.0</td>\n",
              "    </tr>\n",
              "    <tr>\n",
              "      <th>2022-11-15 00:00:00-05:00</th>\n",
              "      <td>38.189999</td>\n",
              "      <td>38.299999</td>\n",
              "      <td>37.299999</td>\n",
              "      <td>37.700001</td>\n",
              "      <td>46082800</td>\n",
              "      <td>0.0</td>\n",
              "      <td>0.0</td>\n",
              "    </tr>\n",
              "    <tr>\n",
              "      <th>2022-11-16 00:00:00-05:00</th>\n",
              "      <td>37.610001</td>\n",
              "      <td>37.740002</td>\n",
              "      <td>37.200001</td>\n",
              "      <td>37.360001</td>\n",
              "      <td>23808400</td>\n",
              "      <td>0.0</td>\n",
              "      <td>0.0</td>\n",
              "    </tr>\n",
              "    <tr>\n",
              "      <th>2022-11-17 00:00:00-05:00</th>\n",
              "      <td>36.880001</td>\n",
              "      <td>37.060001</td>\n",
              "      <td>36.657101</td>\n",
              "      <td>36.680000</td>\n",
              "      <td>2912144</td>\n",
              "      <td>0.0</td>\n",
              "      <td>0.0</td>\n",
              "    </tr>\n",
              "  </tbody>\n",
              "</table>\n",
              "<p>12548 rows × 7 columns</p>\n",
              "</div>\n",
              "      <button class=\"colab-df-convert\" onclick=\"convertToInteractive('df-b59a03c7-dd50-4339-8f74-acad874a9857')\"\n",
              "              title=\"Convert this dataframe to an interactive table.\"\n",
              "              style=\"display:none;\">\n",
              "        \n",
              "  <svg xmlns=\"http://www.w3.org/2000/svg\" height=\"24px\"viewBox=\"0 0 24 24\"\n",
              "       width=\"24px\">\n",
              "    <path d=\"M0 0h24v24H0V0z\" fill=\"none\"/>\n",
              "    <path d=\"M18.56 5.44l.94 2.06.94-2.06 2.06-.94-2.06-.94-.94-2.06-.94 2.06-2.06.94zm-11 1L8.5 8.5l.94-2.06 2.06-.94-2.06-.94L8.5 2.5l-.94 2.06-2.06.94zm10 10l.94 2.06.94-2.06 2.06-.94-2.06-.94-.94-2.06-.94 2.06-2.06.94z\"/><path d=\"M17.41 7.96l-1.37-1.37c-.4-.4-.92-.59-1.43-.59-.52 0-1.04.2-1.43.59L10.3 9.45l-7.72 7.72c-.78.78-.78 2.05 0 2.83L4 21.41c.39.39.9.59 1.41.59.51 0 1.02-.2 1.41-.59l7.78-7.78 2.81-2.81c.8-.78.8-2.07 0-2.86zM5.41 20L4 18.59l7.72-7.72 1.47 1.35L5.41 20z\"/>\n",
              "  </svg>\n",
              "      </button>\n",
              "      \n",
              "  <style>\n",
              "    .colab-df-container {\n",
              "      display:flex;\n",
              "      flex-wrap:wrap;\n",
              "      gap: 12px;\n",
              "    }\n",
              "\n",
              "    .colab-df-convert {\n",
              "      background-color: #E8F0FE;\n",
              "      border: none;\n",
              "      border-radius: 50%;\n",
              "      cursor: pointer;\n",
              "      display: none;\n",
              "      fill: #1967D2;\n",
              "      height: 32px;\n",
              "      padding: 0 0 0 0;\n",
              "      width: 32px;\n",
              "    }\n",
              "\n",
              "    .colab-df-convert:hover {\n",
              "      background-color: #E2EBFA;\n",
              "      box-shadow: 0px 1px 2px rgba(60, 64, 67, 0.3), 0px 1px 3px 1px rgba(60, 64, 67, 0.15);\n",
              "      fill: #174EA6;\n",
              "    }\n",
              "\n",
              "    [theme=dark] .colab-df-convert {\n",
              "      background-color: #3B4455;\n",
              "      fill: #D2E3FC;\n",
              "    }\n",
              "\n",
              "    [theme=dark] .colab-df-convert:hover {\n",
              "      background-color: #434B5C;\n",
              "      box-shadow: 0px 1px 3px 1px rgba(0, 0, 0, 0.15);\n",
              "      filter: drop-shadow(0px 1px 2px rgba(0, 0, 0, 0.3));\n",
              "      fill: #FFFFFF;\n",
              "    }\n",
              "  </style>\n",
              "\n",
              "      <script>\n",
              "        const buttonEl =\n",
              "          document.querySelector('#df-b59a03c7-dd50-4339-8f74-acad874a9857 button.colab-df-convert');\n",
              "        buttonEl.style.display =\n",
              "          google.colab.kernel.accessAllowed ? 'block' : 'none';\n",
              "\n",
              "        async function convertToInteractive(key) {\n",
              "          const element = document.querySelector('#df-b59a03c7-dd50-4339-8f74-acad874a9857');\n",
              "          const dataTable =\n",
              "            await google.colab.kernel.invokeFunction('convertToInteractive',\n",
              "                                                     [key], {});\n",
              "          if (!dataTable) return;\n",
              "\n",
              "          const docLinkHtml = 'Like what you see? Visit the ' +\n",
              "            '<a target=\"_blank\" href=https://colab.research.google.com/notebooks/data_table.ipynb>data table notebook</a>'\n",
              "            + ' to learn more about interactive tables.';\n",
              "          element.innerHTML = '';\n",
              "          dataTable['output_type'] = 'display_data';\n",
              "          await google.colab.output.renderOutput(dataTable, element);\n",
              "          const docLink = document.createElement('div');\n",
              "          docLink.innerHTML = docLinkHtml;\n",
              "          element.appendChild(docLink);\n",
              "        }\n",
              "      </script>\n",
              "    </div>\n",
              "  </div>\n",
              "  "
            ]
          },
          "metadata": {},
          "execution_count": 2
        }
      ]
    },
    {
      "cell_type": "code",
      "source": [
        "# Calculate mean price\n",
        "df['Mean'] = df[['High','Low']].mean(axis=1)\n",
        "df"
      ],
      "metadata": {
        "colab": {
          "base_uri": "https://localhost:8080/",
          "height": 455
        },
        "id": "SIWnwgDLC1r7",
        "outputId": "bff39a73-c1d0-4d5b-cb54-b4280c146554"
      },
      "execution_count": 3,
      "outputs": [
        {
          "output_type": "execute_result",
          "data": {
            "text/plain": [
              "                                Open       High        Low      Close  \\\n",
              "Date                                                                    \n",
              "1973-02-21 00:00:00-05:00   1.640601   1.640601   1.640601   1.640601   \n",
              "1973-02-22 00:00:00-05:00   1.646142   1.646142   1.646142   1.646142   \n",
              "1973-02-23 00:00:00-05:00   1.640601   1.640601   1.640601   1.640601   \n",
              "1973-02-26 00:00:00-05:00   1.640601   1.640601   1.640601   1.640601   \n",
              "1973-02-27 00:00:00-05:00   1.640601   1.640601   1.640601   1.640601   \n",
              "...                              ...        ...        ...        ...   \n",
              "2022-11-11 00:00:00-05:00  38.189999  38.599998  37.970001  38.410000   \n",
              "2022-11-14 00:00:00-05:00  38.090000  38.259998  37.750000  37.759998   \n",
              "2022-11-15 00:00:00-05:00  38.189999  38.299999  37.299999  37.700001   \n",
              "2022-11-16 00:00:00-05:00  37.610001  37.740002  37.200001  37.360001   \n",
              "2022-11-17 00:00:00-05:00  36.880001  37.060001  36.657101  36.680000   \n",
              "\n",
              "                             Volume  Dividends  Stock Splits       Mean  \n",
              "Date                                                                     \n",
              "1973-02-21 00:00:00-05:00     99200        0.0           0.0   1.640601  \n",
              "1973-02-22 00:00:00-05:00     47200        0.0           0.0   1.646142  \n",
              "1973-02-23 00:00:00-05:00    133600        0.0           0.0   1.640601  \n",
              "1973-02-26 00:00:00-05:00     24000        0.0           0.0   1.640601  \n",
              "1973-02-27 00:00:00-05:00     41600        0.0           0.0   1.640601  \n",
              "...                             ...        ...           ...        ...  \n",
              "2022-11-11 00:00:00-05:00  35676800        0.0           0.0  38.285000  \n",
              "2022-11-14 00:00:00-05:00  35541400        0.0           0.0  38.004999  \n",
              "2022-11-15 00:00:00-05:00  46082800        0.0           0.0  37.799999  \n",
              "2022-11-16 00:00:00-05:00  23808400        0.0           0.0  37.470001  \n",
              "2022-11-17 00:00:00-05:00   2912144        0.0           0.0  36.858551  \n",
              "\n",
              "[12548 rows x 8 columns]"
            ],
            "text/html": [
              "\n",
              "  <div id=\"df-1d9ec216-41c0-496f-a1b6-abb7983fdcd5\">\n",
              "    <div class=\"colab-df-container\">\n",
              "      <div>\n",
              "<style scoped>\n",
              "    .dataframe tbody tr th:only-of-type {\n",
              "        vertical-align: middle;\n",
              "    }\n",
              "\n",
              "    .dataframe tbody tr th {\n",
              "        vertical-align: top;\n",
              "    }\n",
              "\n",
              "    .dataframe thead th {\n",
              "        text-align: right;\n",
              "    }\n",
              "</style>\n",
              "<table border=\"1\" class=\"dataframe\">\n",
              "  <thead>\n",
              "    <tr style=\"text-align: right;\">\n",
              "      <th></th>\n",
              "      <th>Open</th>\n",
              "      <th>High</th>\n",
              "      <th>Low</th>\n",
              "      <th>Close</th>\n",
              "      <th>Volume</th>\n",
              "      <th>Dividends</th>\n",
              "      <th>Stock Splits</th>\n",
              "      <th>Mean</th>\n",
              "    </tr>\n",
              "    <tr>\n",
              "      <th>Date</th>\n",
              "      <th></th>\n",
              "      <th></th>\n",
              "      <th></th>\n",
              "      <th></th>\n",
              "      <th></th>\n",
              "      <th></th>\n",
              "      <th></th>\n",
              "      <th></th>\n",
              "    </tr>\n",
              "  </thead>\n",
              "  <tbody>\n",
              "    <tr>\n",
              "      <th>1973-02-21 00:00:00-05:00</th>\n",
              "      <td>1.640601</td>\n",
              "      <td>1.640601</td>\n",
              "      <td>1.640601</td>\n",
              "      <td>1.640601</td>\n",
              "      <td>99200</td>\n",
              "      <td>0.0</td>\n",
              "      <td>0.0</td>\n",
              "      <td>1.640601</td>\n",
              "    </tr>\n",
              "    <tr>\n",
              "      <th>1973-02-22 00:00:00-05:00</th>\n",
              "      <td>1.646142</td>\n",
              "      <td>1.646142</td>\n",
              "      <td>1.646142</td>\n",
              "      <td>1.646142</td>\n",
              "      <td>47200</td>\n",
              "      <td>0.0</td>\n",
              "      <td>0.0</td>\n",
              "      <td>1.646142</td>\n",
              "    </tr>\n",
              "    <tr>\n",
              "      <th>1973-02-23 00:00:00-05:00</th>\n",
              "      <td>1.640601</td>\n",
              "      <td>1.640601</td>\n",
              "      <td>1.640601</td>\n",
              "      <td>1.640601</td>\n",
              "      <td>133600</td>\n",
              "      <td>0.0</td>\n",
              "      <td>0.0</td>\n",
              "      <td>1.640601</td>\n",
              "    </tr>\n",
              "    <tr>\n",
              "      <th>1973-02-26 00:00:00-05:00</th>\n",
              "      <td>1.640601</td>\n",
              "      <td>1.640601</td>\n",
              "      <td>1.640601</td>\n",
              "      <td>1.640601</td>\n",
              "      <td>24000</td>\n",
              "      <td>0.0</td>\n",
              "      <td>0.0</td>\n",
              "      <td>1.640601</td>\n",
              "    </tr>\n",
              "    <tr>\n",
              "      <th>1973-02-27 00:00:00-05:00</th>\n",
              "      <td>1.640601</td>\n",
              "      <td>1.640601</td>\n",
              "      <td>1.640601</td>\n",
              "      <td>1.640601</td>\n",
              "      <td>41600</td>\n",
              "      <td>0.0</td>\n",
              "      <td>0.0</td>\n",
              "      <td>1.640601</td>\n",
              "    </tr>\n",
              "    <tr>\n",
              "      <th>...</th>\n",
              "      <td>...</td>\n",
              "      <td>...</td>\n",
              "      <td>...</td>\n",
              "      <td>...</td>\n",
              "      <td>...</td>\n",
              "      <td>...</td>\n",
              "      <td>...</td>\n",
              "      <td>...</td>\n",
              "    </tr>\n",
              "    <tr>\n",
              "      <th>2022-11-11 00:00:00-05:00</th>\n",
              "      <td>38.189999</td>\n",
              "      <td>38.599998</td>\n",
              "      <td>37.970001</td>\n",
              "      <td>38.410000</td>\n",
              "      <td>35676800</td>\n",
              "      <td>0.0</td>\n",
              "      <td>0.0</td>\n",
              "      <td>38.285000</td>\n",
              "    </tr>\n",
              "    <tr>\n",
              "      <th>2022-11-14 00:00:00-05:00</th>\n",
              "      <td>38.090000</td>\n",
              "      <td>38.259998</td>\n",
              "      <td>37.750000</td>\n",
              "      <td>37.759998</td>\n",
              "      <td>35541400</td>\n",
              "      <td>0.0</td>\n",
              "      <td>0.0</td>\n",
              "      <td>38.004999</td>\n",
              "    </tr>\n",
              "    <tr>\n",
              "      <th>2022-11-15 00:00:00-05:00</th>\n",
              "      <td>38.189999</td>\n",
              "      <td>38.299999</td>\n",
              "      <td>37.299999</td>\n",
              "      <td>37.700001</td>\n",
              "      <td>46082800</td>\n",
              "      <td>0.0</td>\n",
              "      <td>0.0</td>\n",
              "      <td>37.799999</td>\n",
              "    </tr>\n",
              "    <tr>\n",
              "      <th>2022-11-16 00:00:00-05:00</th>\n",
              "      <td>37.610001</td>\n",
              "      <td>37.740002</td>\n",
              "      <td>37.200001</td>\n",
              "      <td>37.360001</td>\n",
              "      <td>23808400</td>\n",
              "      <td>0.0</td>\n",
              "      <td>0.0</td>\n",
              "      <td>37.470001</td>\n",
              "    </tr>\n",
              "    <tr>\n",
              "      <th>2022-11-17 00:00:00-05:00</th>\n",
              "      <td>36.880001</td>\n",
              "      <td>37.060001</td>\n",
              "      <td>36.657101</td>\n",
              "      <td>36.680000</td>\n",
              "      <td>2912144</td>\n",
              "      <td>0.0</td>\n",
              "      <td>0.0</td>\n",
              "      <td>36.858551</td>\n",
              "    </tr>\n",
              "  </tbody>\n",
              "</table>\n",
              "<p>12548 rows × 8 columns</p>\n",
              "</div>\n",
              "      <button class=\"colab-df-convert\" onclick=\"convertToInteractive('df-1d9ec216-41c0-496f-a1b6-abb7983fdcd5')\"\n",
              "              title=\"Convert this dataframe to an interactive table.\"\n",
              "              style=\"display:none;\">\n",
              "        \n",
              "  <svg xmlns=\"http://www.w3.org/2000/svg\" height=\"24px\"viewBox=\"0 0 24 24\"\n",
              "       width=\"24px\">\n",
              "    <path d=\"M0 0h24v24H0V0z\" fill=\"none\"/>\n",
              "    <path d=\"M18.56 5.44l.94 2.06.94-2.06 2.06-.94-2.06-.94-.94-2.06-.94 2.06-2.06.94zm-11 1L8.5 8.5l.94-2.06 2.06-.94-2.06-.94L8.5 2.5l-.94 2.06-2.06.94zm10 10l.94 2.06.94-2.06 2.06-.94-2.06-.94-.94-2.06-.94 2.06-2.06.94z\"/><path d=\"M17.41 7.96l-1.37-1.37c-.4-.4-.92-.59-1.43-.59-.52 0-1.04.2-1.43.59L10.3 9.45l-7.72 7.72c-.78.78-.78 2.05 0 2.83L4 21.41c.39.39.9.59 1.41.59.51 0 1.02-.2 1.41-.59l7.78-7.78 2.81-2.81c.8-.78.8-2.07 0-2.86zM5.41 20L4 18.59l7.72-7.72 1.47 1.35L5.41 20z\"/>\n",
              "  </svg>\n",
              "      </button>\n",
              "      \n",
              "  <style>\n",
              "    .colab-df-container {\n",
              "      display:flex;\n",
              "      flex-wrap:wrap;\n",
              "      gap: 12px;\n",
              "    }\n",
              "\n",
              "    .colab-df-convert {\n",
              "      background-color: #E8F0FE;\n",
              "      border: none;\n",
              "      border-radius: 50%;\n",
              "      cursor: pointer;\n",
              "      display: none;\n",
              "      fill: #1967D2;\n",
              "      height: 32px;\n",
              "      padding: 0 0 0 0;\n",
              "      width: 32px;\n",
              "    }\n",
              "\n",
              "    .colab-df-convert:hover {\n",
              "      background-color: #E2EBFA;\n",
              "      box-shadow: 0px 1px 2px rgba(60, 64, 67, 0.3), 0px 1px 3px 1px rgba(60, 64, 67, 0.15);\n",
              "      fill: #174EA6;\n",
              "    }\n",
              "\n",
              "    [theme=dark] .colab-df-convert {\n",
              "      background-color: #3B4455;\n",
              "      fill: #D2E3FC;\n",
              "    }\n",
              "\n",
              "    [theme=dark] .colab-df-convert:hover {\n",
              "      background-color: #434B5C;\n",
              "      box-shadow: 0px 1px 3px 1px rgba(0, 0, 0, 0.15);\n",
              "      filter: drop-shadow(0px 1px 2px rgba(0, 0, 0, 0.3));\n",
              "      fill: #FFFFFF;\n",
              "    }\n",
              "  </style>\n",
              "\n",
              "      <script>\n",
              "        const buttonEl =\n",
              "          document.querySelector('#df-1d9ec216-41c0-496f-a1b6-abb7983fdcd5 button.colab-df-convert');\n",
              "        buttonEl.style.display =\n",
              "          google.colab.kernel.accessAllowed ? 'block' : 'none';\n",
              "\n",
              "        async function convertToInteractive(key) {\n",
              "          const element = document.querySelector('#df-1d9ec216-41c0-496f-a1b6-abb7983fdcd5');\n",
              "          const dataTable =\n",
              "            await google.colab.kernel.invokeFunction('convertToInteractive',\n",
              "                                                     [key], {});\n",
              "          if (!dataTable) return;\n",
              "\n",
              "          const docLinkHtml = 'Like what you see? Visit the ' +\n",
              "            '<a target=\"_blank\" href=https://colab.research.google.com/notebooks/data_table.ipynb>data table notebook</a>'\n",
              "            + ' to learn more about interactive tables.';\n",
              "          element.innerHTML = '';\n",
              "          dataTable['output_type'] = 'display_data';\n",
              "          await google.colab.output.renderOutput(dataTable, element);\n",
              "          const docLink = document.createElement('div');\n",
              "          docLink.innerHTML = docLinkHtml;\n",
              "          element.appendChild(docLink);\n",
              "        }\n",
              "      </script>\n",
              "    </div>\n",
              "  </div>\n",
              "  "
            ]
          },
          "metadata": {},
          "execution_count": 3
        }
      ]
    },
    {
      "cell_type": "code",
      "source": [
        "# Plot the price\n",
        "df['Mean'].plot()"
      ],
      "metadata": {
        "colab": {
          "base_uri": "https://localhost:8080/",
          "height": 286
        },
        "id": "lWVUkw3BVqoe",
        "outputId": "fcba0b7a-4a65-4d41-cd74-34a39f7cf1df"
      },
      "execution_count": 4,
      "outputs": [
        {
          "output_type": "execute_result",
          "data": {
            "text/plain": [
              "<matplotlib.axes._subplots.AxesSubplot at 0x7f19c2fb5a60>"
            ]
          },
          "metadata": {},
          "execution_count": 4
        },
        {
          "output_type": "display_data",
          "data": {
            "text/plain": [
              "<Figure size 432x288 with 1 Axes>"
            ],
            "image/png": "[encoded data removed]"
          },
          "metadata": {
            "needs_background": "light"
          }
        }
      ]
    },
    {
      "cell_type": "code",
      "source": [
        "# Time series that will be used to create a dataset of prices\n",
        "prices = df['Mean'].values\n",
        "prices"
      ],
      "metadata": {
        "colab": {
          "base_uri": "https://localhost:8080/"
        },
        "id": "gA6EkaTPE13i",
        "outputId": "e97ec368-64f9-45ed-bc7a-d46cc111ea40"
      },
      "execution_count": 5,
      "outputs": [
        {
          "output_type": "execute_result",
          "data": {
            "text/plain": [
              "array([ 1.64060116,  1.64614213,  1.64060116, ..., 37.79999924,\n",
              "       37.47000122, 36.85855103])"
            ]
          },
          "metadata": {},
          "execution_count": 5
        }
      ]
    },
    {
      "cell_type": "code",
      "source": [
        "# Split the dataset into segments of length 4\n",
        "n = 4\n",
        "X = np.array([prices[i:i+n] for i in range(len(prices)) if len(prices[i:i+n])==n])\n",
        "X, y = X[:,:3], X[:,-1]"
      ],
      "metadata": {
        "id": "dfU7L4AAIeEZ"
      },
      "execution_count": 6,
      "outputs": []
    },
    {
      "cell_type": "code",
      "source": [
        "print(X,y)"
      ],
      "metadata": {
        "colab": {
          "base_uri": "https://localhost:8080/"
        },
        "id": "2MOX1ILnwEHP",
        "outputId": "7644eb53-fd0b-4831-8d13-869d4ad43803"
      },
      "execution_count": 7,
      "outputs": [
        {
          "output_type": "stream",
          "name": "stdout",
          "text": [
            "[[ 1.64060116  1.64614213  1.64060116]\n",
            " [ 1.64614213  1.64060116  1.64060116]\n",
            " [ 1.64060116  1.64060116  1.64060116]\n",
            " ...\n",
            " [37.68000031 38.28499985 38.00499916]\n",
            " [38.28499985 38.00499916 37.79999924]\n",
            " [38.00499916 37.79999924 37.47000122]] [ 1.64060116  1.64060116  1.64060116 ... 37.79999924 37.47000122\n",
            " 36.85855103]\n"
          ]
        }
      ]
    },
    {
      "cell_type": "code",
      "source": [
        "# 80% of the data set for training set\n",
        "X_train, X_test, y_train, y_test = train_test_split(X, y, test_size=0.2, random_state=42)"
      ],
      "metadata": {
        "id": "ClvzrzJTE6Bl"
      },
      "execution_count": 8,
      "outputs": []
    },
    {
      "cell_type": "code",
      "source": [
        "# Scale the data\n",
        "pipe = make_pipeline(StandardScaler(), LinearRegression())\n",
        "pipe.fit(X_train, y_train)  # apply scaling on training data"
      ],
      "metadata": {
        "id": "MGb5nBeAFdSt",
        "colab": {
          "base_uri": "https://localhost:8080/"
        },
        "outputId": "b38de02b-e5d5-45c7-f8c3-c327947ba29f"
      },
      "execution_count": 11,
      "outputs": [
        {
          "output_type": "execute_result",
          "data": {
            "text/plain": [
              "Pipeline(steps=[('standardscaler', StandardScaler()),\n",
              "                ('linearregression', LinearRegression())])"
            ]
          },
          "metadata": {},
          "execution_count": 11
        }
      ]
    },
    {
      "cell_type": "code",
      "source": [
        "pipe[1].coef_"
      ],
      "metadata": {
        "colab": {
          "base_uri": "https://localhost:8080/"
        },
        "id": "LG8KqoTsyV1L",
        "outputId": "523c2300-badf-4ca3-fdec-965a89a0e7f6"
      },
      "execution_count": 12,
      "outputs": [
        {
          "output_type": "execute_result",
          "data": {
            "text/plain": [
              "array([ 0.5311447 , -2.74740825, 13.93719033])"
            ]
          },
          "metadata": {},
          "execution_count": 12
        }
      ]
    },
    {
      "cell_type": "code",
      "source": [
        "yhat = pipe.predict(X_test)"
      ],
      "metadata": {
        "id": "0FClWapz0i0s"
      },
      "execution_count": 13,
      "outputs": []
    },
    {
      "cell_type": "code",
      "source": [
        "yhat"
      ],
      "metadata": {
        "colab": {
          "base_uri": "https://localhost:8080/"
        },
        "id": "w7JNbHxJ0pEO",
        "outputId": "b81039c8-c7a2-4107-e306-93965c16add3"
      },
      "execution_count": 14,
      "outputs": [
        {
          "output_type": "execute_result",
          "data": {
            "text/plain": [
              "array([ 1.95719143,  0.63074514,  0.5995975 , ..., 14.71789616,\n",
              "        5.74354668, 30.12950094])"
            ]
          },
          "metadata": {},
          "execution_count": 14
        }
      ]
    },
    {
      "cell_type": "code",
      "source": [
        "mean_absolute_error(y_test, yhat)"
      ],
      "metadata": {
        "colab": {
          "base_uri": "https://localhost:8080/"
        },
        "id": "idCWOpDs1KQF",
        "outputId": "f27b7230-83d9-4b46-d1ee-b22175af58b0"
      },
      "execution_count": 15,
      "outputs": [
        {
          "output_type": "execute_result",
          "data": {
            "text/plain": [
              "0.1403390743880365"
            ]
          },
          "metadata": {},
          "execution_count": 15
        }
      ]
    }
  ]
}